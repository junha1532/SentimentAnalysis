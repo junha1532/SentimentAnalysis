{
  "nbformat": 4,
  "nbformat_minor": 0,
  "metadata": {
    "colab": {
      "name": "CNN_2_W2V_5.ipynb",
      "provenance": [],
      "collapsed_sections": []
    },
    "kernelspec": {
      "name": "python3",
      "display_name": "Python 3"
    },
    "accelerator": "GPU"
  },
  "cells": [
    {
      "cell_type": "code",
      "metadata": {
        "id": "wL4QsSGDv-uE",
        "colab_type": "code",
        "outputId": "f5d81540-c991-4eb1-c283-a1f36177b0f6",
        "colab": {
          "base_uri": "https://localhost:8080/",
          "height": 54
        }
      },
      "source": [
        "from google.colab import drive\n",
        "drive.mount('/content/drive')"
      ],
      "execution_count": 50,
      "outputs": [
        {
          "output_type": "stream",
          "text": [
            "Drive already mounted at /content/drive; to attempt to forcibly remount, call drive.mount(\"/content/drive\", force_remount=True).\n"
          ],
          "name": "stdout"
        }
      ]
    },
    {
      "cell_type": "code",
      "metadata": {
        "id": "vF4g_jnIwFxC",
        "colab_type": "code",
        "outputId": "9f5d7aef-3256-42ef-e9b0-82f6f35f36e0",
        "colab": {
          "base_uri": "https://localhost:8080/",
          "height": 258
        }
      },
      "source": [
        "import numpy as np\n",
        "import pandas as pd\n",
        "import random as rd\n",
        "data = pd.read_csv(\"drive/My Drive/code/clean_tweet.csv\",index_col=0)\n",
        "data.head()"
      ],
      "execution_count": 51,
      "outputs": [
        {
          "output_type": "stream",
          "text": [
            "/usr/local/lib/python3.6/dist-packages/numpy/lib/arraysetops.py:568: FutureWarning: elementwise comparison failed; returning scalar instead, but in the future will perform elementwise comparison\n",
            "  mask |= (ar1 == a)\n"
          ],
          "name": "stderr"
        },
        {
          "output_type": "execute_result",
          "data": {
            "text/html": [
              "<div>\n",
              "<style scoped>\n",
              "    .dataframe tbody tr th:only-of-type {\n",
              "        vertical-align: middle;\n",
              "    }\n",
              "\n",
              "    .dataframe tbody tr th {\n",
              "        vertical-align: top;\n",
              "    }\n",
              "\n",
              "    .dataframe thead th {\n",
              "        text-align: right;\n",
              "    }\n",
              "</style>\n",
              "<table border=\"1\" class=\"dataframe\">\n",
              "  <thead>\n",
              "    <tr style=\"text-align: right;\">\n",
              "      <th></th>\n",
              "      <th>tweet_text</th>\n",
              "      <th>target</th>\n",
              "    </tr>\n",
              "  </thead>\n",
              "  <tbody>\n",
              "    <tr>\n",
              "      <th>0</th>\n",
              "      <td>awww that bummer you shoulda got david carr of...</td>\n",
              "      <td>0</td>\n",
              "    </tr>\n",
              "    <tr>\n",
              "      <th>1</th>\n",
              "      <td>is upset that he can not update his facebook b...</td>\n",
              "      <td>0</td>\n",
              "    </tr>\n",
              "    <tr>\n",
              "      <th>2</th>\n",
              "      <td>dived many times for the ball managed to save ...</td>\n",
              "      <td>0</td>\n",
              "    </tr>\n",
              "    <tr>\n",
              "      <th>3</th>\n",
              "      <td>my whole body feels itchy and like its on fire</td>\n",
              "      <td>0</td>\n",
              "    </tr>\n",
              "    <tr>\n",
              "      <th>4</th>\n",
              "      <td>no it not behaving at all mad why am here beca...</td>\n",
              "      <td>0</td>\n",
              "    </tr>\n",
              "  </tbody>\n",
              "</table>\n",
              "</div>"
            ],
            "text/plain": [
              "                                          tweet_text  target\n",
              "0  awww that bummer you shoulda got david carr of...       0\n",
              "1  is upset that he can not update his facebook b...       0\n",
              "2  dived many times for the ball managed to save ...       0\n",
              "3     my whole body feels itchy and like its on fire       0\n",
              "4  no it not behaving at all mad why am here beca...       0"
            ]
          },
          "metadata": {
            "tags": []
          },
          "execution_count": 51
        }
      ]
    },
    {
      "cell_type": "code",
      "metadata": {
        "id": "3QhscIGUwL4Z",
        "colab_type": "code",
        "outputId": "0c38b508-4578-44a0-eed1-b6804cbd8685",
        "colab": {
          "base_uri": "https://localhost:8080/",
          "height": 669
        }
      },
      "source": [
        "data[data.isnull().any(axis=1)].head(20)\n"
      ],
      "execution_count": 52,
      "outputs": [
        {
          "output_type": "execute_result",
          "data": {
            "text/html": [
              "<div>\n",
              "<style scoped>\n",
              "    .dataframe tbody tr th:only-of-type {\n",
              "        vertical-align: middle;\n",
              "    }\n",
              "\n",
              "    .dataframe tbody tr th {\n",
              "        vertical-align: top;\n",
              "    }\n",
              "\n",
              "    .dataframe thead th {\n",
              "        text-align: right;\n",
              "    }\n",
              "</style>\n",
              "<table border=\"1\" class=\"dataframe\">\n",
              "  <thead>\n",
              "    <tr style=\"text-align: right;\">\n",
              "      <th></th>\n",
              "      <th>tweet_text</th>\n",
              "      <th>target</th>\n",
              "    </tr>\n",
              "  </thead>\n",
              "  <tbody>\n",
              "    <tr>\n",
              "      <th>208</th>\n",
              "      <td>NaN</td>\n",
              "      <td>0</td>\n",
              "    </tr>\n",
              "    <tr>\n",
              "      <th>249</th>\n",
              "      <td>NaN</td>\n",
              "      <td>0</td>\n",
              "    </tr>\n",
              "    <tr>\n",
              "      <th>282</th>\n",
              "      <td>NaN</td>\n",
              "      <td>0</td>\n",
              "    </tr>\n",
              "    <tr>\n",
              "      <th>398</th>\n",
              "      <td>NaN</td>\n",
              "      <td>0</td>\n",
              "    </tr>\n",
              "    <tr>\n",
              "      <th>430</th>\n",
              "      <td>NaN</td>\n",
              "      <td>0</td>\n",
              "    </tr>\n",
              "    <tr>\n",
              "      <th>1011</th>\n",
              "      <td>NaN</td>\n",
              "      <td>0</td>\n",
              "    </tr>\n",
              "    <tr>\n",
              "      <th>1014</th>\n",
              "      <td>NaN</td>\n",
              "      <td>0</td>\n",
              "    </tr>\n",
              "    <tr>\n",
              "      <th>1231</th>\n",
              "      <td>NaN</td>\n",
              "      <td>0</td>\n",
              "    </tr>\n",
              "    <tr>\n",
              "      <th>1421</th>\n",
              "      <td>NaN</td>\n",
              "      <td>0</td>\n",
              "    </tr>\n",
              "    <tr>\n",
              "      <th>1486</th>\n",
              "      <td>NaN</td>\n",
              "      <td>0</td>\n",
              "    </tr>\n",
              "    <tr>\n",
              "      <th>1641</th>\n",
              "      <td>NaN</td>\n",
              "      <td>0</td>\n",
              "    </tr>\n",
              "    <tr>\n",
              "      <th>2898</th>\n",
              "      <td>NaN</td>\n",
              "      <td>0</td>\n",
              "    </tr>\n",
              "    <tr>\n",
              "      <th>4377</th>\n",
              "      <td>NaN</td>\n",
              "      <td>0</td>\n",
              "    </tr>\n",
              "    <tr>\n",
              "      <th>4508</th>\n",
              "      <td>NaN</td>\n",
              "      <td>0</td>\n",
              "    </tr>\n",
              "    <tr>\n",
              "      <th>6058</th>\n",
              "      <td>NaN</td>\n",
              "      <td>0</td>\n",
              "    </tr>\n",
              "    <tr>\n",
              "      <th>6419</th>\n",
              "      <td>NaN</td>\n",
              "      <td>0</td>\n",
              "    </tr>\n",
              "    <tr>\n",
              "      <th>7840</th>\n",
              "      <td>NaN</td>\n",
              "      <td>0</td>\n",
              "    </tr>\n",
              "    <tr>\n",
              "      <th>8838</th>\n",
              "      <td>NaN</td>\n",
              "      <td>0</td>\n",
              "    </tr>\n",
              "    <tr>\n",
              "      <th>9072</th>\n",
              "      <td>NaN</td>\n",
              "      <td>0</td>\n",
              "    </tr>\n",
              "    <tr>\n",
              "      <th>9556</th>\n",
              "      <td>NaN</td>\n",
              "      <td>0</td>\n",
              "    </tr>\n",
              "  </tbody>\n",
              "</table>\n",
              "</div>"
            ],
            "text/plain": [
              "     tweet_text  target\n",
              "208         NaN       0\n",
              "249         NaN       0\n",
              "282         NaN       0\n",
              "398         NaN       0\n",
              "430         NaN       0\n",
              "1011        NaN       0\n",
              "1014        NaN       0\n",
              "1231        NaN       0\n",
              "1421        NaN       0\n",
              "1486        NaN       0\n",
              "1641        NaN       0\n",
              "2898        NaN       0\n",
              "4377        NaN       0\n",
              "4508        NaN       0\n",
              "6058        NaN       0\n",
              "6419        NaN       0\n",
              "7840        NaN       0\n",
              "8838        NaN       0\n",
              "9072        NaN       0\n",
              "9556        NaN       0"
            ]
          },
          "metadata": {
            "tags": []
          },
          "execution_count": 52
        }
      ]
    },
    {
      "cell_type": "code",
      "metadata": {
        "id": "6kl_9tYEwO9Q",
        "colab_type": "code",
        "outputId": "f865d720-be3d-4704-e9ad-ce324c9f66d7",
        "colab": {
          "base_uri": "https://localhost:8080/",
          "height": 136
        }
      },
      "source": [
        "data.dropna(inplace=True) #NAN values are coming from just @username, delete them \n",
        "data.reset_index(drop=True,inplace=True)\n",
        "data.info()"
      ],
      "execution_count": 53,
      "outputs": [
        {
          "output_type": "stream",
          "text": [
            "<class 'pandas.core.frame.DataFrame'>\n",
            "RangeIndex: 1596041 entries, 0 to 1596040\n",
            "Data columns (total 2 columns):\n",
            "tweet_text    1596041 non-null object\n",
            "target        1596041 non-null int64\n",
            "dtypes: int64(1), object(1)\n",
            "memory usage: 24.4+ MB\n"
          ],
          "name": "stdout"
        }
      ]
    },
    {
      "cell_type": "code",
      "metadata": {
        "id": "35jqo63awQmV",
        "colab_type": "code",
        "outputId": "17f78188-4299-4d16-ba7c-f07a94c7cb93",
        "colab": {
          "base_uri": "https://localhost:8080/",
          "height": 49
        }
      },
      "source": [
        "data[data.isnull().any(axis=1)].head() #No more null data\n"
      ],
      "execution_count": 54,
      "outputs": [
        {
          "output_type": "execute_result",
          "data": {
            "text/html": [
              "<div>\n",
              "<style scoped>\n",
              "    .dataframe tbody tr th:only-of-type {\n",
              "        vertical-align: middle;\n",
              "    }\n",
              "\n",
              "    .dataframe tbody tr th {\n",
              "        vertical-align: top;\n",
              "    }\n",
              "\n",
              "    .dataframe thead th {\n",
              "        text-align: right;\n",
              "    }\n",
              "</style>\n",
              "<table border=\"1\" class=\"dataframe\">\n",
              "  <thead>\n",
              "    <tr style=\"text-align: right;\">\n",
              "      <th></th>\n",
              "      <th>tweet_text</th>\n",
              "      <th>target</th>\n",
              "    </tr>\n",
              "  </thead>\n",
              "  <tbody>\n",
              "  </tbody>\n",
              "</table>\n",
              "</div>"
            ],
            "text/plain": [
              "Empty DataFrame\n",
              "Columns: [tweet_text, target]\n",
              "Index: []"
            ]
          },
          "metadata": {
            "tags": []
          },
          "execution_count": 54
        }
      ]
    },
    {
      "cell_type": "code",
      "metadata": {
        "id": "CkOadjyzxqov",
        "colab_type": "code",
        "colab": {}
      },
      "source": [
        "x = data.tweet_text\n",
        "y = data.target\n"
      ],
      "execution_count": 0,
      "outputs": []
    },
    {
      "cell_type": "code",
      "metadata": {
        "id": "Sow-4TBMxyRg",
        "colab_type": "code",
        "colab": {}
      },
      "source": [
        "# from sklearn.model_selection import train_test_split\n",
        "# SEED = 2000\n",
        "# x_train, x_validation_and_test, y_train, y_validation_and_test = train_test_split(x, y, test_size=.02, random_state=SEED)\n",
        "# x_validation, x_test, y_validation, y_test = train_test_split(x_validation_and_test, y_validation_and_test, test_size=.5, random_state=SEED)"
      ],
      "execution_count": 0,
      "outputs": []
    },
    {
      "cell_type": "code",
      "metadata": {
        "id": "3WPdv79jwRsn",
        "colab_type": "code",
        "colab": {}
      },
      "source": [
        "from tqdm import tqdm\n",
        "import gensim\n",
        "from gensim.models.word2vec import Word2Vec\n",
        "from gensim.models.doc2vec import TaggedDocument\n",
        "import multiprocessing\n",
        "from sklearn import utils\n",
        "\n",
        "def labelize_tweets_ug(tweets,label):\n",
        "    result = []\n",
        "    prefix = label\n",
        "    for i, t in zip(tweets.index, tweets):\n",
        "        result.append(TaggedDocument(t.split(), [prefix + '_%s' % i]))\n",
        "    return result"
      ],
      "execution_count": 0,
      "outputs": []
    },
    {
      "cell_type": "code",
      "metadata": {
        "id": "ss8xvjNyxdbm",
        "colab_type": "code",
        "colab": {}
      },
      "source": [
        "all_x = pd.concat([x])\n",
        "all_x_w2v = labelize_tweets_ug(all_x, 'all')"
      ],
      "execution_count": 0,
      "outputs": []
    },
    {
      "cell_type": "code",
      "metadata": {
        "id": "HdnpoQJCytSd",
        "colab_type": "code",
        "outputId": "79eae7e1-033c-453b-f82d-16a0f91628be",
        "colab": {
          "base_uri": "https://localhost:8080/",
          "height": 34
        }
      },
      "source": [
        "cores = multiprocessing.cpu_count()\n",
        "model_ug_cbow = Word2Vec(sg=0, size=100, negative=5, window=2, min_count=2, workers=cores, alpha=0.065, min_alpha=0.065)\n",
        "model_ug_cbow.build_vocab([x.words for x in tqdm(all_x_w2v)])"
      ],
      "execution_count": 0,
      "outputs": [
        {
          "output_type": "stream",
          "text": [
            "100%|██████████| 1596041/1596041 [00:00<00:00, 3010277.03it/s]\n"
          ],
          "name": "stderr"
        }
      ]
    },
    {
      "cell_type": "code",
      "metadata": {
        "id": "nRMGXKyJy1sL",
        "colab_type": "code",
        "outputId": "f9993394-9eb9-464a-f954-95405ccd0abf",
        "colab": {
          "base_uri": "https://localhost:8080/",
          "height": 561
        }
      },
      "source": [
        "%%time\n",
        "for epoch in range(30):\n",
        "    model_ug_cbow.train(utils.shuffle([x.words for x in tqdm(all_x_w2v)]), total_examples=len(all_x_w2v), epochs=1)\n",
        "    model_ug_cbow.alpha -= 0.002\n",
        "    model_ug_cbow.min_alpha = model_ug_cbow.alpha"
      ],
      "execution_count": 0,
      "outputs": [
        {
          "output_type": "stream",
          "text": [
            "100%|██████████| 1596041/1596041 [00:00<00:00, 3033764.81it/s]\n",
            "100%|██████████| 1596041/1596041 [00:00<00:00, 3131472.90it/s]\n",
            "100%|██████████| 1596041/1596041 [00:00<00:00, 3152310.45it/s]\n",
            "100%|██████████| 1596041/1596041 [00:00<00:00, 3162339.76it/s]\n",
            "100%|██████████| 1596041/1596041 [00:00<00:00, 3063081.15it/s]\n",
            "100%|██████████| 1596041/1596041 [00:00<00:00, 3165899.18it/s]\n",
            "100%|██████████| 1596041/1596041 [00:00<00:00, 3108685.73it/s]\n",
            "100%|██████████| 1596041/1596041 [00:00<00:00, 3241509.50it/s]\n",
            "100%|██████████| 1596041/1596041 [00:00<00:00, 3260116.65it/s]\n",
            "100%|██████████| 1596041/1596041 [00:00<00:00, 3215036.34it/s]\n",
            "100%|██████████| 1596041/1596041 [00:00<00:00, 3215159.87it/s]\n",
            "100%|██████████| 1596041/1596041 [00:00<00:00, 3191875.01it/s]\n",
            "100%|██████████| 1596041/1596041 [00:00<00:00, 3300200.18it/s]\n",
            "100%|██████████| 1596041/1596041 [00:00<00:00, 3035732.14it/s]\n",
            "100%|██████████| 1596041/1596041 [00:00<00:00, 3163302.11it/s]\n",
            "100%|██████████| 1596041/1596041 [00:00<00:00, 3219573.04it/s]\n",
            "100%|██████████| 1596041/1596041 [00:00<00:00, 3208771.91it/s]\n",
            "100%|██████████| 1596041/1596041 [00:00<00:00, 3132765.44it/s]\n",
            "100%|██████████| 1596041/1596041 [00:00<00:00, 3215891.98it/s]\n",
            "100%|██████████| 1596041/1596041 [00:00<00:00, 3128795.98it/s]\n",
            "100%|██████████| 1596041/1596041 [00:00<00:00, 3236896.73it/s]\n",
            "100%|██████████| 1596041/1596041 [00:00<00:00, 3208538.14it/s]\n",
            "100%|██████████| 1596041/1596041 [00:00<00:00, 3195736.18it/s]\n",
            "100%|██████████| 1596041/1596041 [00:00<00:00, 3223355.66it/s]\n",
            "100%|██████████| 1596041/1596041 [00:00<00:00, 3215579.95it/s]\n",
            "100%|██████████| 1596041/1596041 [00:00<00:00, 3219571.49it/s]\n",
            "100%|██████████| 1596041/1596041 [00:00<00:00, 3257957.25it/s]\n",
            "100%|██████████| 1596041/1596041 [00:00<00:00, 3304528.68it/s]\n",
            "100%|██████████| 1596041/1596041 [00:00<00:00, 3254857.24it/s]\n",
            "100%|██████████| 1596041/1596041 [00:00<00:00, 3225954.37it/s]\n"
          ],
          "name": "stderr"
        },
        {
          "output_type": "stream",
          "text": [
            "CPU times: user 20min 15s, sys: 3.96 s, total: 20min 19s\n",
            "Wall time: 10min 56s\n"
          ],
          "name": "stdout"
        }
      ]
    },
    {
      "cell_type": "code",
      "metadata": {
        "id": "qctzHLRzy30v",
        "colab_type": "code",
        "outputId": "41d4a869-e4e9-4b69-f12c-94c60097b26b",
        "colab": {
          "base_uri": "https://localhost:8080/",
          "height": 34
        }
      },
      "source": [
        "model_ug_sg = Word2Vec(sg=1, size=100, negative=5, window=2, min_count=2, workers=cores, alpha=0.065, min_alpha=0.065)\n",
        "model_ug_sg.build_vocab([x.words for x in tqdm(all_x_w2v)])"
      ],
      "execution_count": 0,
      "outputs": [
        {
          "output_type": "stream",
          "text": [
            "100%|██████████| 1596041/1596041 [00:00<00:00, 3134491.94it/s]\n"
          ],
          "name": "stderr"
        }
      ]
    },
    {
      "cell_type": "code",
      "metadata": {
        "id": "wTgzaMZEy5Ir",
        "colab_type": "code",
        "outputId": "c3a1b079-d0f4-4af7-d540-f0659e8fd01d",
        "colab": {
          "base_uri": "https://localhost:8080/",
          "height": 561
        }
      },
      "source": [
        "%%time\n",
        "for epoch in range(30):\n",
        "    model_ug_sg.train(utils.shuffle([x.words for x in tqdm(all_x_w2v)]), total_examples=len(all_x_w2v), epochs=1)\n",
        "    model_ug_sg.alpha -= 0.002\n",
        "    model_ug_sg.min_alpha = model_ug_sg.alpha"
      ],
      "execution_count": 0,
      "outputs": [
        {
          "output_type": "stream",
          "text": [
            "100%|██████████| 1596041/1596041 [00:00<00:00, 3068845.40it/s]\n",
            "100%|██████████| 1596041/1596041 [00:00<00:00, 3115721.89it/s]\n",
            "100%|██████████| 1596041/1596041 [00:00<00:00, 3171932.54it/s]\n",
            "100%|██████████| 1596041/1596041 [00:00<00:00, 3157860.02it/s]\n",
            "100%|██████████| 1596041/1596041 [00:00<00:00, 3178165.46it/s]\n",
            "100%|██████████| 1596041/1596041 [00:00<00:00, 3193220.94it/s]\n",
            "100%|██████████| 1596041/1596041 [00:00<00:00, 3168016.19it/s]\n",
            "100%|██████████| 1596041/1596041 [00:00<00:00, 3111157.71it/s]\n",
            "100%|██████████| 1596041/1596041 [00:00<00:00, 3203569.41it/s]\n",
            "100%|██████████| 1596041/1596041 [00:00<00:00, 3131773.23it/s]\n",
            "100%|██████████| 1596041/1596041 [00:00<00:00, 3162106.74it/s]\n",
            "100%|██████████| 1596041/1596041 [00:00<00:00, 3192018.07it/s]\n",
            "100%|██████████| 1596041/1596041 [00:00<00:00, 3190242.84it/s]\n",
            "100%|██████████| 1596041/1596041 [00:00<00:00, 3202902.66it/s]\n",
            "100%|██████████| 1596041/1596041 [00:00<00:00, 3169546.15it/s]\n",
            "100%|██████████| 1596041/1596041 [00:00<00:00, 3225685.45it/s]\n",
            "100%|██████████| 1596041/1596041 [00:00<00:00, 3264375.60it/s]\n",
            "100%|██████████| 1596041/1596041 [00:00<00:00, 3165399.18it/s]\n",
            "100%|██████████| 1596041/1596041 [00:00<00:00, 3258618.57it/s]\n",
            "100%|██████████| 1596041/1596041 [00:00<00:00, 3227424.12it/s]\n",
            "100%|██████████| 1596041/1596041 [00:00<00:00, 3165180.67it/s]\n",
            "100%|██████████| 1596041/1596041 [00:00<00:00, 3221984.21it/s]\n",
            "100%|██████████| 1596041/1596041 [00:00<00:00, 3150669.55it/s]\n",
            "100%|██████████| 1596041/1596041 [00:00<00:00, 3184933.50it/s]\n",
            "100%|██████████| 1596041/1596041 [00:00<00:00, 3140272.02it/s]\n",
            "100%|██████████| 1596041/1596041 [00:00<00:00, 3033528.35it/s]\n",
            "100%|██████████| 1596041/1596041 [00:00<00:00, 3162906.04it/s]\n",
            "100%|██████████| 1596041/1596041 [00:00<00:00, 3081329.67it/s]\n",
            "100%|██████████| 1596041/1596041 [00:00<00:00, 3180292.87it/s]\n",
            "100%|██████████| 1596041/1596041 [00:00<00:00, 3036501.88it/s]\n"
          ],
          "name": "stderr"
        },
        {
          "output_type": "stream",
          "text": [
            "CPU times: user 35min 16s, sys: 4.05 s, total: 35min 20s\n",
            "Wall time: 18min 25s\n"
          ],
          "name": "stdout"
        }
      ]
    },
    {
      "cell_type": "code",
      "metadata": {
        "id": "KZZpYxKzzMIE",
        "colab_type": "code",
        "outputId": "6e9b28c2-2021-4819-b3d8-06017b9392c1",
        "colab": {
          "base_uri": "https://localhost:8080/",
          "height": 71
        }
      },
      "source": [
        "model_ug_cbow.save('drive/My Drive/w2v_model_ug_cbow.word2vec')\n",
        "model_ug_sg.save('drive/My Drive/w2v_model_ug_sg.word2vec')"
      ],
      "execution_count": 0,
      "outputs": [
        {
          "output_type": "stream",
          "text": [
            "/usr/local/lib/python3.6/dist-packages/smart_open/smart_open_lib.py:402: UserWarning: This function is deprecated, use smart_open.open instead. See the migration notes for details: https://github.com/RaRe-Technologies/smart_open/blob/master/README.rst#migrating-to-the-new-open-function\n",
            "  'See the migration notes for details: %s' % _MIGRATION_NOTES_URL\n"
          ],
          "name": "stderr"
        }
      ]
    },
    {
      "cell_type": "code",
      "metadata": {
        "id": "KA5zvGe06Hts",
        "colab_type": "code",
        "outputId": "5d7f5086-a815-4449-bc1b-1a0458edc47d",
        "colab": {
          "base_uri": "https://localhost:8080/",
          "height": 71
        }
      },
      "source": [
        "from gensim.models import KeyedVectors\n",
        "model_ug_cbow = KeyedVectors.load('drive/My Drive/code/w2v_model_ug_cbow.word2vec')\n",
        "model_ug_sg = KeyedVectors.load('drive/My Drive/code/w2v_model_ug_sg.word2vec')"
      ],
      "execution_count": 56,
      "outputs": [
        {
          "output_type": "stream",
          "text": [
            "/usr/local/lib/python3.6/dist-packages/smart_open/smart_open_lib.py:402: UserWarning: This function is deprecated, use smart_open.open instead. See the migration notes for details: https://github.com/RaRe-Technologies/smart_open/blob/master/README.rst#migrating-to-the-new-open-function\n",
            "  'See the migration notes for details: %s' % _MIGRATION_NOTES_URL\n"
          ],
          "name": "stderr"
        }
      ]
    },
    {
      "cell_type": "code",
      "metadata": {
        "id": "1NQiVCbY6QmP",
        "colab_type": "code",
        "outputId": "ae0cf160-fde3-463c-8acd-a001bc2d5567",
        "colab": {
          "base_uri": "https://localhost:8080/",
          "height": 34
        }
      },
      "source": [
        "len(model_ug_cbow.wv.vocab.keys())\n"
      ],
      "execution_count": 57,
      "outputs": [
        {
          "output_type": "execute_result",
          "data": {
            "text/plain": [
              "106259"
            ]
          },
          "metadata": {
            "tags": []
          },
          "execution_count": 57
        }
      ]
    },
    {
      "cell_type": "code",
      "metadata": {
        "id": "ra6oXmLE6VPy",
        "colab_type": "code",
        "outputId": "446e1de8-98bb-4e6d-83c2-257e82e3d59e",
        "colab": {
          "base_uri": "https://localhost:8080/",
          "height": 34
        }
      },
      "source": [
        "embeddings_index = {}\n",
        "for w in model_ug_cbow.wv.vocab.keys():\n",
        "    embeddings_index[w] = np.append(model_ug_cbow.wv[w],model_ug_sg.wv[w])\n",
        "print('Found %s word vectors.' % len(embeddings_index))"
      ],
      "execution_count": 58,
      "outputs": [
        {
          "output_type": "stream",
          "text": [
            "Found 106259 word vectors.\n"
          ],
          "name": "stdout"
        }
      ]
    },
    {
      "cell_type": "code",
      "metadata": {
        "id": "mpjC3Ebl6Ye8",
        "colab_type": "code",
        "colab": {}
      },
      "source": [
        "from keras.preprocessing.text import Tokenizer\n",
        "from keras.preprocessing.sequence import pad_sequences\n",
        "\n",
        "tokenizer = Tokenizer(num_words=100000)\n",
        "tokenizer.fit_on_texts(x)\n",
        "\n",
        "X_train = tokenizer.texts_to_sequences(x)"
      ],
      "execution_count": 0,
      "outputs": []
    },
    {
      "cell_type": "code",
      "metadata": {
        "id": "PZmXsn_n6bRf",
        "colab_type": "code",
        "outputId": "d163fb34-ef9d-4f29-e2f3-1cb6949a2a25",
        "colab": {
          "base_uri": "https://localhost:8080/",
          "height": 34
        }
      },
      "source": [
        "len(tokenizer.word_index)\n"
      ],
      "execution_count": 60,
      "outputs": [
        {
          "output_type": "execute_result",
          "data": {
            "text/plain": [
              "264939"
            ]
          },
          "metadata": {
            "tags": []
          },
          "execution_count": 60
        }
      ]
    },
    {
      "cell_type": "code",
      "metadata": {
        "id": "1RX5Z-pw6oma",
        "colab_type": "code",
        "outputId": "fbe8d2d9-c79e-4ed7-ad71-3274bf1b5daa",
        "colab": {
          "base_uri": "https://localhost:8080/",
          "height": 34
        }
      },
      "source": [
        "X_train = pad_sequences(X_train, maxlen=50)\n",
        "print('Shape of data tensor:', X_train.shape)"
      ],
      "execution_count": 61,
      "outputs": [
        {
          "output_type": "stream",
          "text": [
            "Shape of data tensor: (1596041, 50)\n"
          ],
          "name": "stdout"
        }
      ]
    },
    {
      "cell_type": "code",
      "metadata": {
        "id": "naW50rBL7dOa",
        "colab_type": "code",
        "colab": {}
      },
      "source": [
        "num_words = 100000\n",
        "embedding_matrix = np.zeros((num_words, 200))\n",
        "for word, i in tokenizer.word_index.items():\n",
        "    if i >= num_words:\n",
        "        continue\n",
        "    embedding_vector = embeddings_index.get(word)\n",
        "    if embedding_vector is not None:\n",
        "        embedding_matrix[i] = embedding_vector"
      ],
      "execution_count": 0,
      "outputs": []
    },
    {
      "cell_type": "code",
      "metadata": {
        "id": "-ahGelQH8Q2t",
        "colab_type": "code",
        "outputId": "4055b26b-f40a-4964-bf86-b105e838566a",
        "colab": {
          "base_uri": "https://localhost:8080/",
          "height": 221
        }
      },
      "source": [
        "y"
      ],
      "execution_count": 63,
      "outputs": [
        {
          "output_type": "execute_result",
          "data": {
            "text/plain": [
              "0          0\n",
              "1          0\n",
              "2          0\n",
              "3          0\n",
              "4          0\n",
              "          ..\n",
              "1596036    4\n",
              "1596037    4\n",
              "1596038    4\n",
              "1596039    4\n",
              "1596040    4\n",
              "Name: target, Length: 1596041, dtype: int64"
            ]
          },
          "metadata": {
            "tags": []
          },
          "execution_count": 63
        }
      ]
    },
    {
      "cell_type": "code",
      "metadata": {
        "id": "NF-cah1R8P6t",
        "colab_type": "code",
        "colab": {}
      },
      "source": [
        "y = np.array(list(map(lambda x: 0 if x==0 else 1, y))) "
      ],
      "execution_count": 0,
      "outputs": []
    },
    {
      "cell_type": "code",
      "metadata": {
        "id": "oxYgP3GF8XaN",
        "colab_type": "code",
        "colab": {}
      },
      "source": [
        "y_train = y"
      ],
      "execution_count": 0,
      "outputs": []
    },
    {
      "cell_type": "code",
      "metadata": {
        "id": "ETLnqPnq7tYj",
        "colab_type": "code",
        "colab": {}
      },
      "source": [
        "seed = 7\n",
        "from keras.models import Sequential\n",
        "from keras.layers import Dense, Dropout\n",
        "from keras.layers import Flatten\n",
        "from keras.layers.embeddings import Embedding\n",
        "from keras.layers import Conv1D, GlobalMaxPooling1D\n",
        "\n"
      ],
      "execution_count": 0,
      "outputs": []
    },
    {
      "cell_type": "code",
      "metadata": {
        "id": "xethITvV75Lk",
        "colab_type": "code",
        "colab": {}
      },
      "source": [
        "from keras.layers import Input, Dense, concatenate, Activation\n",
        "from keras.models import Model\n",
        "\n",
        "def get_model():\n",
        "  model = Sequential()\n",
        "\n",
        "  embedding_layer = Embedding(100000, 200, weights=[embedding_matrix], input_length=50, trainable=True)\n",
        "  model.add(embedding_layer)\n",
        "\n",
        "  model.add(Conv1D(filters=100, kernel_size=2, padding='valid', activation='relu', strides=1))\n",
        "  model.add(GlobalMaxPooling1D())\n",
        "  model.add(Dense(256, activation='relu'))\n",
        "  model.add(Dense(1, activation='sigmoid'))\n",
        "  model.compile(loss='binary_crossentropy', optimizer='adam', metrics=['accuracy'])\n",
        "\n",
        "  return model \n",
        "\n",
        "  "
      ],
      "execution_count": 0,
      "outputs": []
    },
    {
      "cell_type": "code",
      "metadata": {
        "id": "SF1hzzaVCivM",
        "colab_type": "code",
        "outputId": "bcec52c3-b004-4238-f718-f987e2066b26",
        "colab": {
          "base_uri": "https://localhost:8080/",
          "height": 394
        }
      },
      "source": [
        "from keras.callbacks import ModelCheckpoint\n",
        "filepath=\"drive/My Drive/CNN_best_weights.{epoch:02d}-{val_acc:.4f}.hdf5\"\n",
        "checkpoint = ModelCheckpoint(filepath, monitor='val_acc', verbose=2, save_best_only=True, mode='max')\n",
        "model_2 = get_model()\n",
        "\n",
        "history = model_2.fit(X_train, y_train, batch_size=32, epochs=5, \n",
        "                      validation_split=0.02, callbacks = [checkpoint])\n",
        "\n"
      ],
      "execution_count": 86,
      "outputs": [
        {
          "output_type": "stream",
          "text": [
            "Train on 1564120 samples, validate on 31921 samples\n",
            "Epoch 1/5\n",
            "1564120/1564120 [==============================] - 499s 319us/step - loss: 0.4014 - acc: 0.8170 - val_loss: 0.4721 - val_acc: 0.7742\n",
            "\n",
            "Epoch 00001: val_acc improved from -inf to 0.77419, saving model to drive/My Drive/CNN_best_weights.01-0.7742.hdf5\n",
            "Epoch 2/5\n",
            "1564120/1564120 [==============================] - 498s 319us/step - loss: 0.3641 - acc: 0.8385 - val_loss: 0.4482 - val_acc: 0.7833\n",
            "\n",
            "Epoch 00002: val_acc improved from 0.77419 to 0.78331, saving model to drive/My Drive/CNN_best_weights.02-0.7833.hdf5\n",
            "Epoch 3/5\n",
            "1564120/1564120 [==============================] - 506s 323us/step - loss: 0.3396 - acc: 0.8518 - val_loss: 0.4729 - val_acc: 0.7794\n",
            "\n",
            "Epoch 00003: val_acc did not improve from 0.78331\n",
            "Epoch 4/5\n",
            "1564120/1564120 [==============================] - 500s 320us/step - loss: 0.3156 - acc: 0.8647 - val_loss: 0.3982 - val_acc: 0.8108\n",
            "\n",
            "Epoch 00004: val_acc improved from 0.78331 to 0.81078, saving model to drive/My Drive/CNN_best_weights.04-0.8108.hdf5\n",
            "Epoch 5/5\n",
            "1564120/1564120 [==============================] - 500s 319us/step - loss: 0.2922 - acc: 0.8768 - val_loss: 0.4376 - val_acc: 0.8135\n",
            "\n",
            "Epoch 00005: val_acc improved from 0.81078 to 0.81354, saving model to drive/My Drive/CNN_best_weights.05-0.8135.hdf5\n"
          ],
          "name": "stdout"
        }
      ]
    },
    {
      "cell_type": "code",
      "metadata": {
        "id": "7weSAV4s8iiD",
        "colab_type": "code",
        "outputId": "83f7c02a-0fdf-452e-fee9-8ef7593d74af",
        "colab": {
          "base_uri": "https://localhost:8080/",
          "height": 521
        }
      },
      "source": [
        "columns = ['polarity','tweet_id','date','query_string','username','tweet_text']\n",
        "\n",
        "test = pd.read_csv(\"drive/My Drive/code/testdata.csv\", sep=\",\", header = None, names=columns)\n",
        "test"
      ],
      "execution_count": 87,
      "outputs": [
        {
          "output_type": "execute_result",
          "data": {
            "text/html": [
              "<div>\n",
              "<style scoped>\n",
              "    .dataframe tbody tr th:only-of-type {\n",
              "        vertical-align: middle;\n",
              "    }\n",
              "\n",
              "    .dataframe tbody tr th {\n",
              "        vertical-align: top;\n",
              "    }\n",
              "\n",
              "    .dataframe thead th {\n",
              "        text-align: right;\n",
              "    }\n",
              "</style>\n",
              "<table border=\"1\" class=\"dataframe\">\n",
              "  <thead>\n",
              "    <tr style=\"text-align: right;\">\n",
              "      <th></th>\n",
              "      <th>polarity</th>\n",
              "      <th>tweet_id</th>\n",
              "      <th>date</th>\n",
              "      <th>query_string</th>\n",
              "      <th>username</th>\n",
              "      <th>tweet_text</th>\n",
              "    </tr>\n",
              "  </thead>\n",
              "  <tbody>\n",
              "    <tr>\n",
              "      <th>0</th>\n",
              "      <td>4</td>\n",
              "      <td>3</td>\n",
              "      <td>Mon May 11 03:17:40 UTC 2009</td>\n",
              "      <td>kindle2</td>\n",
              "      <td>tpryan</td>\n",
              "      <td>@stellargirl I loooooooovvvvvveee my Kindle2. ...</td>\n",
              "    </tr>\n",
              "    <tr>\n",
              "      <th>1</th>\n",
              "      <td>4</td>\n",
              "      <td>4</td>\n",
              "      <td>Mon May 11 03:18:03 UTC 2009</td>\n",
              "      <td>kindle2</td>\n",
              "      <td>vcu451</td>\n",
              "      <td>Reading my kindle2...  Love it... Lee childs i...</td>\n",
              "    </tr>\n",
              "    <tr>\n",
              "      <th>2</th>\n",
              "      <td>4</td>\n",
              "      <td>5</td>\n",
              "      <td>Mon May 11 03:18:54 UTC 2009</td>\n",
              "      <td>kindle2</td>\n",
              "      <td>chadfu</td>\n",
              "      <td>Ok, first assesment of the #kindle2 ...it fuck...</td>\n",
              "    </tr>\n",
              "    <tr>\n",
              "      <th>3</th>\n",
              "      <td>4</td>\n",
              "      <td>6</td>\n",
              "      <td>Mon May 11 03:19:04 UTC 2009</td>\n",
              "      <td>kindle2</td>\n",
              "      <td>SIX15</td>\n",
              "      <td>@kenburbary You'll love your Kindle2. I've had...</td>\n",
              "    </tr>\n",
              "    <tr>\n",
              "      <th>4</th>\n",
              "      <td>4</td>\n",
              "      <td>7</td>\n",
              "      <td>Mon May 11 03:21:41 UTC 2009</td>\n",
              "      <td>kindle2</td>\n",
              "      <td>yamarama</td>\n",
              "      <td>@mikefish  Fair enough. But i have the Kindle2...</td>\n",
              "    </tr>\n",
              "    <tr>\n",
              "      <th>...</th>\n",
              "      <td>...</td>\n",
              "      <td>...</td>\n",
              "      <td>...</td>\n",
              "      <td>...</td>\n",
              "      <td>...</td>\n",
              "      <td>...</td>\n",
              "    </tr>\n",
              "    <tr>\n",
              "      <th>493</th>\n",
              "      <td>2</td>\n",
              "      <td>14072</td>\n",
              "      <td>Sun Jun 14 04:31:43 UTC 2009</td>\n",
              "      <td>latex</td>\n",
              "      <td>proggit</td>\n",
              "      <td>Ask Programming: LaTeX or InDesign?: submitted...</td>\n",
              "    </tr>\n",
              "    <tr>\n",
              "      <th>494</th>\n",
              "      <td>0</td>\n",
              "      <td>14073</td>\n",
              "      <td>Sun Jun 14 04:32:17 UTC 2009</td>\n",
              "      <td>latex</td>\n",
              "      <td>sam33r</td>\n",
              "      <td>On that note, I hate Word. I hate Pages. I hat...</td>\n",
              "    </tr>\n",
              "    <tr>\n",
              "      <th>495</th>\n",
              "      <td>4</td>\n",
              "      <td>14074</td>\n",
              "      <td>Sun Jun 14 04:36:34 UTC 2009</td>\n",
              "      <td>latex</td>\n",
              "      <td>iamtheonlyjosie</td>\n",
              "      <td>Ahhh... back in a *real* text editing environm...</td>\n",
              "    </tr>\n",
              "    <tr>\n",
              "      <th>496</th>\n",
              "      <td>0</td>\n",
              "      <td>14075</td>\n",
              "      <td>Sun Jun 14 21:36:07 UTC 2009</td>\n",
              "      <td>iran</td>\n",
              "      <td>plutopup7</td>\n",
              "      <td>Trouble in Iran, I see. Hmm. Iran. Iran so far...</td>\n",
              "    </tr>\n",
              "    <tr>\n",
              "      <th>497</th>\n",
              "      <td>0</td>\n",
              "      <td>14076</td>\n",
              "      <td>Sun Jun 14 21:36:17 UTC 2009</td>\n",
              "      <td>iran</td>\n",
              "      <td>captain_pete</td>\n",
              "      <td>Reading the tweets coming out of Iran... The w...</td>\n",
              "    </tr>\n",
              "  </tbody>\n",
              "</table>\n",
              "<p>498 rows × 6 columns</p>\n",
              "</div>"
            ],
            "text/plain": [
              "     polarity  ...                                         tweet_text\n",
              "0           4  ...  @stellargirl I loooooooovvvvvveee my Kindle2. ...\n",
              "1           4  ...  Reading my kindle2...  Love it... Lee childs i...\n",
              "2           4  ...  Ok, first assesment of the #kindle2 ...it fuck...\n",
              "3           4  ...  @kenburbary You'll love your Kindle2. I've had...\n",
              "4           4  ...  @mikefish  Fair enough. But i have the Kindle2...\n",
              "..        ...  ...                                                ...\n",
              "493         2  ...  Ask Programming: LaTeX or InDesign?: submitted...\n",
              "494         0  ...  On that note, I hate Word. I hate Pages. I hat...\n",
              "495         4  ...  Ahhh... back in a *real* text editing environm...\n",
              "496         0  ...  Trouble in Iran, I see. Hmm. Iran. Iran so far...\n",
              "497         0  ...  Reading the tweets coming out of Iran... The w...\n",
              "\n",
              "[498 rows x 6 columns]"
            ]
          },
          "metadata": {
            "tags": []
          },
          "execution_count": 87
        }
      ]
    },
    {
      "cell_type": "code",
      "metadata": {
        "id": "H0dae2UhBf7S",
        "colab_type": "code",
        "outputId": "4632b66d-9ad8-4621-bff7-37cfdbdee327",
        "colab": {
          "base_uri": "https://localhost:8080/",
          "height": 85
        }
      },
      "source": [
        "test.polarity.value_counts() #80,000 positive and negative examples \n"
      ],
      "execution_count": 88,
      "outputs": [
        {
          "output_type": "execute_result",
          "data": {
            "text/plain": [
              "4    182\n",
              "0    177\n",
              "2    139\n",
              "Name: polarity, dtype: int64"
            ]
          },
          "metadata": {
            "tags": []
          },
          "execution_count": 88
        }
      ]
    },
    {
      "cell_type": "code",
      "metadata": {
        "id": "uz4c7ubNBh-T",
        "colab_type": "code",
        "colab": {}
      },
      "source": [
        "test = test[test.polarity != 2] #Drop neutral rows for binary classification (postive or negative)\n"
      ],
      "execution_count": 0,
      "outputs": []
    },
    {
      "cell_type": "code",
      "metadata": {
        "id": "J0hNJ7oBBjUg",
        "colab_type": "code",
        "outputId": "733fb81e-486b-4717-a922-402de3ef41bb",
        "colab": {
          "base_uri": "https://localhost:8080/",
          "height": 221
        }
      },
      "source": [
        "x_test = test['tweet_text']\n",
        "x_test"
      ],
      "execution_count": 90,
      "outputs": [
        {
          "output_type": "execute_result",
          "data": {
            "text/plain": [
              "0      @stellargirl I loooooooovvvvvveee my Kindle2. ...\n",
              "1      Reading my kindle2...  Love it... Lee childs i...\n",
              "2      Ok, first assesment of the #kindle2 ...it fuck...\n",
              "3      @kenburbary You'll love your Kindle2. I've had...\n",
              "4      @mikefish  Fair enough. But i have the Kindle2...\n",
              "                             ...                        \n",
              "492    After using LaTeX a lot, any other typeset mat...\n",
              "494    On that note, I hate Word. I hate Pages. I hat...\n",
              "495    Ahhh... back in a *real* text editing environm...\n",
              "496    Trouble in Iran, I see. Hmm. Iran. Iran so far...\n",
              "497    Reading the tweets coming out of Iran... The w...\n",
              "Name: tweet_text, Length: 359, dtype: object"
            ]
          },
          "metadata": {
            "tags": []
          },
          "execution_count": 90
        }
      ]
    },
    {
      "cell_type": "code",
      "metadata": {
        "id": "TMfbGVfABk-R",
        "colab_type": "code",
        "outputId": "515f0450-4e40-41b0-c159-d25215d16969",
        "colab": {
          "base_uri": "https://localhost:8080/",
          "height": 221
        }
      },
      "source": [
        "y_test = test['polarity']\n",
        "y_test"
      ],
      "execution_count": 91,
      "outputs": [
        {
          "output_type": "execute_result",
          "data": {
            "text/plain": [
              "0      4\n",
              "1      4\n",
              "2      4\n",
              "3      4\n",
              "4      4\n",
              "      ..\n",
              "492    4\n",
              "494    0\n",
              "495    4\n",
              "496    0\n",
              "497    0\n",
              "Name: polarity, Length: 359, dtype: int64"
            ]
          },
          "metadata": {
            "tags": []
          },
          "execution_count": 91
        }
      ]
    },
    {
      "cell_type": "code",
      "metadata": {
        "id": "mrbpKIRZBm78",
        "colab_type": "code",
        "colab": {}
      },
      "source": [
        "X_test = []\n",
        "tweets = list(test['tweet_text'])\n",
        "for lines in tweets:\n",
        "    X_test.append(lines)\n",
        "\n",
        "y_test = test['polarity']\n",
        "\n",
        "#1 == positive, 0 == negative\n",
        "y_test = np.array(list(map(lambda x: 0 if x==0 else 1, y_test))) "
      ],
      "execution_count": 0,
      "outputs": []
    },
    {
      "cell_type": "code",
      "metadata": {
        "id": "KTlO2PnkNsf6",
        "colab_type": "code",
        "colab": {}
      },
      "source": [
        "sequences_test = tokenizer.texts_to_sequences(X_test)\n",
        "x_test_seq = pad_sequences(sequences_test, maxlen=50)"
      ],
      "execution_count": 0,
      "outputs": []
    },
    {
      "cell_type": "code",
      "metadata": {
        "id": "s_7F7jhYBpix",
        "colab_type": "code",
        "outputId": "4b0788f0-5228-40b5-8605-5a9b9434b499",
        "colab": {
          "base_uri": "https://localhost:8080/",
          "height": 34
        }
      },
      "source": [
        "# score = loaded_CNN_model.evaluate(x=X_test, y=y_test)\n",
        "from keras.models import load_model\n",
        "loaded_CNN_model = load_model('drive/My Drive/CNN_best_weights.05-0.8135.hdf5')\n",
        "score = loaded_CNN_model.evaluate(x=x_test_seq, y=y_test)"
      ],
      "execution_count": 95,
      "outputs": [
        {
          "output_type": "stream",
          "text": [
            "359/359 [==============================] - 0s 1ms/step\n"
          ],
          "name": "stdout"
        }
      ]
    },
    {
      "cell_type": "code",
      "metadata": {
        "id": "U6BNM14mBs5y",
        "colab_type": "code",
        "outputId": "52914ca5-4043-4953-c1ff-98ca9b70e6ef",
        "colab": {
          "base_uri": "https://localhost:8080/",
          "height": 34
        }
      },
      "source": [
        "score[0]"
      ],
      "execution_count": 96,
      "outputs": [
        {
          "output_type": "execute_result",
          "data": {
            "text/plain": [
              "0.5416062552284729"
            ]
          },
          "metadata": {
            "tags": []
          },
          "execution_count": 96
        }
      ]
    },
    {
      "cell_type": "code",
      "metadata": {
        "id": "hpkM1PGuRvUA",
        "colab_type": "code",
        "outputId": "275356fb-ba84-4506-c62f-39ab630a60e6",
        "colab": {
          "base_uri": "https://localhost:8080/",
          "height": 34
        }
      },
      "source": [
        "score[1]"
      ],
      "execution_count": 97,
      "outputs": [
        {
          "output_type": "execute_result",
          "data": {
            "text/plain": [
              "0.8050139280746906"
            ]
          },
          "metadata": {
            "tags": []
          },
          "execution_count": 97
        }
      ]
    },
    {
      "cell_type": "code",
      "metadata": {
        "id": "6kSwbDf0O1Wx",
        "colab_type": "code",
        "outputId": "9266067d-32a4-4d3b-d35d-b662f6659e17",
        "colab": {
          "base_uri": "https://localhost:8080/",
          "height": 573
        }
      },
      "source": [
        "#Graphs\n",
        "\n",
        "import matplotlib.pyplot as plt\n",
        "%matplotlib inline\n",
        "\n",
        "plt.plot(history.history['acc'])\n",
        "plt.plot(history.history['val_acc'])\n",
        "\n",
        "plt.title('W2V-CNN Model 1 Accuracy (Experiment 5)')\n",
        "plt.ylabel('Accuracy')\n",
        "plt.xlabel('Epoch')\n",
        "plt.legend(['train','validation'], loc = 'upper left')\n",
        "plt.show()\n",
        "\n",
        "plt.plot(history.history['loss'])\n",
        "plt.plot(history.history['val_loss'])\n",
        "\n",
        "plt.title('W2V-CNN Model 1 Loss (Experiment 5)')\n",
        "plt.ylabel('Loss')\n",
        "plt.xlabel('Epoch')\n",
        "plt.legend(['train','validation'], loc = 'upper left')\n",
        "plt.show()"
      ],
      "execution_count": 99,
      "outputs": [
        {
          "output_type": "display_data",
          "data": {
            "image/png": "[encoded data removed]",
            "text/plain": [
              "<Figure size 432x288 with 1 Axes>"
            ]
          },
          "metadata": {
            "tags": []
          }
        },
        {
          "output_type": "display_data",
          "data": {
            "image/png": "[encoded data removed]",
            "text/plain": [
              "<Figure size 432x288 with 1 Axes>"
            ]
          },
          "metadata": {
            "tags": []
          }
        }
      ]
    },
    {
      "cell_type": "code",
      "metadata": {
        "id": "cDAxxf5hV0r9",
        "colab_type": "code",
        "colab": {}
      },
      "source": [
        "yhat_cnn = loaded_CNN_model.predict(x_test_seq)"
      ],
      "execution_count": 0,
      "outputs": []
    },
    {
      "cell_type": "code",
      "metadata": {
        "id": "cyr2-uuBViXW",
        "colab_type": "code",
        "colab": {
          "base_uri": "https://localhost:8080/",
          "height": 470
        },
        "outputId": "a9ca31bf-0b7d-4cee-cb79-cae1e67b4400"
      },
      "source": [
        "from sklearn.metrics import roc_curve, auc\n",
        "fpr_cnn, tpr_cnn, threshold = roc_curve(y_test, yhat_cnn)\n",
        "roc_auc_nn = auc(fpr_cnn, tpr_cnn)\n",
        "plt.figure(figsize=(8,7))\n",
        "plt.plot(fpr_cnn, tpr_cnn, label='w2v-CNN (area = %0.3f)' % roc_auc_nn, linewidth=2)\n",
        "\n",
        "plt.plot([0, 1], [0, 1], 'k--', linewidth=2)\n",
        "plt.xlim([-0.05, 1.0])\n",
        "plt.ylim([-0.05, 1.05])\n",
        "plt.xlabel('False Positive Rate', fontsize=18)\n",
        "plt.ylabel('True Positive Rate', fontsize=18)\n",
        "plt.title('Receiver operating characteristic: is positive', fontsize=18)\n",
        "plt.legend(loc=\"lower right\")\n",
        "plt.show()"
      ],
      "execution_count": 102,
      "outputs": [
        {
          "output_type": "display_data",
          "data": {
            "image/png": "[encoded data removed]",
            "text/plain": [
              "<Figure size 576x504 with 1 Axes>"
            ]
          },
          "metadata": {
            "tags": []
          }
        }
      ]
    },
    {
      "cell_type": "code",
      "metadata": {
        "id": "Wfmpj-DESaOK",
        "colab_type": "code",
        "colab": {}
      },
      "source": [
        "#trainable = false, batchsize = 64\n",
        "def get_model2():\n",
        "  model2 = Sequential()\n",
        "\n",
        "  embedding_layer = Embedding(100000, 200, weights=[embedding_matrix], input_length=50, trainable=False)\n",
        "  model2.add(embedding_layer)\n",
        "\n",
        "  model2.add(Conv1D(filters=100, kernel_size=2, padding='valid', activation='relu', strides=1))\n",
        "  model2.add(GlobalMaxPooling1D())\n",
        "  model2.add(Dense(256, activation='relu'))\n",
        "  model2.add(Dense(1, activation='sigmoid'))\n",
        "  model2.compile(loss='binary_crossentropy', optimizer='adam', metrics=['accuracy'])\n",
        "\n",
        "  return model2\n"
      ],
      "execution_count": 0,
      "outputs": []
    },
    {
      "cell_type": "code",
      "metadata": {
        "id": "PH9DPD7uTrtu",
        "colab_type": "code",
        "outputId": "150967f7-53f8-436a-f3e8-61081d9b02b9",
        "colab": {
          "base_uri": "https://localhost:8080/",
          "height": 462
        }
      },
      "source": [
        "filepath=\"drive/My Drive/CNN_best_weights.{epoch:02d}-{val_acc:.4f}.hdf5\"\n",
        "checkpoint2 = ModelCheckpoint(filepath, monitor='val_acc', verbose=1, save_best_only=True, mode='max')\n",
        "model_3 = get_model2()\n",
        "\n",
        "history2 = model_3.fit(X_train, y_train, batch_size=64, epochs=6, validation_split=0.01, callbacks = [checkpoint2])"
      ],
      "execution_count": 0,
      "outputs": [
        {
          "output_type": "stream",
          "text": [
            "Train on 1580080 samples, validate on 15961 samples\n",
            "Epoch 1/6\n",
            "1580080/1580080 [==============================] - 114s 72us/step - loss: 0.4162 - acc: 0.8080 - val_loss: 0.4231 - val_acc: 0.7992\n",
            "\n",
            "Epoch 00001: val_acc improved from -inf to 0.79920, saving model to drive/My Drive/CNN_best_weights.01-0.7992.hdf5\n",
            "Epoch 2/6\n",
            "1580080/1580080 [==============================] - 113s 72us/step - loss: 0.3943 - acc: 0.8207 - val_loss: 0.4126 - val_acc: 0.8060\n",
            "\n",
            "Epoch 00002: val_acc improved from 0.79920 to 0.80603, saving model to drive/My Drive/CNN_best_weights.02-0.8060.hdf5\n",
            "Epoch 3/6\n",
            "1580080/1580080 [==============================] - 108s 69us/step - loss: 0.3870 - acc: 0.8248 - val_loss: 0.4454 - val_acc: 0.7770\n",
            "\n",
            "Epoch 00003: val_acc did not improve from 0.80603\n",
            "Epoch 4/6\n",
            "1580080/1580080 [==============================] - 107s 68us/step - loss: 0.3824 - acc: 0.8272 - val_loss: 0.4499 - val_acc: 0.7761\n",
            "\n",
            "Epoch 00004: val_acc did not improve from 0.80603\n",
            "Epoch 5/6\n",
            "1580080/1580080 [==============================] - 108s 68us/step - loss: 0.3794 - acc: 0.8289 - val_loss: 0.4318 - val_acc: 0.7980\n",
            "\n",
            "Epoch 00005: val_acc did not improve from 0.80603\n",
            "Epoch 6/6\n",
            "1580080/1580080 [==============================] - 106s 67us/step - loss: 0.3769 - acc: 0.8302 - val_loss: 0.4436 - val_acc: 0.7907\n",
            "\n",
            "Epoch 00006: val_acc did not improve from 0.80603\n"
          ],
          "name": "stdout"
        }
      ]
    },
    {
      "cell_type": "code",
      "metadata": {
        "id": "AK4Eo9EMUAva",
        "colab_type": "code",
        "outputId": "6afd69f8-08a7-458f-c5fe-22b46ee16cb5",
        "colab": {
          "base_uri": "https://localhost:8080/",
          "height": 34
        }
      },
      "source": [
        "loaded_CNN_model2 = load_model('drive/My Drive/CNN_best_weights.02-0.8060.hdf5')\n",
        "score2 = loaded_CNN_model2.evaluate(x=x_test_seq, y=y_test)"
      ],
      "execution_count": 0,
      "outputs": [
        {
          "output_type": "stream",
          "text": [
            "359/359 [==============================] - 0s 1ms/step\n"
          ],
          "name": "stdout"
        }
      ]
    },
    {
      "cell_type": "code",
      "metadata": {
        "id": "3RDJQtFQWwFg",
        "colab_type": "code",
        "outputId": "1998766b-4dc0-401a-c29c-e2bf78332ff3",
        "colab": {
          "base_uri": "https://localhost:8080/",
          "height": 34
        }
      },
      "source": [
        "score2[0]"
      ],
      "execution_count": 0,
      "outputs": [
        {
          "output_type": "execute_result",
          "data": {
            "text/plain": [
              "0.40975428656947316"
            ]
          },
          "metadata": {
            "tags": []
          },
          "execution_count": 127
        }
      ]
    },
    {
      "cell_type": "code",
      "metadata": {
        "id": "rdqpFYQxWyGt",
        "colab_type": "code",
        "outputId": "3e66b1ad-88f3-4e94-8c93-d87a7afcbe76",
        "colab": {
          "base_uri": "https://localhost:8080/",
          "height": 34
        }
      },
      "source": [
        "score2[1]"
      ],
      "execution_count": 0,
      "outputs": [
        {
          "output_type": "execute_result",
          "data": {
            "text/plain": [
              "0.7688022287443156"
            ]
          },
          "metadata": {
            "tags": []
          },
          "execution_count": 128
        }
      ]
    },
    {
      "cell_type": "code",
      "metadata": {
        "id": "J2AO_r4UWzM9",
        "colab_type": "code",
        "outputId": "b6ab933b-4750-4f24-8acc-b33b82135982",
        "colab": {
          "base_uri": "https://localhost:8080/",
          "height": 573
        }
      },
      "source": [
        "plt.plot(history2.history['acc'])\n",
        "plt.plot(history2.history['val_acc'])\n",
        "\n",
        "plt.title('W2V-CNN Model 1 Accuracy (Experiment 2)')\n",
        "plt.ylabel('Accuracy')\n",
        "plt.xlabel('Epoch')\n",
        "plt.legend(['train','validation'], loc = 'upper left')\n",
        "plt.show()\n",
        "\n",
        "plt.plot(history2.history['loss'])\n",
        "plt.plot(history2.history['val_loss'])\n",
        "\n",
        "plt.title('W2V-CNN Model 1 Loss (Experiment 2)')\n",
        "plt.ylabel('Loss')\n",
        "plt.xlabel('Epoch')\n",
        "plt.legend(['train','validation'], loc = 'upper left')\n",
        "plt.show()"
      ],
      "execution_count": 0,
      "outputs": [
        {
          "output_type": "display_data",
          "data": {
            "image/png": "[encoded data removed]",
            "text/plain": [
              "<Figure size 432x288 with 1 Axes>"
            ]
          },
          "metadata": {
            "tags": []
          }
        },
        {
          "output_type": "display_data",
          "data": {
            "image/png": "[encoded data removed]",
            "text/plain": [
              "<Figure size 432x288 with 1 Axes>"
            ]
          },
          "metadata": {
            "tags": []
          }
        }
      ]
    },
    {
      "cell_type": "code",
      "metadata": {
        "id": "-KsWussbwZyt",
        "colab_type": "code",
        "colab": {}
      },
      "source": [
        ""
      ],
      "execution_count": 0,
      "outputs": []
    },
    {
      "cell_type": "code",
      "metadata": {
        "id": "jDgcSHCkwaLR",
        "colab_type": "code",
        "colab": {}
      },
      "source": [
        ""
      ],
      "execution_count": 0,
      "outputs": []
    },
    {
      "cell_type": "code",
      "metadata": {
        "id": "tYFmo4lSwaZs",
        "colab_type": "code",
        "colab": {}
      },
      "source": [
        ""
      ],
      "execution_count": 0,
      "outputs": []
    },
    {
      "cell_type": "code",
      "metadata": {
        "id": "GBxdU6wKXdU8",
        "colab_type": "code",
        "colab": {}
      },
      "source": [
        ""
      ],
      "execution_count": 0,
      "outputs": []
    },
    {
      "cell_type": "code",
      "metadata": {
        "id": "1HGyeE5BuRHt",
        "colab_type": "code",
        "outputId": "485adfc0-d2d1-419e-b70a-61f51771b655",
        "colab": {
          "base_uri": "https://localhost:8080/",
          "height": 412
        }
      },
      "source": [
        "# filepath=\"drive/My Drive/CNN_best_weights.{epoch:02d}-{val_acc:.4f}.hdf5\"\n",
        "# checkpoint3 = ModelCheckpoint(filepath, monitor='val_acc', verbose=1, save_best_only=True, mode='max')\n",
        "# model_4 = get_model3()\n",
        "\n",
        "# history3 = model_4.fit(X_train, y_train, batch_size=32, epochs=5, validation_split=0.01, callbacks = [checkpoint3])"
      ],
      "execution_count": 0,
      "outputs": [
        {
          "output_type": "stream",
          "text": [
            "Train on 1580080 samples, validate on 15961 samples\n",
            "Epoch 1/5\n",
            "  25536/1580080 [..............................] - ETA: 1:02:53 - loss: 0.4829 - acc: 0.7684"
          ],
          "name": "stdout"
        },
        {
          "output_type": "error",
          "ename": "KeyboardInterrupt",
          "evalue": "ignored",
          "traceback": [
            "\u001b[0;31m---------------------------------------------------------------------------\u001b[0m",
            "\u001b[0;31mKeyboardInterrupt\u001b[0m                         Traceback (most recent call last)",
            "\u001b[0;32m<ipython-input-123-203521d73466>\u001b[0m in \u001b[0;36m<module>\u001b[0;34m()\u001b[0m\n\u001b[1;32m      3\u001b[0m \u001b[0mmodel_4\u001b[0m \u001b[0;34m=\u001b[0m \u001b[0mget_model3\u001b[0m\u001b[0;34m(\u001b[0m\u001b[0;34m)\u001b[0m\u001b[0;34m\u001b[0m\u001b[0;34m\u001b[0m\u001b[0m\n\u001b[1;32m      4\u001b[0m \u001b[0;34m\u001b[0m\u001b[0m\n\u001b[0;32m----> 5\u001b[0;31m \u001b[0mhistory3\u001b[0m \u001b[0;34m=\u001b[0m \u001b[0mmodel_4\u001b[0m\u001b[0;34m.\u001b[0m\u001b[0mfit\u001b[0m\u001b[0;34m(\u001b[0m\u001b[0mX_train\u001b[0m\u001b[0;34m,\u001b[0m \u001b[0my_train\u001b[0m\u001b[0;34m,\u001b[0m \u001b[0mbatch_size\u001b[0m\u001b[0;34m=\u001b[0m\u001b[0;36m32\u001b[0m\u001b[0;34m,\u001b[0m \u001b[0mepochs\u001b[0m\u001b[0;34m=\u001b[0m\u001b[0;36m5\u001b[0m\u001b[0;34m,\u001b[0m \u001b[0mvalidation_split\u001b[0m\u001b[0;34m=\u001b[0m\u001b[0;36m0.01\u001b[0m\u001b[0;34m,\u001b[0m \u001b[0mcallbacks\u001b[0m \u001b[0;34m=\u001b[0m \u001b[0;34m[\u001b[0m\u001b[0mcheckpoint3\u001b[0m\u001b[0;34m]\u001b[0m\u001b[0;34m)\u001b[0m\u001b[0;34m\u001b[0m\u001b[0;34m\u001b[0m\u001b[0m\n\u001b[0m",
            "\u001b[0;32m/usr/local/lib/python3.6/dist-packages/keras/engine/training.py\u001b[0m in \u001b[0;36mfit\u001b[0;34m(self, x, y, batch_size, epochs, verbose, callbacks, validation_split, validation_data, shuffle, class_weight, sample_weight, initial_epoch, steps_per_epoch, validation_steps, validation_freq, max_queue_size, workers, use_multiprocessing, **kwargs)\u001b[0m\n\u001b[1;32m   1176\u001b[0m                                         \u001b[0msteps_per_epoch\u001b[0m\u001b[0;34m=\u001b[0m\u001b[0msteps_per_epoch\u001b[0m\u001b[0;34m,\u001b[0m\u001b[0;34m\u001b[0m\u001b[0;34m\u001b[0m\u001b[0m\n\u001b[1;32m   1177\u001b[0m                                         \u001b[0mvalidation_steps\u001b[0m\u001b[0;34m=\u001b[0m\u001b[0mvalidation_steps\u001b[0m\u001b[0;34m,\u001b[0m\u001b[0;34m\u001b[0m\u001b[0;34m\u001b[0m\u001b[0m\n\u001b[0;32m-> 1178\u001b[0;31m                                         validation_freq=validation_freq)\n\u001b[0m\u001b[1;32m   1179\u001b[0m \u001b[0;34m\u001b[0m\u001b[0m\n\u001b[1;32m   1180\u001b[0m     def evaluate(self,\n",
            "\u001b[0;32m/usr/local/lib/python3.6/dist-packages/keras/engine/training_arrays.py\u001b[0m in \u001b[0;36mfit_loop\u001b[0;34m(model, fit_function, fit_inputs, out_labels, batch_size, epochs, verbose, callbacks, val_function, val_inputs, shuffle, callback_metrics, initial_epoch, steps_per_epoch, validation_steps, validation_freq)\u001b[0m\n\u001b[1;32m    202\u001b[0m                     \u001b[0mins_batch\u001b[0m\u001b[0;34m[\u001b[0m\u001b[0mi\u001b[0m\u001b[0;34m]\u001b[0m \u001b[0;34m=\u001b[0m \u001b[0mins_batch\u001b[0m\u001b[0;34m[\u001b[0m\u001b[0mi\u001b[0m\u001b[0;34m]\u001b[0m\u001b[0;34m.\u001b[0m\u001b[0mtoarray\u001b[0m\u001b[0;34m(\u001b[0m\u001b[0;34m)\u001b[0m\u001b[0;34m\u001b[0m\u001b[0;34m\u001b[0m\u001b[0m\n\u001b[1;32m    203\u001b[0m \u001b[0;34m\u001b[0m\u001b[0m\n\u001b[0;32m--> 204\u001b[0;31m                 \u001b[0mouts\u001b[0m \u001b[0;34m=\u001b[0m \u001b[0mfit_function\u001b[0m\u001b[0;34m(\u001b[0m\u001b[0mins_batch\u001b[0m\u001b[0;34m)\u001b[0m\u001b[0;34m\u001b[0m\u001b[0;34m\u001b[0m\u001b[0m\n\u001b[0m\u001b[1;32m    205\u001b[0m                 \u001b[0mouts\u001b[0m \u001b[0;34m=\u001b[0m \u001b[0mto_list\u001b[0m\u001b[0;34m(\u001b[0m\u001b[0mouts\u001b[0m\u001b[0;34m)\u001b[0m\u001b[0;34m\u001b[0m\u001b[0;34m\u001b[0m\u001b[0m\n\u001b[1;32m    206\u001b[0m                 \u001b[0;32mfor\u001b[0m \u001b[0ml\u001b[0m\u001b[0;34m,\u001b[0m \u001b[0mo\u001b[0m \u001b[0;32min\u001b[0m \u001b[0mzip\u001b[0m\u001b[0;34m(\u001b[0m\u001b[0mout_labels\u001b[0m\u001b[0;34m,\u001b[0m \u001b[0mouts\u001b[0m\u001b[0;34m)\u001b[0m\u001b[0;34m:\u001b[0m\u001b[0;34m\u001b[0m\u001b[0;34m\u001b[0m\u001b[0m\n",
            "\u001b[0;32m/usr/local/lib/python3.6/dist-packages/keras/backend/tensorflow_backend.py\u001b[0m in \u001b[0;36m__call__\u001b[0;34m(self, inputs)\u001b[0m\n\u001b[1;32m   2977\u001b[0m                     \u001b[0;32mreturn\u001b[0m \u001b[0mself\u001b[0m\u001b[0;34m.\u001b[0m\u001b[0m_legacy_call\u001b[0m\u001b[0;34m(\u001b[0m\u001b[0minputs\u001b[0m\u001b[0;34m)\u001b[0m\u001b[0;34m\u001b[0m\u001b[0;34m\u001b[0m\u001b[0m\n\u001b[1;32m   2978\u001b[0m \u001b[0;34m\u001b[0m\u001b[0m\n\u001b[0;32m-> 2979\u001b[0;31m             \u001b[0;32mreturn\u001b[0m \u001b[0mself\u001b[0m\u001b[0;34m.\u001b[0m\u001b[0m_call\u001b[0m\u001b[0;34m(\u001b[0m\u001b[0minputs\u001b[0m\u001b[0;34m)\u001b[0m\u001b[0;34m\u001b[0m\u001b[0;34m\u001b[0m\u001b[0m\n\u001b[0m\u001b[1;32m   2980\u001b[0m         \u001b[0;32melse\u001b[0m\u001b[0;34m:\u001b[0m\u001b[0;34m\u001b[0m\u001b[0;34m\u001b[0m\u001b[0m\n\u001b[1;32m   2981\u001b[0m             \u001b[0;32mif\u001b[0m \u001b[0mpy_any\u001b[0m\u001b[0;34m(\u001b[0m\u001b[0mis_tensor\u001b[0m\u001b[0;34m(\u001b[0m\u001b[0mx\u001b[0m\u001b[0;34m)\u001b[0m \u001b[0;32mfor\u001b[0m \u001b[0mx\u001b[0m \u001b[0;32min\u001b[0m \u001b[0minputs\u001b[0m\u001b[0;34m)\u001b[0m\u001b[0;34m:\u001b[0m\u001b[0;34m\u001b[0m\u001b[0;34m\u001b[0m\u001b[0m\n",
            "\u001b[0;32m/usr/local/lib/python3.6/dist-packages/keras/backend/tensorflow_backend.py\u001b[0m in \u001b[0;36m_call\u001b[0;34m(self, inputs)\u001b[0m\n\u001b[1;32m   2935\u001b[0m             \u001b[0mfetched\u001b[0m \u001b[0;34m=\u001b[0m \u001b[0mself\u001b[0m\u001b[0;34m.\u001b[0m\u001b[0m_callable_fn\u001b[0m\u001b[0;34m(\u001b[0m\u001b[0;34m*\u001b[0m\u001b[0marray_vals\u001b[0m\u001b[0;34m,\u001b[0m \u001b[0mrun_metadata\u001b[0m\u001b[0;34m=\u001b[0m\u001b[0mself\u001b[0m\u001b[0;34m.\u001b[0m\u001b[0mrun_metadata\u001b[0m\u001b[0;34m)\u001b[0m\u001b[0;34m\u001b[0m\u001b[0;34m\u001b[0m\u001b[0m\n\u001b[1;32m   2936\u001b[0m         \u001b[0;32melse\u001b[0m\u001b[0;34m:\u001b[0m\u001b[0;34m\u001b[0m\u001b[0;34m\u001b[0m\u001b[0m\n\u001b[0;32m-> 2937\u001b[0;31m             \u001b[0mfetched\u001b[0m \u001b[0;34m=\u001b[0m \u001b[0mself\u001b[0m\u001b[0;34m.\u001b[0m\u001b[0m_callable_fn\u001b[0m\u001b[0;34m(\u001b[0m\u001b[0;34m*\u001b[0m\u001b[0marray_vals\u001b[0m\u001b[0;34m)\u001b[0m\u001b[0;34m\u001b[0m\u001b[0;34m\u001b[0m\u001b[0m\n\u001b[0m\u001b[1;32m   2938\u001b[0m         \u001b[0;32mreturn\u001b[0m \u001b[0mfetched\u001b[0m\u001b[0;34m[\u001b[0m\u001b[0;34m:\u001b[0m\u001b[0mlen\u001b[0m\u001b[0;34m(\u001b[0m\u001b[0mself\u001b[0m\u001b[0;34m.\u001b[0m\u001b[0moutputs\u001b[0m\u001b[0;34m)\u001b[0m\u001b[0;34m]\u001b[0m\u001b[0;34m\u001b[0m\u001b[0;34m\u001b[0m\u001b[0m\n\u001b[1;32m   2939\u001b[0m \u001b[0;34m\u001b[0m\u001b[0m\n",
            "\u001b[0;32m/usr/local/lib/python3.6/dist-packages/tensorflow_core/python/client/session.py\u001b[0m in \u001b[0;36m__call__\u001b[0;34m(self, *args, **kwargs)\u001b[0m\n\u001b[1;32m   1470\u001b[0m         ret = tf_session.TF_SessionRunCallable(self._session._session,\n\u001b[1;32m   1471\u001b[0m                                                \u001b[0mself\u001b[0m\u001b[0;34m.\u001b[0m\u001b[0m_handle\u001b[0m\u001b[0;34m,\u001b[0m \u001b[0margs\u001b[0m\u001b[0;34m,\u001b[0m\u001b[0;34m\u001b[0m\u001b[0;34m\u001b[0m\u001b[0m\n\u001b[0;32m-> 1472\u001b[0;31m                                                run_metadata_ptr)\n\u001b[0m\u001b[1;32m   1473\u001b[0m         \u001b[0;32mif\u001b[0m \u001b[0mrun_metadata\u001b[0m\u001b[0;34m:\u001b[0m\u001b[0;34m\u001b[0m\u001b[0;34m\u001b[0m\u001b[0m\n\u001b[1;32m   1474\u001b[0m           \u001b[0mproto_data\u001b[0m \u001b[0;34m=\u001b[0m \u001b[0mtf_session\u001b[0m\u001b[0;34m.\u001b[0m\u001b[0mTF_GetBuffer\u001b[0m\u001b[0;34m(\u001b[0m\u001b[0mrun_metadata_ptr\u001b[0m\u001b[0;34m)\u001b[0m\u001b[0;34m\u001b[0m\u001b[0;34m\u001b[0m\u001b[0m\n",
            "\u001b[0;31mKeyboardInterrupt\u001b[0m: "
          ]
        }
      ]
    },
    {
      "cell_type": "code",
      "metadata": {
        "id": "p7H9kQ09u7AL",
        "colab_type": "code",
        "colab": {}
      },
      "source": [
        ""
      ],
      "execution_count": 0,
      "outputs": []
    }
  ]
}