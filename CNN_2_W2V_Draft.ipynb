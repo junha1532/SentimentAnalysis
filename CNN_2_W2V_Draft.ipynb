{
  "nbformat": 4,
  "nbformat_minor": 0,
  "metadata": {
    "colab": {
      "name": "CNN_W2V.ipynb",
      "provenance": [],
      "collapsed_sections": []
    },
    "kernelspec": {
      "name": "python3",
      "display_name": "Python 3"
    }
  },
  "cells": [
    {
      "cell_type": "code",
      "metadata": {
        "id": "wL4QsSGDv-uE",
        "colab_type": "code",
        "colab": {
          "base_uri": "https://localhost:8080/",
          "height": 122
        },
        "outputId": "36474727-4c17-41b4-dd15-ae4b002b4454"
      },
      "source": [
        "from google.colab import drive\n",
        "drive.mount('/content/drive')"
      ],
      "execution_count": 1,
      "outputs": [
        {
          "output_type": "stream",
          "text": [
            "Go to this URL in a browser: https://accounts.google.com/o/oauth2/auth?client_id=947318989803-6bn6qk8qdgf4n4g3pfee6491hc0brc4i.apps.googleusercontent.com&redirect_uri=urn%3aietf%3awg%3aoauth%3a2.0%3aoob&response_type=code&scope=email%20https%3a%2f%2fwww.googleapis.com%2fauth%2fdocs.test%20https%3a%2f%2fwww.googleapis.com%2fauth%2fdrive%20https%3a%2f%2fwww.googleapis.com%2fauth%2fdrive.photos.readonly%20https%3a%2f%2fwww.googleapis.com%2fauth%2fpeopleapi.readonly\n",
            "\n",
            "Enter your authorization code:\n",
            "··········\n",
            "Mounted at /content/drive\n"
          ],
          "name": "stdout"
        }
      ]
    },
    {
      "cell_type": "code",
      "metadata": {
        "id": "vF4g_jnIwFxC",
        "colab_type": "code",
        "colab": {
          "base_uri": "https://localhost:8080/",
          "height": 258
        },
        "outputId": "f36f7b41-7248-4510-ed40-fef069a3a35c"
      },
      "source": [
        "import numpy as np\n",
        "import pandas as pd\n",
        "import random as rd\n",
        "data = pd.read_csv(\"drive/My Drive/clean_tweet.csv\",index_col=0)\n",
        "data.head()"
      ],
      "execution_count": 2,
      "outputs": [
        {
          "output_type": "stream",
          "text": [
            "/usr/local/lib/python3.6/dist-packages/numpy/lib/arraysetops.py:568: FutureWarning: elementwise comparison failed; returning scalar instead, but in the future will perform elementwise comparison\n",
            "  mask |= (ar1 == a)\n"
          ],
          "name": "stderr"
        },
        {
          "output_type": "execute_result",
          "data": {
            "text/html": [
              "<div>\n",
              "<style scoped>\n",
              "    .dataframe tbody tr th:only-of-type {\n",
              "        vertical-align: middle;\n",
              "    }\n",
              "\n",
              "    .dataframe tbody tr th {\n",
              "        vertical-align: top;\n",
              "    }\n",
              "\n",
              "    .dataframe thead th {\n",
              "        text-align: right;\n",
              "    }\n",
              "</style>\n",
              "<table border=\"1\" class=\"dataframe\">\n",
              "  <thead>\n",
              "    <tr style=\"text-align: right;\">\n",
              "      <th></th>\n",
              "      <th>tweet_text</th>\n",
              "      <th>target</th>\n",
              "    </tr>\n",
              "  </thead>\n",
              "  <tbody>\n",
              "    <tr>\n",
              "      <th>0</th>\n",
              "      <td>awww that bummer you shoulda got david carr of...</td>\n",
              "      <td>0</td>\n",
              "    </tr>\n",
              "    <tr>\n",
              "      <th>1</th>\n",
              "      <td>is upset that he can not update his facebook b...</td>\n",
              "      <td>0</td>\n",
              "    </tr>\n",
              "    <tr>\n",
              "      <th>2</th>\n",
              "      <td>dived many times for the ball managed to save ...</td>\n",
              "      <td>0</td>\n",
              "    </tr>\n",
              "    <tr>\n",
              "      <th>3</th>\n",
              "      <td>my whole body feels itchy and like its on fire</td>\n",
              "      <td>0</td>\n",
              "    </tr>\n",
              "    <tr>\n",
              "      <th>4</th>\n",
              "      <td>no it not behaving at all mad why am here beca...</td>\n",
              "      <td>0</td>\n",
              "    </tr>\n",
              "  </tbody>\n",
              "</table>\n",
              "</div>"
            ],
            "text/plain": [
              "                                          tweet_text  target\n",
              "0  awww that bummer you shoulda got david carr of...       0\n",
              "1  is upset that he can not update his facebook b...       0\n",
              "2  dived many times for the ball managed to save ...       0\n",
              "3     my whole body feels itchy and like its on fire       0\n",
              "4  no it not behaving at all mad why am here beca...       0"
            ]
          },
          "metadata": {
            "tags": []
          },
          "execution_count": 2
        }
      ]
    },
    {
      "cell_type": "code",
      "metadata": {
        "id": "3QhscIGUwL4Z",
        "colab_type": "code",
        "colab": {
          "base_uri": "https://localhost:8080/",
          "height": 669
        },
        "outputId": "9241f0fe-560b-4432-948f-4742ed3bcf69"
      },
      "source": [
        "data[data.isnull().any(axis=1)].head(20)\n"
      ],
      "execution_count": 3,
      "outputs": [
        {
          "output_type": "execute_result",
          "data": {
            "text/html": [
              "<div>\n",
              "<style scoped>\n",
              "    .dataframe tbody tr th:only-of-type {\n",
              "        vertical-align: middle;\n",
              "    }\n",
              "\n",
              "    .dataframe tbody tr th {\n",
              "        vertical-align: top;\n",
              "    }\n",
              "\n",
              "    .dataframe thead th {\n",
              "        text-align: right;\n",
              "    }\n",
              "</style>\n",
              "<table border=\"1\" class=\"dataframe\">\n",
              "  <thead>\n",
              "    <tr style=\"text-align: right;\">\n",
              "      <th></th>\n",
              "      <th>tweet_text</th>\n",
              "      <th>target</th>\n",
              "    </tr>\n",
              "  </thead>\n",
              "  <tbody>\n",
              "    <tr>\n",
              "      <th>208</th>\n",
              "      <td>NaN</td>\n",
              "      <td>0</td>\n",
              "    </tr>\n",
              "    <tr>\n",
              "      <th>249</th>\n",
              "      <td>NaN</td>\n",
              "      <td>0</td>\n",
              "    </tr>\n",
              "    <tr>\n",
              "      <th>282</th>\n",
              "      <td>NaN</td>\n",
              "      <td>0</td>\n",
              "    </tr>\n",
              "    <tr>\n",
              "      <th>398</th>\n",
              "      <td>NaN</td>\n",
              "      <td>0</td>\n",
              "    </tr>\n",
              "    <tr>\n",
              "      <th>430</th>\n",
              "      <td>NaN</td>\n",
              "      <td>0</td>\n",
              "    </tr>\n",
              "    <tr>\n",
              "      <th>1011</th>\n",
              "      <td>NaN</td>\n",
              "      <td>0</td>\n",
              "    </tr>\n",
              "    <tr>\n",
              "      <th>1014</th>\n",
              "      <td>NaN</td>\n",
              "      <td>0</td>\n",
              "    </tr>\n",
              "    <tr>\n",
              "      <th>1231</th>\n",
              "      <td>NaN</td>\n",
              "      <td>0</td>\n",
              "    </tr>\n",
              "    <tr>\n",
              "      <th>1421</th>\n",
              "      <td>NaN</td>\n",
              "      <td>0</td>\n",
              "    </tr>\n",
              "    <tr>\n",
              "      <th>1486</th>\n",
              "      <td>NaN</td>\n",
              "      <td>0</td>\n",
              "    </tr>\n",
              "    <tr>\n",
              "      <th>1641</th>\n",
              "      <td>NaN</td>\n",
              "      <td>0</td>\n",
              "    </tr>\n",
              "    <tr>\n",
              "      <th>2898</th>\n",
              "      <td>NaN</td>\n",
              "      <td>0</td>\n",
              "    </tr>\n",
              "    <tr>\n",
              "      <th>4377</th>\n",
              "      <td>NaN</td>\n",
              "      <td>0</td>\n",
              "    </tr>\n",
              "    <tr>\n",
              "      <th>4508</th>\n",
              "      <td>NaN</td>\n",
              "      <td>0</td>\n",
              "    </tr>\n",
              "    <tr>\n",
              "      <th>6058</th>\n",
              "      <td>NaN</td>\n",
              "      <td>0</td>\n",
              "    </tr>\n",
              "    <tr>\n",
              "      <th>6419</th>\n",
              "      <td>NaN</td>\n",
              "      <td>0</td>\n",
              "    </tr>\n",
              "    <tr>\n",
              "      <th>7840</th>\n",
              "      <td>NaN</td>\n",
              "      <td>0</td>\n",
              "    </tr>\n",
              "    <tr>\n",
              "      <th>8838</th>\n",
              "      <td>NaN</td>\n",
              "      <td>0</td>\n",
              "    </tr>\n",
              "    <tr>\n",
              "      <th>9072</th>\n",
              "      <td>NaN</td>\n",
              "      <td>0</td>\n",
              "    </tr>\n",
              "    <tr>\n",
              "      <th>9556</th>\n",
              "      <td>NaN</td>\n",
              "      <td>0</td>\n",
              "    </tr>\n",
              "  </tbody>\n",
              "</table>\n",
              "</div>"
            ],
            "text/plain": [
              "     tweet_text  target\n",
              "208         NaN       0\n",
              "249         NaN       0\n",
              "282         NaN       0\n",
              "398         NaN       0\n",
              "430         NaN       0\n",
              "1011        NaN       0\n",
              "1014        NaN       0\n",
              "1231        NaN       0\n",
              "1421        NaN       0\n",
              "1486        NaN       0\n",
              "1641        NaN       0\n",
              "2898        NaN       0\n",
              "4377        NaN       0\n",
              "4508        NaN       0\n",
              "6058        NaN       0\n",
              "6419        NaN       0\n",
              "7840        NaN       0\n",
              "8838        NaN       0\n",
              "9072        NaN       0\n",
              "9556        NaN       0"
            ]
          },
          "metadata": {
            "tags": []
          },
          "execution_count": 3
        }
      ]
    },
    {
      "cell_type": "code",
      "metadata": {
        "id": "6kl_9tYEwO9Q",
        "colab_type": "code",
        "colab": {
          "base_uri": "https://localhost:8080/",
          "height": 136
        },
        "outputId": "fc3e1773-c9e7-4556-96d2-b7838002bd8c"
      },
      "source": [
        "data.dropna(inplace=True) #NAN values are coming from just @username, delete them \n",
        "data.reset_index(drop=True,inplace=True)\n",
        "data.info()"
      ],
      "execution_count": 4,
      "outputs": [
        {
          "output_type": "stream",
          "text": [
            "<class 'pandas.core.frame.DataFrame'>\n",
            "RangeIndex: 1596041 entries, 0 to 1596040\n",
            "Data columns (total 2 columns):\n",
            "tweet_text    1596041 non-null object\n",
            "target        1596041 non-null int64\n",
            "dtypes: int64(1), object(1)\n",
            "memory usage: 24.4+ MB\n"
          ],
          "name": "stdout"
        }
      ]
    },
    {
      "cell_type": "code",
      "metadata": {
        "id": "35jqo63awQmV",
        "colab_type": "code",
        "colab": {
          "base_uri": "https://localhost:8080/",
          "height": 49
        },
        "outputId": "688a75eb-a02f-442d-d04b-d86452cae880"
      },
      "source": [
        "data[data.isnull().any(axis=1)].head() #No more null data\n"
      ],
      "execution_count": 5,
      "outputs": [
        {
          "output_type": "execute_result",
          "data": {
            "text/html": [
              "<div>\n",
              "<style scoped>\n",
              "    .dataframe tbody tr th:only-of-type {\n",
              "        vertical-align: middle;\n",
              "    }\n",
              "\n",
              "    .dataframe tbody tr th {\n",
              "        vertical-align: top;\n",
              "    }\n",
              "\n",
              "    .dataframe thead th {\n",
              "        text-align: right;\n",
              "    }\n",
              "</style>\n",
              "<table border=\"1\" class=\"dataframe\">\n",
              "  <thead>\n",
              "    <tr style=\"text-align: right;\">\n",
              "      <th></th>\n",
              "      <th>tweet_text</th>\n",
              "      <th>target</th>\n",
              "    </tr>\n",
              "  </thead>\n",
              "  <tbody>\n",
              "  </tbody>\n",
              "</table>\n",
              "</div>"
            ],
            "text/plain": [
              "Empty DataFrame\n",
              "Columns: [tweet_text, target]\n",
              "Index: []"
            ]
          },
          "metadata": {
            "tags": []
          },
          "execution_count": 5
        }
      ]
    },
    {
      "cell_type": "code",
      "metadata": {
        "id": "CkOadjyzxqov",
        "colab_type": "code",
        "colab": {}
      },
      "source": [
        "x = data.tweet_text\n",
        "y = data.target\n"
      ],
      "execution_count": 0,
      "outputs": []
    },
    {
      "cell_type": "code",
      "metadata": {
        "id": "Sow-4TBMxyRg",
        "colab_type": "code",
        "colab": {}
      },
      "source": [
        "# from sklearn.model_selection import train_test_split\n",
        "# SEED = 2000\n",
        "# x_train, x_validation_and_test, y_train, y_validation_and_test = train_test_split(x, y, test_size=.02, random_state=SEED)\n",
        "# x_validation, x_test, y_validation, y_test = train_test_split(x_validation_and_test, y_validation_and_test, test_size=.5, random_state=SEED)"
      ],
      "execution_count": 0,
      "outputs": []
    },
    {
      "cell_type": "code",
      "metadata": {
        "id": "3WPdv79jwRsn",
        "colab_type": "code",
        "colab": {}
      },
      "source": [
        "from tqdm import tqdm\n",
        "import gensim\n",
        "from gensim.models.word2vec import Word2Vec\n",
        "from gensim.models.doc2vec import TaggedDocument\n",
        "import multiprocessing\n",
        "from sklearn import utils\n",
        "\n",
        "def labelize_tweets_ug(tweets,label):\n",
        "    result = []\n",
        "    prefix = label\n",
        "    for i, t in zip(tweets.index, tweets):\n",
        "        result.append(TaggedDocument(t.split(), [prefix + '_%s' % i]))\n",
        "    return result"
      ],
      "execution_count": 0,
      "outputs": []
    },
    {
      "cell_type": "code",
      "metadata": {
        "id": "ss8xvjNyxdbm",
        "colab_type": "code",
        "colab": {}
      },
      "source": [
        "all_x = pd.concat([x])\n",
        "all_x_w2v = labelize_tweets_ug(all_x, 'all')"
      ],
      "execution_count": 0,
      "outputs": []
    },
    {
      "cell_type": "code",
      "metadata": {
        "id": "HdnpoQJCytSd",
        "colab_type": "code",
        "colab": {
          "base_uri": "https://localhost:8080/",
          "height": 34
        },
        "outputId": "79eae7e1-033c-453b-f82d-16a0f91628be"
      },
      "source": [
        "cores = multiprocessing.cpu_count()\n",
        "model_ug_cbow = Word2Vec(sg=0, size=100, negative=5, window=2, min_count=2, workers=cores, alpha=0.065, min_alpha=0.065)\n",
        "model_ug_cbow.build_vocab([x.words for x in tqdm(all_x_w2v)])"
      ],
      "execution_count": 28,
      "outputs": [
        {
          "output_type": "stream",
          "text": [
            "100%|██████████| 1596041/1596041 [00:00<00:00, 3010277.03it/s]\n"
          ],
          "name": "stderr"
        }
      ]
    },
    {
      "cell_type": "code",
      "metadata": {
        "id": "nRMGXKyJy1sL",
        "colab_type": "code",
        "colab": {
          "base_uri": "https://localhost:8080/",
          "height": 561
        },
        "outputId": "f9993394-9eb9-464a-f954-95405ccd0abf"
      },
      "source": [
        "%%time\n",
        "for epoch in range(30):\n",
        "    model_ug_cbow.train(utils.shuffle([x.words for x in tqdm(all_x_w2v)]), total_examples=len(all_x_w2v), epochs=1)\n",
        "    model_ug_cbow.alpha -= 0.002\n",
        "    model_ug_cbow.min_alpha = model_ug_cbow.alpha"
      ],
      "execution_count": 29,
      "outputs": [
        {
          "output_type": "stream",
          "text": [
            "100%|██████████| 1596041/1596041 [00:00<00:00, 3033764.81it/s]\n",
            "100%|██████████| 1596041/1596041 [00:00<00:00, 3131472.90it/s]\n",
            "100%|██████████| 1596041/1596041 [00:00<00:00, 3152310.45it/s]\n",
            "100%|██████████| 1596041/1596041 [00:00<00:00, 3162339.76it/s]\n",
            "100%|██████████| 1596041/1596041 [00:00<00:00, 3063081.15it/s]\n",
            "100%|██████████| 1596041/1596041 [00:00<00:00, 3165899.18it/s]\n",
            "100%|██████████| 1596041/1596041 [00:00<00:00, 3108685.73it/s]\n",
            "100%|██████████| 1596041/1596041 [00:00<00:00, 3241509.50it/s]\n",
            "100%|██████████| 1596041/1596041 [00:00<00:00, 3260116.65it/s]\n",
            "100%|██████████| 1596041/1596041 [00:00<00:00, 3215036.34it/s]\n",
            "100%|██████████| 1596041/1596041 [00:00<00:00, 3215159.87it/s]\n",
            "100%|██████████| 1596041/1596041 [00:00<00:00, 3191875.01it/s]\n",
            "100%|██████████| 1596041/1596041 [00:00<00:00, 3300200.18it/s]\n",
            "100%|██████████| 1596041/1596041 [00:00<00:00, 3035732.14it/s]\n",
            "100%|██████████| 1596041/1596041 [00:00<00:00, 3163302.11it/s]\n",
            "100%|██████████| 1596041/1596041 [00:00<00:00, 3219573.04it/s]\n",
            "100%|██████████| 1596041/1596041 [00:00<00:00, 3208771.91it/s]\n",
            "100%|██████████| 1596041/1596041 [00:00<00:00, 3132765.44it/s]\n",
            "100%|██████████| 1596041/1596041 [00:00<00:00, 3215891.98it/s]\n",
            "100%|██████████| 1596041/1596041 [00:00<00:00, 3128795.98it/s]\n",
            "100%|██████████| 1596041/1596041 [00:00<00:00, 3236896.73it/s]\n",
            "100%|██████████| 1596041/1596041 [00:00<00:00, 3208538.14it/s]\n",
            "100%|██████████| 1596041/1596041 [00:00<00:00, 3195736.18it/s]\n",
            "100%|██████████| 1596041/1596041 [00:00<00:00, 3223355.66it/s]\n",
            "100%|██████████| 1596041/1596041 [00:00<00:00, 3215579.95it/s]\n",
            "100%|██████████| 1596041/1596041 [00:00<00:00, 3219571.49it/s]\n",
            "100%|██████████| 1596041/1596041 [00:00<00:00, 3257957.25it/s]\n",
            "100%|██████████| 1596041/1596041 [00:00<00:00, 3304528.68it/s]\n",
            "100%|██████████| 1596041/1596041 [00:00<00:00, 3254857.24it/s]\n",
            "100%|██████████| 1596041/1596041 [00:00<00:00, 3225954.37it/s]\n"
          ],
          "name": "stderr"
        },
        {
          "output_type": "stream",
          "text": [
            "CPU times: user 20min 15s, sys: 3.96 s, total: 20min 19s\n",
            "Wall time: 10min 56s\n"
          ],
          "name": "stdout"
        }
      ]
    },
    {
      "cell_type": "code",
      "metadata": {
        "id": "qctzHLRzy30v",
        "colab_type": "code",
        "colab": {
          "base_uri": "https://localhost:8080/",
          "height": 34
        },
        "outputId": "41d4a869-e4e9-4b69-f12c-94c60097b26b"
      },
      "source": [
        "model_ug_sg = Word2Vec(sg=1, size=100, negative=5, window=2, min_count=2, workers=cores, alpha=0.065, min_alpha=0.065)\n",
        "model_ug_sg.build_vocab([x.words for x in tqdm(all_x_w2v)])"
      ],
      "execution_count": 30,
      "outputs": [
        {
          "output_type": "stream",
          "text": [
            "100%|██████████| 1596041/1596041 [00:00<00:00, 3134491.94it/s]\n"
          ],
          "name": "stderr"
        }
      ]
    },
    {
      "cell_type": "code",
      "metadata": {
        "id": "wTgzaMZEy5Ir",
        "colab_type": "code",
        "colab": {
          "base_uri": "https://localhost:8080/",
          "height": 561
        },
        "outputId": "c3a1b079-d0f4-4af7-d540-f0659e8fd01d"
      },
      "source": [
        "%%time\n",
        "for epoch in range(30):\n",
        "    model_ug_sg.train(utils.shuffle([x.words for x in tqdm(all_x_w2v)]), total_examples=len(all_x_w2v), epochs=1)\n",
        "    model_ug_sg.alpha -= 0.002\n",
        "    model_ug_sg.min_alpha = model_ug_sg.alpha"
      ],
      "execution_count": 31,
      "outputs": [
        {
          "output_type": "stream",
          "text": [
            "100%|██████████| 1596041/1596041 [00:00<00:00, 3068845.40it/s]\n",
            "100%|██████████| 1596041/1596041 [00:00<00:00, 3115721.89it/s]\n",
            "100%|██████████| 1596041/1596041 [00:00<00:00, 3171932.54it/s]\n",
            "100%|██████████| 1596041/1596041 [00:00<00:00, 3157860.02it/s]\n",
            "100%|██████████| 1596041/1596041 [00:00<00:00, 3178165.46it/s]\n",
            "100%|██████████| 1596041/1596041 [00:00<00:00, 3193220.94it/s]\n",
            "100%|██████████| 1596041/1596041 [00:00<00:00, 3168016.19it/s]\n",
            "100%|██████████| 1596041/1596041 [00:00<00:00, 3111157.71it/s]\n",
            "100%|██████████| 1596041/1596041 [00:00<00:00, 3203569.41it/s]\n",
            "100%|██████████| 1596041/1596041 [00:00<00:00, 3131773.23it/s]\n",
            "100%|██████████| 1596041/1596041 [00:00<00:00, 3162106.74it/s]\n",
            "100%|██████████| 1596041/1596041 [00:00<00:00, 3192018.07it/s]\n",
            "100%|██████████| 1596041/1596041 [00:00<00:00, 3190242.84it/s]\n",
            "100%|██████████| 1596041/1596041 [00:00<00:00, 3202902.66it/s]\n",
            "100%|██████████| 1596041/1596041 [00:00<00:00, 3169546.15it/s]\n",
            "100%|██████████| 1596041/1596041 [00:00<00:00, 3225685.45it/s]\n",
            "100%|██████████| 1596041/1596041 [00:00<00:00, 3264375.60it/s]\n",
            "100%|██████████| 1596041/1596041 [00:00<00:00, 3165399.18it/s]\n",
            "100%|██████████| 1596041/1596041 [00:00<00:00, 3258618.57it/s]\n",
            "100%|██████████| 1596041/1596041 [00:00<00:00, 3227424.12it/s]\n",
            "100%|██████████| 1596041/1596041 [00:00<00:00, 3165180.67it/s]\n",
            "100%|██████████| 1596041/1596041 [00:00<00:00, 3221984.21it/s]\n",
            "100%|██████████| 1596041/1596041 [00:00<00:00, 3150669.55it/s]\n",
            "100%|██████████| 1596041/1596041 [00:00<00:00, 3184933.50it/s]\n",
            "100%|██████████| 1596041/1596041 [00:00<00:00, 3140272.02it/s]\n",
            "100%|██████████| 1596041/1596041 [00:00<00:00, 3033528.35it/s]\n",
            "100%|██████████| 1596041/1596041 [00:00<00:00, 3162906.04it/s]\n",
            "100%|██████████| 1596041/1596041 [00:00<00:00, 3081329.67it/s]\n",
            "100%|██████████| 1596041/1596041 [00:00<00:00, 3180292.87it/s]\n",
            "100%|██████████| 1596041/1596041 [00:00<00:00, 3036501.88it/s]\n"
          ],
          "name": "stderr"
        },
        {
          "output_type": "stream",
          "text": [
            "CPU times: user 35min 16s, sys: 4.05 s, total: 35min 20s\n",
            "Wall time: 18min 25s\n"
          ],
          "name": "stdout"
        }
      ]
    },
    {
      "cell_type": "code",
      "metadata": {
        "id": "KZZpYxKzzMIE",
        "colab_type": "code",
        "colab": {
          "base_uri": "https://localhost:8080/",
          "height": 71
        },
        "outputId": "6e9b28c2-2021-4819-b3d8-06017b9392c1"
      },
      "source": [
        "model_ug_cbow.save('drive/My Drive/w2v_model_ug_cbow.word2vec')\n",
        "model_ug_sg.save('drive/My Drive/w2v_model_ug_sg.word2vec')"
      ],
      "execution_count": 32,
      "outputs": [
        {
          "output_type": "stream",
          "text": [
            "/usr/local/lib/python3.6/dist-packages/smart_open/smart_open_lib.py:402: UserWarning: This function is deprecated, use smart_open.open instead. See the migration notes for details: https://github.com/RaRe-Technologies/smart_open/blob/master/README.rst#migrating-to-the-new-open-function\n",
            "  'See the migration notes for details: %s' % _MIGRATION_NOTES_URL\n"
          ],
          "name": "stderr"
        }
      ]
    },
    {
      "cell_type": "code",
      "metadata": {
        "id": "KA5zvGe06Hts",
        "colab_type": "code",
        "colab": {
          "base_uri": "https://localhost:8080/",
          "height": 71
        },
        "outputId": "af25d251-4415-4a0e-91cd-30e854af3843"
      },
      "source": [
        "from gensim.models import KeyedVectors\n",
        "model_ug_cbow = KeyedVectors.load('drive/My Drive/w2v_model_ug_cbow.word2vec')\n",
        "model_ug_sg = KeyedVectors.load('drive/My Drive/w2v_model_ug_sg.word2vec')"
      ],
      "execution_count": 34,
      "outputs": [
        {
          "output_type": "stream",
          "text": [
            "/usr/local/lib/python3.6/dist-packages/smart_open/smart_open_lib.py:402: UserWarning: This function is deprecated, use smart_open.open instead. See the migration notes for details: https://github.com/RaRe-Technologies/smart_open/blob/master/README.rst#migrating-to-the-new-open-function\n",
            "  'See the migration notes for details: %s' % _MIGRATION_NOTES_URL\n"
          ],
          "name": "stderr"
        }
      ]
    },
    {
      "cell_type": "code",
      "metadata": {
        "id": "1NQiVCbY6QmP",
        "colab_type": "code",
        "colab": {
          "base_uri": "https://localhost:8080/",
          "height": 34
        },
        "outputId": "f1bd7b6d-323d-400e-fcbf-6d25ff11b3fe"
      },
      "source": [
        "len(model_ug_cbow.wv.vocab.keys())\n"
      ],
      "execution_count": 35,
      "outputs": [
        {
          "output_type": "execute_result",
          "data": {
            "text/plain": [
              "106259"
            ]
          },
          "metadata": {
            "tags": []
          },
          "execution_count": 35
        }
      ]
    },
    {
      "cell_type": "code",
      "metadata": {
        "id": "ra6oXmLE6VPy",
        "colab_type": "code",
        "colab": {
          "base_uri": "https://localhost:8080/",
          "height": 34
        },
        "outputId": "e0e20d0b-fdce-4258-b90d-93fa2d2c20bc"
      },
      "source": [
        "embeddings_index = {}\n",
        "for w in model_ug_cbow.wv.vocab.keys():\n",
        "    embeddings_index[w] = np.append(model_ug_cbow.wv[w],model_ug_sg.wv[w])\n",
        "print('Found %s word vectors.' % len(embeddings_index))"
      ],
      "execution_count": 36,
      "outputs": [
        {
          "output_type": "stream",
          "text": [
            "Found 106259 word vectors.\n"
          ],
          "name": "stdout"
        }
      ]
    },
    {
      "cell_type": "code",
      "metadata": {
        "id": "mpjC3Ebl6Ye8",
        "colab_type": "code",
        "colab": {
          "base_uri": "https://localhost:8080/",
          "height": 80
        },
        "outputId": "264cd292-b9bc-43b6-a6a0-1cee490f66ba"
      },
      "source": [
        "from keras.preprocessing.text import Tokenizer\n",
        "from keras.preprocessing.sequence import pad_sequences\n",
        "\n",
        "tokenizer = Tokenizer(num_words=100000)\n",
        "tokenizer.fit_on_texts(x)\n",
        "sequences = tokenizer.texts_to_sequences(x)"
      ],
      "execution_count": 37,
      "outputs": [
        {
          "output_type": "stream",
          "text": [
            "Using TensorFlow backend.\n"
          ],
          "name": "stderr"
        },
        {
          "output_type": "display_data",
          "data": {
            "text/html": [
              "<p style=\"color: red;\">\n",
              "The default version of TensorFlow in Colab will soon switch to TensorFlow 2.x.<br>\n",
              "We recommend you <a href=\"https://www.tensorflow.org/guide/migrate\" target=\"_blank\">upgrade</a> now \n",
              "or ensure your notebook will continue to use TensorFlow 1.x via the <code>%tensorflow_version 1.x</code> magic:\n",
              "<a href=\"https://colab.research.google.com/notebooks/tensorflow_version.ipynb\" target=\"_blank\">more info</a>.</p>\n"
            ],
            "text/plain": [
              "<IPython.core.display.HTML object>"
            ]
          },
          "metadata": {
            "tags": []
          }
        }
      ]
    },
    {
      "cell_type": "code",
      "metadata": {
        "id": "PZmXsn_n6bRf",
        "colab_type": "code",
        "colab": {
          "base_uri": "https://localhost:8080/",
          "height": 34
        },
        "outputId": "f4939916-7889-4f7c-9b42-b15da1d3a529"
      },
      "source": [
        "len(tokenizer.word_index)\n"
      ],
      "execution_count": 38,
      "outputs": [
        {
          "output_type": "execute_result",
          "data": {
            "text/plain": [
              "264939"
            ]
          },
          "metadata": {
            "tags": []
          },
          "execution_count": 38
        }
      ]
    },
    {
      "cell_type": "code",
      "metadata": {
        "id": "1RX5Z-pw6oma",
        "colab_type": "code",
        "colab": {
          "base_uri": "https://localhost:8080/",
          "height": 34
        },
        "outputId": "5805bdcc-3337-43c5-9c5c-cda548fce699"
      },
      "source": [
        "x_train_seq = pad_sequences(sequences, maxlen=50)\n",
        "print('Shape of data tensor:', x_train_seq.shape)"
      ],
      "execution_count": 39,
      "outputs": [
        {
          "output_type": "stream",
          "text": [
            "Shape of data tensor: (1596041, 50)\n"
          ],
          "name": "stdout"
        }
      ]
    },
    {
      "cell_type": "code",
      "metadata": {
        "id": "naW50rBL7dOa",
        "colab_type": "code",
        "colab": {}
      },
      "source": [
        "num_words = 100000\n",
        "embedding_matrix = np.zeros((num_words, 200))\n",
        "for word, i in tokenizer.word_index.items():\n",
        "    if i >= num_words:\n",
        "        continue\n",
        "    embedding_vector = embeddings_index.get(word)\n",
        "    if embedding_vector is not None:\n",
        "        embedding_matrix[i] = embedding_vector"
      ],
      "execution_count": 0,
      "outputs": []
    },
    {
      "cell_type": "code",
      "metadata": {
        "id": "uQM_Jojq7rU0",
        "colab_type": "code",
        "colab": {
          "base_uri": "https://localhost:8080/",
          "height": 34
        },
        "outputId": "c5474902-776d-4cf0-f334-6b500ceed9cb"
      },
      "source": [
        "np.array_equal(embedding_matrix[6] ,embeddings_index.get('you'))\n"
      ],
      "execution_count": 41,
      "outputs": [
        {
          "output_type": "execute_result",
          "data": {
            "text/plain": [
              "True"
            ]
          },
          "metadata": {
            "tags": []
          },
          "execution_count": 41
        }
      ]
    },
    {
      "cell_type": "code",
      "metadata": {
        "id": "-ahGelQH8Q2t",
        "colab_type": "code",
        "colab": {
          "base_uri": "https://localhost:8080/",
          "height": 221
        },
        "outputId": "889a82ed-7b35-4450-8ae4-e24171205d82"
      },
      "source": [
        "y"
      ],
      "execution_count": 43,
      "outputs": [
        {
          "output_type": "execute_result",
          "data": {
            "text/plain": [
              "0          0\n",
              "1          0\n",
              "2          0\n",
              "3          0\n",
              "4          0\n",
              "          ..\n",
              "1596036    4\n",
              "1596037    4\n",
              "1596038    4\n",
              "1596039    4\n",
              "1596040    4\n",
              "Name: target, Length: 1596041, dtype: int64"
            ]
          },
          "metadata": {
            "tags": []
          },
          "execution_count": 43
        }
      ]
    },
    {
      "cell_type": "code",
      "metadata": {
        "id": "NF-cah1R8P6t",
        "colab_type": "code",
        "colab": {}
      },
      "source": [
        "y = np.array(list(map(lambda x: 0 if x==0 else 1, y))) "
      ],
      "execution_count": 0,
      "outputs": []
    },
    {
      "cell_type": "code",
      "metadata": {
        "id": "jiX3EeCb8Ul7",
        "colab_type": "code",
        "colab": {
          "base_uri": "https://localhost:8080/",
          "height": 34
        },
        "outputId": "c792a121-9a7f-4efd-e65e-e06f8e6da9c3"
      },
      "source": [
        "len(y)"
      ],
      "execution_count": 46,
      "outputs": [
        {
          "output_type": "execute_result",
          "data": {
            "text/plain": [
              "1596041"
            ]
          },
          "metadata": {
            "tags": []
          },
          "execution_count": 46
        }
      ]
    },
    {
      "cell_type": "code",
      "metadata": {
        "id": "oxYgP3GF8XaN",
        "colab_type": "code",
        "colab": {}
      },
      "source": [
        "y_train = y"
      ],
      "execution_count": 0,
      "outputs": []
    },
    {
      "cell_type": "code",
      "metadata": {
        "id": "ETLnqPnq7tYj",
        "colab_type": "code",
        "colab": {}
      },
      "source": [
        "seed = 7\n",
        "from keras.models import Sequential\n",
        "from keras.layers import Dense, Dropout\n",
        "from keras.layers import Flatten\n",
        "from keras.layers.embeddings import Embedding\n",
        "from keras.layers import Conv1D, GlobalMaxPooling1D\n",
        "\n"
      ],
      "execution_count": 0,
      "outputs": []
    },
    {
      "cell_type": "code",
      "metadata": {
        "id": "xethITvV75Lk",
        "colab_type": "code",
        "colab": {}
      },
      "source": [
        "from keras.layers import Input, Dense, concatenate, Activation\n",
        "from keras.models import Model\n",
        "\n",
        "model_cnn_03 = Sequential()\n",
        "e = Embedding(100000, 200, weights=[embedding_matrix], input_length=50, trainable=True)\n",
        "model_cnn_03.add(e)\n",
        "model_cnn_03.add(Conv1D(filters=100, kernel_size=2, padding='valid', activation='relu', strides=1))\n",
        "model_cnn_03.add(GlobalMaxPooling1D())\n",
        "model_cnn_03.add(Dense(256, activation='relu'))\n",
        "model_cnn_03.add(Dense(1, activation='sigmoid'))\n",
        "model_cnn_03.compile(loss='binary_crossentropy', optimizer='adam', metrics=['accuracy'])"
      ],
      "execution_count": 0,
      "outputs": []
    },
    {
      "cell_type": "code",
      "metadata": {
        "id": "SF1hzzaVCivM",
        "colab_type": "code",
        "colab": {
          "base_uri": "https://localhost:8080/",
          "height": 411
        },
        "outputId": "190582c8-915a-4120-f4c3-d1cc460bf8d7"
      },
      "source": [
        "from keras.callbacks import ModelCheckpoint\n",
        "filepath=\"CNN_best_weights.{epoch:02d}-{val_acc:.4f}.hdf5\"\n",
        "checkpoint = ModelCheckpoint(filepath, monitor='val_acc', verbose=1, save_best_only=True, mode='max')\n",
        "\n",
        "model_cnn_03.fit(x_train_seq, y_train, batch_size=32, epochs=5,\n",
        "                     validation_split=0.01, callbacks = [checkpoint])"
      ],
      "execution_count": 82,
      "outputs": [
        {
          "output_type": "stream",
          "text": [
            "Train on 1580080 samples, validate on 15961 samples\n",
            "Epoch 1/5\n",
            "1580080/1580080 [==============================] - 515s 326us/step - loss: 0.4014 - acc: 0.8173 - val_loss: 0.4249 - val_acc: 0.8038\n",
            "\n",
            "Epoch 00001: val_acc improved from -inf to 0.80383, saving model to CNN_best_weights.01-0.8038.hdf5\n",
            "Epoch 2/5\n",
            "1580080/1580080 [==============================] - 517s 327us/step - loss: 0.3647 - acc: 0.8380 - val_loss: 0.3764 - val_acc: 0.8239\n",
            "\n",
            "Epoch 00002: val_acc improved from 0.80383 to 0.82388, saving model to CNN_best_weights.02-0.8239.hdf5\n",
            "Epoch 3/5\n",
            "1580080/1580080 [==============================] - 523s 331us/step - loss: 0.3405 - acc: 0.8514 - val_loss: 0.4059 - val_acc: 0.8097\n",
            "\n",
            "Epoch 00003: val_acc did not improve from 0.82388\n",
            "Epoch 4/5\n",
            "1580080/1580080 [==============================] - 515s 326us/step - loss: 0.3175 - acc: 0.8633 - val_loss: 0.4108 - val_acc: 0.8176\n",
            "\n",
            "Epoch 00004: val_acc did not improve from 0.82388\n",
            "Epoch 5/5\n",
            "1580080/1580080 [==============================] - 517s 327us/step - loss: 0.2949 - acc: 0.8749 - val_loss: 0.4173 - val_acc: 0.7996\n",
            "\n",
            "Epoch 00005: val_acc did not improve from 0.82388\n"
          ],
          "name": "stdout"
        },
        {
          "output_type": "execute_result",
          "data": {
            "text/plain": [
              "<keras.callbacks.History at 0x7ff121a467b8>"
            ]
          },
          "metadata": {
            "tags": []
          },
          "execution_count": 82
        }
      ]
    },
    {
      "cell_type": "code",
      "metadata": {
        "id": "7weSAV4s8iiD",
        "colab_type": "code",
        "colab": {
          "base_uri": "https://localhost:8080/",
          "height": 589
        },
        "outputId": "495280a8-c03d-4f3b-9905-fa1b2850d102"
      },
      "source": [
        "columns = ['polarity','tweet_id','date','query_string','username','tweet_text']\n",
        "\n",
        "\n",
        "test = pd.read_csv(\"drive/My Drive/testdata.csv\", sep=\",\", header = None, names=columns)\n",
        "test"
      ],
      "execution_count": 83,
      "outputs": [
        {
          "output_type": "execute_result",
          "data": {
            "text/html": [
              "<div>\n",
              "<style scoped>\n",
              "    .dataframe tbody tr th:only-of-type {\n",
              "        vertical-align: middle;\n",
              "    }\n",
              "\n",
              "    .dataframe tbody tr th {\n",
              "        vertical-align: top;\n",
              "    }\n",
              "\n",
              "    .dataframe thead th {\n",
              "        text-align: right;\n",
              "    }\n",
              "</style>\n",
              "<table border=\"1\" class=\"dataframe\">\n",
              "  <thead>\n",
              "    <tr style=\"text-align: right;\">\n",
              "      <th></th>\n",
              "      <th>polarity</th>\n",
              "      <th>tweet_id</th>\n",
              "      <th>date</th>\n",
              "      <th>query_string</th>\n",
              "      <th>username</th>\n",
              "      <th>tweet_text</th>\n",
              "    </tr>\n",
              "  </thead>\n",
              "  <tbody>\n",
              "    <tr>\n",
              "      <th>0</th>\n",
              "      <td>4</td>\n",
              "      <td>3</td>\n",
              "      <td>Mon May 11 03:17:40 UTC 2009</td>\n",
              "      <td>kindle2</td>\n",
              "      <td>tpryan</td>\n",
              "      <td>@stellargirl I loooooooovvvvvveee my Kindle2. ...</td>\n",
              "    </tr>\n",
              "    <tr>\n",
              "      <th>1</th>\n",
              "      <td>4</td>\n",
              "      <td>4</td>\n",
              "      <td>Mon May 11 03:18:03 UTC 2009</td>\n",
              "      <td>kindle2</td>\n",
              "      <td>vcu451</td>\n",
              "      <td>Reading my kindle2...  Love it... Lee childs i...</td>\n",
              "    </tr>\n",
              "    <tr>\n",
              "      <th>2</th>\n",
              "      <td>4</td>\n",
              "      <td>5</td>\n",
              "      <td>Mon May 11 03:18:54 UTC 2009</td>\n",
              "      <td>kindle2</td>\n",
              "      <td>chadfu</td>\n",
              "      <td>Ok, first assesment of the #kindle2 ...it fuck...</td>\n",
              "    </tr>\n",
              "    <tr>\n",
              "      <th>3</th>\n",
              "      <td>4</td>\n",
              "      <td>6</td>\n",
              "      <td>Mon May 11 03:19:04 UTC 2009</td>\n",
              "      <td>kindle2</td>\n",
              "      <td>SIX15</td>\n",
              "      <td>@kenburbary You'll love your Kindle2. I've had...</td>\n",
              "    </tr>\n",
              "    <tr>\n",
              "      <th>4</th>\n",
              "      <td>4</td>\n",
              "      <td>7</td>\n",
              "      <td>Mon May 11 03:21:41 UTC 2009</td>\n",
              "      <td>kindle2</td>\n",
              "      <td>yamarama</td>\n",
              "      <td>@mikefish  Fair enough. But i have the Kindle2...</td>\n",
              "    </tr>\n",
              "    <tr>\n",
              "      <th>...</th>\n",
              "      <td>...</td>\n",
              "      <td>...</td>\n",
              "      <td>...</td>\n",
              "      <td>...</td>\n",
              "      <td>...</td>\n",
              "      <td>...</td>\n",
              "    </tr>\n",
              "    <tr>\n",
              "      <th>493</th>\n",
              "      <td>2</td>\n",
              "      <td>14072</td>\n",
              "      <td>Sun Jun 14 04:31:43 UTC 2009</td>\n",
              "      <td>latex</td>\n",
              "      <td>proggit</td>\n",
              "      <td>Ask Programming: LaTeX or InDesign?: submitted...</td>\n",
              "    </tr>\n",
              "    <tr>\n",
              "      <th>494</th>\n",
              "      <td>0</td>\n",
              "      <td>14073</td>\n",
              "      <td>Sun Jun 14 04:32:17 UTC 2009</td>\n",
              "      <td>latex</td>\n",
              "      <td>sam33r</td>\n",
              "      <td>On that note, I hate Word. I hate Pages. I hat...</td>\n",
              "    </tr>\n",
              "    <tr>\n",
              "      <th>495</th>\n",
              "      <td>4</td>\n",
              "      <td>14074</td>\n",
              "      <td>Sun Jun 14 04:36:34 UTC 2009</td>\n",
              "      <td>latex</td>\n",
              "      <td>iamtheonlyjosie</td>\n",
              "      <td>Ahhh... back in a *real* text editing environm...</td>\n",
              "    </tr>\n",
              "    <tr>\n",
              "      <th>496</th>\n",
              "      <td>0</td>\n",
              "      <td>14075</td>\n",
              "      <td>Sun Jun 14 21:36:07 UTC 2009</td>\n",
              "      <td>iran</td>\n",
              "      <td>plutopup7</td>\n",
              "      <td>Trouble in Iran, I see. Hmm. Iran. Iran so far...</td>\n",
              "    </tr>\n",
              "    <tr>\n",
              "      <th>497</th>\n",
              "      <td>0</td>\n",
              "      <td>14076</td>\n",
              "      <td>Sun Jun 14 21:36:17 UTC 2009</td>\n",
              "      <td>iran</td>\n",
              "      <td>captain_pete</td>\n",
              "      <td>Reading the tweets coming out of Iran... The w...</td>\n",
              "    </tr>\n",
              "  </tbody>\n",
              "</table>\n",
              "<p>498 rows × 6 columns</p>\n",
              "</div>"
            ],
            "text/plain": [
              "     polarity  ...                                         tweet_text\n",
              "0           4  ...  @stellargirl I loooooooovvvvvveee my Kindle2. ...\n",
              "1           4  ...  Reading my kindle2...  Love it... Lee childs i...\n",
              "2           4  ...  Ok, first assesment of the #kindle2 ...it fuck...\n",
              "3           4  ...  @kenburbary You'll love your Kindle2. I've had...\n",
              "4           4  ...  @mikefish  Fair enough. But i have the Kindle2...\n",
              "..        ...  ...                                                ...\n",
              "493         2  ...  Ask Programming: LaTeX or InDesign?: submitted...\n",
              "494         0  ...  On that note, I hate Word. I hate Pages. I hat...\n",
              "495         4  ...  Ahhh... back in a *real* text editing environm...\n",
              "496         0  ...  Trouble in Iran, I see. Hmm. Iran. Iran so far...\n",
              "497         0  ...  Reading the tweets coming out of Iran... The w...\n",
              "\n",
              "[498 rows x 6 columns]"
            ]
          },
          "metadata": {
            "tags": []
          },
          "execution_count": 83
        }
      ]
    },
    {
      "cell_type": "code",
      "metadata": {
        "id": "H0dae2UhBf7S",
        "colab_type": "code",
        "colab": {
          "base_uri": "https://localhost:8080/",
          "height": 85
        },
        "outputId": "9f77000e-3f29-461c-d41e-a3a9a6bff0b9"
      },
      "source": [
        "test.polarity.value_counts() #80,000 positive and negative examples \n"
      ],
      "execution_count": 84,
      "outputs": [
        {
          "output_type": "execute_result",
          "data": {
            "text/plain": [
              "4    182\n",
              "0    177\n",
              "2    139\n",
              "Name: polarity, dtype: int64"
            ]
          },
          "metadata": {
            "tags": []
          },
          "execution_count": 84
        }
      ]
    },
    {
      "cell_type": "code",
      "metadata": {
        "id": "uz4c7ubNBh-T",
        "colab_type": "code",
        "colab": {}
      },
      "source": [
        "test = test[test.polarity != 2] #Drop neutral rows for binary classification (postive or negative)\n"
      ],
      "execution_count": 0,
      "outputs": []
    },
    {
      "cell_type": "code",
      "metadata": {
        "id": "J0hNJ7oBBjUg",
        "colab_type": "code",
        "colab": {
          "base_uri": "https://localhost:8080/",
          "height": 221
        },
        "outputId": "0268239e-ca1b-4454-b100-27bd8ce5c502"
      },
      "source": [
        "x_test = test['tweet_text']\n",
        "x_test"
      ],
      "execution_count": 86,
      "outputs": [
        {
          "output_type": "execute_result",
          "data": {
            "text/plain": [
              "0      @stellargirl I loooooooovvvvvveee my Kindle2. ...\n",
              "1      Reading my kindle2...  Love it... Lee childs i...\n",
              "2      Ok, first assesment of the #kindle2 ...it fuck...\n",
              "3      @kenburbary You'll love your Kindle2. I've had...\n",
              "4      @mikefish  Fair enough. But i have the Kindle2...\n",
              "                             ...                        \n",
              "492    After using LaTeX a lot, any other typeset mat...\n",
              "494    On that note, I hate Word. I hate Pages. I hat...\n",
              "495    Ahhh... back in a *real* text editing environm...\n",
              "496    Trouble in Iran, I see. Hmm. Iran. Iran so far...\n",
              "497    Reading the tweets coming out of Iran... The w...\n",
              "Name: tweet_text, Length: 359, dtype: object"
            ]
          },
          "metadata": {
            "tags": []
          },
          "execution_count": 86
        }
      ]
    },
    {
      "cell_type": "code",
      "metadata": {
        "id": "TMfbGVfABk-R",
        "colab_type": "code",
        "colab": {
          "base_uri": "https://localhost:8080/",
          "height": 221
        },
        "outputId": "931932cb-41d3-45bf-9bba-8f95cfef4a73"
      },
      "source": [
        "y_test = test['polarity']\n",
        "y_test"
      ],
      "execution_count": 87,
      "outputs": [
        {
          "output_type": "execute_result",
          "data": {
            "text/plain": [
              "0      4\n",
              "1      4\n",
              "2      4\n",
              "3      4\n",
              "4      4\n",
              "      ..\n",
              "492    4\n",
              "494    0\n",
              "495    4\n",
              "496    0\n",
              "497    0\n",
              "Name: polarity, Length: 359, dtype: int64"
            ]
          },
          "metadata": {
            "tags": []
          },
          "execution_count": 87
        }
      ]
    },
    {
      "cell_type": "code",
      "metadata": {
        "id": "mrbpKIRZBm78",
        "colab_type": "code",
        "colab": {}
      },
      "source": [
        "X_test = []\n",
        "tweets = list(test['tweet_text'])\n",
        "for lines in tweets:\n",
        "    X_test.append(lines)\n",
        "\n",
        "y_test = test['polarity']\n",
        "\n",
        "#1 == positive, 0 == negative\n",
        "y_test = np.array(list(map(lambda x: 0 if x==0 else 1, y_test))) "
      ],
      "execution_count": 0,
      "outputs": []
    },
    {
      "cell_type": "code",
      "metadata": {
        "id": "KTlO2PnkNsf6",
        "colab_type": "code",
        "colab": {}
      },
      "source": [
        "sequences_test = tokenizer.texts_to_sequences(X_test)\n",
        "x_test_seq = pad_sequences(sequences_test, maxlen=50)"
      ],
      "execution_count": 0,
      "outputs": []
    },
    {
      "cell_type": "code",
      "metadata": {
        "id": "s_7F7jhYBpix",
        "colab_type": "code",
        "colab": {
          "base_uri": "https://localhost:8080/",
          "height": 34
        },
        "outputId": "d8d18979-d940-454d-8172-609f5eb453ad"
      },
      "source": [
        "# score = loaded_CNN_model.evaluate(x=X_test, y=y_test)\n",
        "from keras.models import load_model\n",
        "loaded_CNN_model = load_model('CNN_best_weights.02-0.8239.hdf5')\n",
        "score = loaded_CNN_model.evaluate(x=x_test_seq, y=y_test)"
      ],
      "execution_count": 90,
      "outputs": [
        {
          "output_type": "stream",
          "text": [
            "359/359 [==============================] - 0s 599us/step\n"
          ],
          "name": "stdout"
        }
      ]
    },
    {
      "cell_type": "code",
      "metadata": {
        "id": "U6BNM14mBs5y",
        "colab_type": "code",
        "colab": {
          "base_uri": "https://localhost:8080/",
          "height": 34
        },
        "outputId": "029065b6-223a-456e-fcca-3e2b3e017609"
      },
      "source": [
        "score[0]"
      ],
      "execution_count": 91,
      "outputs": [
        {
          "output_type": "execute_result",
          "data": {
            "text/plain": [
              "0.4112673430057621"
            ]
          },
          "metadata": {
            "tags": []
          },
          "execution_count": 91
        }
      ]
    },
    {
      "cell_type": "code",
      "metadata": {
        "id": "vVutzU5lO0vU",
        "colab_type": "code",
        "colab": {
          "base_uri": "https://localhost:8080/",
          "height": 34
        },
        "outputId": "b28cd4d2-7e5a-433d-81b0-59ccb9665291"
      },
      "source": [
        "score[1]"
      ],
      "execution_count": 92,
      "outputs": [
        {
          "output_type": "execute_result",
          "data": {
            "text/plain": [
              "0.816155989189998"
            ]
          },
          "metadata": {
            "tags": []
          },
          "execution_count": 92
        }
      ]
    },
    {
      "cell_type": "code",
      "metadata": {
        "id": "6kSwbDf0O1Wx",
        "colab_type": "code",
        "colab": {}
      },
      "source": [
        ""
      ],
      "execution_count": 0,
      "outputs": []
    }
  ]
}