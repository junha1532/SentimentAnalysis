{
  "nbformat": 4,
  "nbformat_minor": 0,
  "metadata": {
    "colab": {
      "name": "CNN_Sentiment (1).ipynb",
      "provenance": [],
      "collapsed_sections": []
    },
    "kernelspec": {
      "name": "python3",
      "display_name": "Python 3"
    },
    "accelerator": "GPU"
  },
  "cells": [
    {
      "cell_type": "code",
      "metadata": {
        "id": "aLgFoH0Mg64c",
        "colab_type": "code",
        "outputId": "269206db-1dbb-454f-c871-218207bbe067",
        "colab": {
          "base_uri": "https://localhost:8080/",
          "height": 122
        }
      },
      "source": [
        "from google.colab import drive\n",
        "drive.mount('/content/drive')\n"
      ],
      "execution_count": 1,
      "outputs": [
        {
          "output_type": "stream",
          "text": [
            "Go to this URL in a browser: https://accounts.google.com/o/oauth2/auth?client_id=947318989803-6bn6qk8qdgf4n4g3pfee6491hc0brc4i.apps.googleusercontent.com&redirect_uri=urn%3aietf%3awg%3aoauth%3a2.0%3aoob&response_type=code&scope=email%20https%3a%2f%2fwww.googleapis.com%2fauth%2fdocs.test%20https%3a%2f%2fwww.googleapis.com%2fauth%2fdrive%20https%3a%2f%2fwww.googleapis.com%2fauth%2fdrive.photos.readonly%20https%3a%2f%2fwww.googleapis.com%2fauth%2fpeopleapi.readonly\n",
            "\n",
            "Enter your authorization code:\n",
            "··········\n",
            "Mounted at /content/drive\n"
          ],
          "name": "stdout"
        }
      ]
    },
    {
      "cell_type": "code",
      "metadata": {
        "id": "RCzo4uQ8hRsv",
        "colab_type": "code",
        "outputId": "57bf658e-22d7-490e-b8c2-1e5d46626426",
        "colab": {
          "base_uri": "https://localhost:8080/",
          "height": 258
        }
      },
      "source": [
        "import numpy as np\n",
        "import pandas as pd\n",
        "import random as rd\n",
        "data = pd.read_csv(\"drive/My Drive/clean_tweet.csv\",index_col=0)\n",
        "data.head()"
      ],
      "execution_count": 2,
      "outputs": [
        {
          "output_type": "stream",
          "text": [
            "/usr/local/lib/python3.6/dist-packages/numpy/lib/arraysetops.py:568: FutureWarning: elementwise comparison failed; returning scalar instead, but in the future will perform elementwise comparison\n",
            "  mask |= (ar1 == a)\n"
          ],
          "name": "stderr"
        },
        {
          "output_type": "execute_result",
          "data": {
            "text/html": [
              "<div>\n",
              "<style scoped>\n",
              "    .dataframe tbody tr th:only-of-type {\n",
              "        vertical-align: middle;\n",
              "    }\n",
              "\n",
              "    .dataframe tbody tr th {\n",
              "        vertical-align: top;\n",
              "    }\n",
              "\n",
              "    .dataframe thead th {\n",
              "        text-align: right;\n",
              "    }\n",
              "</style>\n",
              "<table border=\"1\" class=\"dataframe\">\n",
              "  <thead>\n",
              "    <tr style=\"text-align: right;\">\n",
              "      <th></th>\n",
              "      <th>tweet_text</th>\n",
              "      <th>target</th>\n",
              "    </tr>\n",
              "  </thead>\n",
              "  <tbody>\n",
              "    <tr>\n",
              "      <th>0</th>\n",
              "      <td>awww that bummer you shoulda got david carr of...</td>\n",
              "      <td>0</td>\n",
              "    </tr>\n",
              "    <tr>\n",
              "      <th>1</th>\n",
              "      <td>is upset that he can not update his facebook b...</td>\n",
              "      <td>0</td>\n",
              "    </tr>\n",
              "    <tr>\n",
              "      <th>2</th>\n",
              "      <td>dived many times for the ball managed to save ...</td>\n",
              "      <td>0</td>\n",
              "    </tr>\n",
              "    <tr>\n",
              "      <th>3</th>\n",
              "      <td>my whole body feels itchy and like its on fire</td>\n",
              "      <td>0</td>\n",
              "    </tr>\n",
              "    <tr>\n",
              "      <th>4</th>\n",
              "      <td>no it not behaving at all mad why am here beca...</td>\n",
              "      <td>0</td>\n",
              "    </tr>\n",
              "  </tbody>\n",
              "</table>\n",
              "</div>"
            ],
            "text/plain": [
              "                                          tweet_text  target\n",
              "0  awww that bummer you shoulda got david carr of...       0\n",
              "1  is upset that he can not update his facebook b...       0\n",
              "2  dived many times for the ball managed to save ...       0\n",
              "3     my whole body feels itchy and like its on fire       0\n",
              "4  no it not behaving at all mad why am here beca...       0"
            ]
          },
          "metadata": {
            "tags": []
          },
          "execution_count": 2
        }
      ]
    },
    {
      "cell_type": "code",
      "metadata": {
        "id": "KEukAEzkhWwl",
        "colab_type": "code",
        "outputId": "85272818-f5fb-42fe-c533-cdb172e39be8",
        "colab": {
          "base_uri": "https://localhost:8080/",
          "height": 669
        }
      },
      "source": [
        "data[data.isnull().any(axis=1)].head(20)\n"
      ],
      "execution_count": 3,
      "outputs": [
        {
          "output_type": "execute_result",
          "data": {
            "text/html": [
              "<div>\n",
              "<style scoped>\n",
              "    .dataframe tbody tr th:only-of-type {\n",
              "        vertical-align: middle;\n",
              "    }\n",
              "\n",
              "    .dataframe tbody tr th {\n",
              "        vertical-align: top;\n",
              "    }\n",
              "\n",
              "    .dataframe thead th {\n",
              "        text-align: right;\n",
              "    }\n",
              "</style>\n",
              "<table border=\"1\" class=\"dataframe\">\n",
              "  <thead>\n",
              "    <tr style=\"text-align: right;\">\n",
              "      <th></th>\n",
              "      <th>tweet_text</th>\n",
              "      <th>target</th>\n",
              "    </tr>\n",
              "  </thead>\n",
              "  <tbody>\n",
              "    <tr>\n",
              "      <th>208</th>\n",
              "      <td>NaN</td>\n",
              "      <td>0</td>\n",
              "    </tr>\n",
              "    <tr>\n",
              "      <th>249</th>\n",
              "      <td>NaN</td>\n",
              "      <td>0</td>\n",
              "    </tr>\n",
              "    <tr>\n",
              "      <th>282</th>\n",
              "      <td>NaN</td>\n",
              "      <td>0</td>\n",
              "    </tr>\n",
              "    <tr>\n",
              "      <th>398</th>\n",
              "      <td>NaN</td>\n",
              "      <td>0</td>\n",
              "    </tr>\n",
              "    <tr>\n",
              "      <th>430</th>\n",
              "      <td>NaN</td>\n",
              "      <td>0</td>\n",
              "    </tr>\n",
              "    <tr>\n",
              "      <th>1011</th>\n",
              "      <td>NaN</td>\n",
              "      <td>0</td>\n",
              "    </tr>\n",
              "    <tr>\n",
              "      <th>1014</th>\n",
              "      <td>NaN</td>\n",
              "      <td>0</td>\n",
              "    </tr>\n",
              "    <tr>\n",
              "      <th>1231</th>\n",
              "      <td>NaN</td>\n",
              "      <td>0</td>\n",
              "    </tr>\n",
              "    <tr>\n",
              "      <th>1421</th>\n",
              "      <td>NaN</td>\n",
              "      <td>0</td>\n",
              "    </tr>\n",
              "    <tr>\n",
              "      <th>1486</th>\n",
              "      <td>NaN</td>\n",
              "      <td>0</td>\n",
              "    </tr>\n",
              "    <tr>\n",
              "      <th>1641</th>\n",
              "      <td>NaN</td>\n",
              "      <td>0</td>\n",
              "    </tr>\n",
              "    <tr>\n",
              "      <th>2898</th>\n",
              "      <td>NaN</td>\n",
              "      <td>0</td>\n",
              "    </tr>\n",
              "    <tr>\n",
              "      <th>4377</th>\n",
              "      <td>NaN</td>\n",
              "      <td>0</td>\n",
              "    </tr>\n",
              "    <tr>\n",
              "      <th>4508</th>\n",
              "      <td>NaN</td>\n",
              "      <td>0</td>\n",
              "    </tr>\n",
              "    <tr>\n",
              "      <th>6058</th>\n",
              "      <td>NaN</td>\n",
              "      <td>0</td>\n",
              "    </tr>\n",
              "    <tr>\n",
              "      <th>6419</th>\n",
              "      <td>NaN</td>\n",
              "      <td>0</td>\n",
              "    </tr>\n",
              "    <tr>\n",
              "      <th>7840</th>\n",
              "      <td>NaN</td>\n",
              "      <td>0</td>\n",
              "    </tr>\n",
              "    <tr>\n",
              "      <th>8838</th>\n",
              "      <td>NaN</td>\n",
              "      <td>0</td>\n",
              "    </tr>\n",
              "    <tr>\n",
              "      <th>9072</th>\n",
              "      <td>NaN</td>\n",
              "      <td>0</td>\n",
              "    </tr>\n",
              "    <tr>\n",
              "      <th>9556</th>\n",
              "      <td>NaN</td>\n",
              "      <td>0</td>\n",
              "    </tr>\n",
              "  </tbody>\n",
              "</table>\n",
              "</div>"
            ],
            "text/plain": [
              "     tweet_text  target\n",
              "208         NaN       0\n",
              "249         NaN       0\n",
              "282         NaN       0\n",
              "398         NaN       0\n",
              "430         NaN       0\n",
              "1011        NaN       0\n",
              "1014        NaN       0\n",
              "1231        NaN       0\n",
              "1421        NaN       0\n",
              "1486        NaN       0\n",
              "1641        NaN       0\n",
              "2898        NaN       0\n",
              "4377        NaN       0\n",
              "4508        NaN       0\n",
              "6058        NaN       0\n",
              "6419        NaN       0\n",
              "7840        NaN       0\n",
              "8838        NaN       0\n",
              "9072        NaN       0\n",
              "9556        NaN       0"
            ]
          },
          "metadata": {
            "tags": []
          },
          "execution_count": 3
        }
      ]
    },
    {
      "cell_type": "code",
      "metadata": {
        "id": "8xUMUL9chZKU",
        "colab_type": "code",
        "outputId": "dde9cd08-6e77-4379-98b7-4d3d50a66628",
        "colab": {
          "base_uri": "https://localhost:8080/",
          "height": 136
        }
      },
      "source": [
        "data.dropna(inplace=True) #NAN values are coming from just @username, delete them \n",
        "data.reset_index(drop=True,inplace=True)\n",
        "data.info()"
      ],
      "execution_count": 4,
      "outputs": [
        {
          "output_type": "stream",
          "text": [
            "<class 'pandas.core.frame.DataFrame'>\n",
            "RangeIndex: 1596041 entries, 0 to 1596040\n",
            "Data columns (total 2 columns):\n",
            "tweet_text    1596041 non-null object\n",
            "target        1596041 non-null int64\n",
            "dtypes: int64(1), object(1)\n",
            "memory usage: 24.4+ MB\n"
          ],
          "name": "stdout"
        }
      ]
    },
    {
      "cell_type": "code",
      "metadata": {
        "id": "hfyMrOi4hbKS",
        "colab_type": "code",
        "outputId": "13189191-3ec1-4e00-dd01-232b624fb576",
        "colab": {
          "base_uri": "https://localhost:8080/",
          "height": 49
        }
      },
      "source": [
        "data[data.isnull().any(axis=1)].head() #No more null data\n"
      ],
      "execution_count": 5,
      "outputs": [
        {
          "output_type": "execute_result",
          "data": {
            "text/html": [
              "<div>\n",
              "<style scoped>\n",
              "    .dataframe tbody tr th:only-of-type {\n",
              "        vertical-align: middle;\n",
              "    }\n",
              "\n",
              "    .dataframe tbody tr th {\n",
              "        vertical-align: top;\n",
              "    }\n",
              "\n",
              "    .dataframe thead th {\n",
              "        text-align: right;\n",
              "    }\n",
              "</style>\n",
              "<table border=\"1\" class=\"dataframe\">\n",
              "  <thead>\n",
              "    <tr style=\"text-align: right;\">\n",
              "      <th></th>\n",
              "      <th>tweet_text</th>\n",
              "      <th>target</th>\n",
              "    </tr>\n",
              "  </thead>\n",
              "  <tbody>\n",
              "  </tbody>\n",
              "</table>\n",
              "</div>"
            ],
            "text/plain": [
              "Empty DataFrame\n",
              "Columns: [tweet_text, target]\n",
              "Index: []"
            ]
          },
          "metadata": {
            "tags": []
          },
          "execution_count": 5
        }
      ]
    },
    {
      "cell_type": "code",
      "metadata": {
        "id": "Zu1iSNzNhdWH",
        "colab_type": "code",
        "outputId": "ba32729f-e6b6-416d-9e7c-9177ea8d1740",
        "colab": {
          "base_uri": "https://localhost:8080/",
          "height": 419
        }
      },
      "source": [
        "data"
      ],
      "execution_count": 6,
      "outputs": [
        {
          "output_type": "execute_result",
          "data": {
            "text/html": [
              "<div>\n",
              "<style scoped>\n",
              "    .dataframe tbody tr th:only-of-type {\n",
              "        vertical-align: middle;\n",
              "    }\n",
              "\n",
              "    .dataframe tbody tr th {\n",
              "        vertical-align: top;\n",
              "    }\n",
              "\n",
              "    .dataframe thead th {\n",
              "        text-align: right;\n",
              "    }\n",
              "</style>\n",
              "<table border=\"1\" class=\"dataframe\">\n",
              "  <thead>\n",
              "    <tr style=\"text-align: right;\">\n",
              "      <th></th>\n",
              "      <th>tweet_text</th>\n",
              "      <th>target</th>\n",
              "    </tr>\n",
              "  </thead>\n",
              "  <tbody>\n",
              "    <tr>\n",
              "      <th>0</th>\n",
              "      <td>awww that bummer you shoulda got david carr of...</td>\n",
              "      <td>0</td>\n",
              "    </tr>\n",
              "    <tr>\n",
              "      <th>1</th>\n",
              "      <td>is upset that he can not update his facebook b...</td>\n",
              "      <td>0</td>\n",
              "    </tr>\n",
              "    <tr>\n",
              "      <th>2</th>\n",
              "      <td>dived many times for the ball managed to save ...</td>\n",
              "      <td>0</td>\n",
              "    </tr>\n",
              "    <tr>\n",
              "      <th>3</th>\n",
              "      <td>my whole body feels itchy and like its on fire</td>\n",
              "      <td>0</td>\n",
              "    </tr>\n",
              "    <tr>\n",
              "      <th>4</th>\n",
              "      <td>no it not behaving at all mad why am here beca...</td>\n",
              "      <td>0</td>\n",
              "    </tr>\n",
              "    <tr>\n",
              "      <th>...</th>\n",
              "      <td>...</td>\n",
              "      <td>...</td>\n",
              "    </tr>\n",
              "    <tr>\n",
              "      <th>1596036</th>\n",
              "      <td>just woke up having no school is the best feel...</td>\n",
              "      <td>4</td>\n",
              "    </tr>\n",
              "    <tr>\n",
              "      <th>1596037</th>\n",
              "      <td>thewdb com very cool to hear old walt interviews</td>\n",
              "      <td>4</td>\n",
              "    </tr>\n",
              "    <tr>\n",
              "      <th>1596038</th>\n",
              "      <td>are you ready for your mojo makeover ask me fo...</td>\n",
              "      <td>4</td>\n",
              "    </tr>\n",
              "    <tr>\n",
              "      <th>1596039</th>\n",
              "      <td>happy th birthday to my boo of alll time tupac...</td>\n",
              "      <td>4</td>\n",
              "    </tr>\n",
              "    <tr>\n",
              "      <th>1596040</th>\n",
              "      <td>happy charitytuesday</td>\n",
              "      <td>4</td>\n",
              "    </tr>\n",
              "  </tbody>\n",
              "</table>\n",
              "<p>1596041 rows × 2 columns</p>\n",
              "</div>"
            ],
            "text/plain": [
              "                                                tweet_text  target\n",
              "0        awww that bummer you shoulda got david carr of...       0\n",
              "1        is upset that he can not update his facebook b...       0\n",
              "2        dived many times for the ball managed to save ...       0\n",
              "3           my whole body feels itchy and like its on fire       0\n",
              "4        no it not behaving at all mad why am here beca...       0\n",
              "...                                                    ...     ...\n",
              "1596036  just woke up having no school is the best feel...       4\n",
              "1596037   thewdb com very cool to hear old walt interviews       4\n",
              "1596038  are you ready for your mojo makeover ask me fo...       4\n",
              "1596039  happy th birthday to my boo of alll time tupac...       4\n",
              "1596040                               happy charitytuesday       4\n",
              "\n",
              "[1596041 rows x 2 columns]"
            ]
          },
          "metadata": {
            "tags": []
          },
          "execution_count": 6
        }
      ]
    },
    {
      "cell_type": "code",
      "metadata": {
        "id": "4wg9qT1cotca",
        "colab_type": "code",
        "outputId": "e07ef5d4-35a8-422f-aebc-f854d5e045ce",
        "colab": {
          "base_uri": "https://localhost:8080/",
          "height": 419
        }
      },
      "source": [
        "#Random sample of 100,000 points\n",
        "sample_data = data.sample(frac=.8, random_state=2000)\n",
        "sample_data\n"
      ],
      "execution_count": 8,
      "outputs": [
        {
          "output_type": "execute_result",
          "data": {
            "text/html": [
              "<div>\n",
              "<style scoped>\n",
              "    .dataframe tbody tr th:only-of-type {\n",
              "        vertical-align: middle;\n",
              "    }\n",
              "\n",
              "    .dataframe tbody tr th {\n",
              "        vertical-align: top;\n",
              "    }\n",
              "\n",
              "    .dataframe thead th {\n",
              "        text-align: right;\n",
              "    }\n",
              "</style>\n",
              "<table border=\"1\" class=\"dataframe\">\n",
              "  <thead>\n",
              "    <tr style=\"text-align: right;\">\n",
              "      <th></th>\n",
              "      <th>tweet_text</th>\n",
              "      <th>target</th>\n",
              "    </tr>\n",
              "  </thead>\n",
              "  <tbody>\n",
              "    <tr>\n",
              "      <th>1178330</th>\n",
              "      <td>finally it updates</td>\n",
              "      <td>4</td>\n",
              "    </tr>\n",
              "    <tr>\n",
              "      <th>835935</th>\n",
              "      <td>th place</td>\n",
              "      <td>4</td>\n",
              "    </tr>\n",
              "    <tr>\n",
              "      <th>799921</th>\n",
              "      <td>anybody in atlanta hiring if you are looking f...</td>\n",
              "      <td>4</td>\n",
              "    </tr>\n",
              "    <tr>\n",
              "      <th>1127201</th>\n",
              "      <td>omgoosh six flags ad sorry wanna go on thee bo...</td>\n",
              "      <td>4</td>\n",
              "    </tr>\n",
              "    <tr>\n",
              "      <th>709521</th>\n",
              "      <td>arggh that so so so bad wish you to come</td>\n",
              "      <td>0</td>\n",
              "    </tr>\n",
              "    <tr>\n",
              "      <th>...</th>\n",
              "      <td>...</td>\n",
              "      <td>...</td>\n",
              "    </tr>\n",
              "    <tr>\n",
              "      <th>877472</th>\n",
              "      <td>welcome aboard</td>\n",
              "      <td>4</td>\n",
              "    </tr>\n",
              "    <tr>\n",
              "      <th>162144</th>\n",
              "      <td>this is one of my all time favorite episodes q...</td>\n",
              "      <td>0</td>\n",
              "    </tr>\n",
              "    <tr>\n",
              "      <th>876197</th>\n",
              "      <td>probably faded earlier than want to admit but ...</td>\n",
              "      <td>4</td>\n",
              "    </tr>\n",
              "    <tr>\n",
              "      <th>660922</th>\n",
              "      <td>well tonight im babysitting stubborn year old ...</td>\n",
              "      <td>0</td>\n",
              "    </tr>\n",
              "    <tr>\n",
              "      <th>264290</th>\n",
              "      <td>spilled beer is never good via tell me about it</td>\n",
              "      <td>0</td>\n",
              "    </tr>\n",
              "  </tbody>\n",
              "</table>\n",
              "<p>1276833 rows × 2 columns</p>\n",
              "</div>"
            ],
            "text/plain": [
              "                                                tweet_text  target\n",
              "1178330                                 finally it updates       4\n",
              "835935                                            th place       4\n",
              "799921   anybody in atlanta hiring if you are looking f...       4\n",
              "1127201  omgoosh six flags ad sorry wanna go on thee bo...       4\n",
              "709521            arggh that so so so bad wish you to come       0\n",
              "...                                                    ...     ...\n",
              "877472                                      welcome aboard       4\n",
              "162144   this is one of my all time favorite episodes q...       0\n",
              "876197   probably faded earlier than want to admit but ...       4\n",
              "660922   well tonight im babysitting stubborn year old ...       0\n",
              "264290     spilled beer is never good via tell me about it       0\n",
              "\n",
              "[1276833 rows x 2 columns]"
            ]
          },
          "metadata": {
            "tags": []
          },
          "execution_count": 8
        }
      ]
    },
    {
      "cell_type": "code",
      "metadata": {
        "id": "8jGBIIXXp1x1",
        "colab_type": "code",
        "colab": {}
      },
      "source": [
        "# x_data = sample_data['tweet_text'].sample(frac=.795, random_state=2000)\n",
        "# y_data = sample_data['target'].sample(frac=.795, random_state=2000)\n",
        "# x_data"
      ],
      "execution_count": 0,
      "outputs": []
    },
    {
      "cell_type": "code",
      "metadata": {
        "id": "DCuKxWh9peq3",
        "colab_type": "code",
        "colab": {}
      },
      "source": [
        "# remaining_set = sample_data.loc[~sample_data['tweet_text'].index.isin(x_data.index), :]\n",
        "# remaining_set\n"
      ],
      "execution_count": 0,
      "outputs": []
    },
    {
      "cell_type": "code",
      "metadata": {
        "id": "TF1XEspWhd99",
        "colab_type": "code",
        "colab": {}
      },
      "source": [
        "# x_train = data['tweet_text'].sample(frac=.90, random_state=2000)\n",
        "# y_train = data['target'].sample(frac=.90, random_state=2000)\n",
        "# remaining_set = data.loc[~data['tweet_text'].index.isin(x_train.index), :]\n",
        "# remaining_set #no overlap\n",
        "\n",
        "# x_validation = remaining_set['tweet_text'].sample(frac=1, random_state=2000)\n",
        "# x_validation\n",
        "# y_validation = remaining_set['target'].sample(frac=1, random_state=2000)\n",
        "# y_validation\n",
        "\n",
        "\n",
        "X = []\n",
        "tweets = list(sample_data['tweet_text'])\n",
        "for lines in tweets:\n",
        "    X.append(lines)"
      ],
      "execution_count": 0,
      "outputs": []
    },
    {
      "cell_type": "code",
      "metadata": {
        "id": "z1i-8g5Cr6Md",
        "colab_type": "code",
        "outputId": "c46cb9bd-1665-4bd3-fab3-716a2c3dbe54",
        "colab": {
          "base_uri": "https://localhost:8080/",
          "height": 34
        }
      },
      "source": [
        "len(X)"
      ],
      "execution_count": 11,
      "outputs": [
        {
          "output_type": "execute_result",
          "data": {
            "text/plain": [
              "1276833"
            ]
          },
          "metadata": {
            "tags": []
          },
          "execution_count": 11
        }
      ]
    },
    {
      "cell_type": "code",
      "metadata": {
        "id": "63gsVkazhjEy",
        "colab_type": "code",
        "colab": {}
      },
      "source": [
        "y = sample_data['target']\n",
        "\n",
        "#1 == positive, 0 == negative\n",
        "y = np.array(list(map(lambda x: 0 if x==0 else 1, y))) "
      ],
      "execution_count": 0,
      "outputs": []
    },
    {
      "cell_type": "code",
      "metadata": {
        "id": "06XOB49ChnO8",
        "colab_type": "code",
        "colab": {
          "base_uri": "https://localhost:8080/",
          "height": 80
        },
        "outputId": "9b9f1090-4895-47b1-83fb-0bb5553d1293"
      },
      "source": [
        "from numpy import array\n",
        "from keras.preprocessing.text import one_hot\n",
        "from keras.preprocessing.sequence import pad_sequences\n",
        "from keras.preprocessing.text import Tokenizer\n",
        "from sklearn.model_selection import train_test_split, StratifiedKFold\n",
        "\n",
        "# X_train, X_test, y_train, y_test = train_test_split(X, y, test_size=0.20, random_state=42)\n",
        "# k = 5\n",
        "# folds = list(StratifiedKFold(n_splits=k, shuffle=True, random_state=1).split(X, y))\n",
        "\n",
        "\n",
        "X_train = X \n",
        "y_train = y\n"
      ],
      "execution_count": 13,
      "outputs": [
        {
          "output_type": "stream",
          "text": [
            "Using TensorFlow backend.\n"
          ],
          "name": "stderr"
        },
        {
          "output_type": "display_data",
          "data": {
            "text/html": [
              "<p style=\"color: red;\">\n",
              "The default version of TensorFlow in Colab will soon switch to TensorFlow 2.x.<br>\n",
              "We recommend you <a href=\"https://www.tensorflow.org/guide/migrate\" target=\"_blank\">upgrade</a> now \n",
              "or ensure your notebook will continue to use TensorFlow 1.x via the <code>%tensorflow_version 1.x</code> magic:\n",
              "<a href=\"https://colab.research.google.com/notebooks/tensorflow_version.ipynb\" target=\"_blank\">more info</a>.</p>\n"
            ],
            "text/plain": [
              "<IPython.core.display.HTML object>"
            ]
          },
          "metadata": {
            "tags": []
          }
        }
      ]
    },
    {
      "cell_type": "code",
      "metadata": {
        "id": "nq3CgSWYEFJq",
        "colab_type": "code",
        "outputId": "ce9642d4-9f3a-4f62-b8e3-fa4998fd6ade",
        "colab": {
          "base_uri": "https://localhost:8080/",
          "height": 34
        }
      },
      "source": [
        "len(y_train)"
      ],
      "execution_count": 14,
      "outputs": [
        {
          "output_type": "execute_result",
          "data": {
            "text/plain": [
              "1276833"
            ]
          },
          "metadata": {
            "tags": []
          },
          "execution_count": 14
        }
      ]
    },
    {
      "cell_type": "code",
      "metadata": {
        "id": "utYLjJQdhryF",
        "colab_type": "code",
        "outputId": "1bbad812-e908-4eb7-8973-5c24a691dc05",
        "colab": {
          "base_uri": "https://localhost:8080/",
          "height": 34
        }
      },
      "source": [
        "len(X_train)"
      ],
      "execution_count": 15,
      "outputs": [
        {
          "output_type": "execute_result",
          "data": {
            "text/plain": [
              "1276833"
            ]
          },
          "metadata": {
            "tags": []
          },
          "execution_count": 15
        }
      ]
    },
    {
      "cell_type": "code",
      "metadata": {
        "id": "vGiPG4Xthzp9",
        "colab_type": "code",
        "outputId": "4a9c3741-4364-44bc-8983-7b8473e6754e",
        "colab": {
          "base_uri": "https://localhost:8080/",
          "height": 419
        }
      },
      "source": [
        "columns = ['polarity','tweet_id','date','query_string','username','tweet_text']\n",
        "\n",
        "\n",
        "test = pd.read_csv(\"drive/My Drive/testdata.csv\", sep=\",\", header = None, names=columns)\n",
        "test"
      ],
      "execution_count": 16,
      "outputs": [
        {
          "output_type": "execute_result",
          "data": {
            "text/html": [
              "<div>\n",
              "<style scoped>\n",
              "    .dataframe tbody tr th:only-of-type {\n",
              "        vertical-align: middle;\n",
              "    }\n",
              "\n",
              "    .dataframe tbody tr th {\n",
              "        vertical-align: top;\n",
              "    }\n",
              "\n",
              "    .dataframe thead th {\n",
              "        text-align: right;\n",
              "    }\n",
              "</style>\n",
              "<table border=\"1\" class=\"dataframe\">\n",
              "  <thead>\n",
              "    <tr style=\"text-align: right;\">\n",
              "      <th></th>\n",
              "      <th>polarity</th>\n",
              "      <th>tweet_id</th>\n",
              "      <th>date</th>\n",
              "      <th>query_string</th>\n",
              "      <th>username</th>\n",
              "      <th>tweet_text</th>\n",
              "    </tr>\n",
              "  </thead>\n",
              "  <tbody>\n",
              "    <tr>\n",
              "      <th>0</th>\n",
              "      <td>4</td>\n",
              "      <td>3</td>\n",
              "      <td>Mon May 11 03:17:40 UTC 2009</td>\n",
              "      <td>kindle2</td>\n",
              "      <td>tpryan</td>\n",
              "      <td>@stellargirl I loooooooovvvvvveee my Kindle2. ...</td>\n",
              "    </tr>\n",
              "    <tr>\n",
              "      <th>1</th>\n",
              "      <td>4</td>\n",
              "      <td>4</td>\n",
              "      <td>Mon May 11 03:18:03 UTC 2009</td>\n",
              "      <td>kindle2</td>\n",
              "      <td>vcu451</td>\n",
              "      <td>Reading my kindle2...  Love it... Lee childs i...</td>\n",
              "    </tr>\n",
              "    <tr>\n",
              "      <th>2</th>\n",
              "      <td>4</td>\n",
              "      <td>5</td>\n",
              "      <td>Mon May 11 03:18:54 UTC 2009</td>\n",
              "      <td>kindle2</td>\n",
              "      <td>chadfu</td>\n",
              "      <td>Ok, first assesment of the #kindle2 ...it fuck...</td>\n",
              "    </tr>\n",
              "    <tr>\n",
              "      <th>3</th>\n",
              "      <td>4</td>\n",
              "      <td>6</td>\n",
              "      <td>Mon May 11 03:19:04 UTC 2009</td>\n",
              "      <td>kindle2</td>\n",
              "      <td>SIX15</td>\n",
              "      <td>@kenburbary You'll love your Kindle2. I've had...</td>\n",
              "    </tr>\n",
              "    <tr>\n",
              "      <th>4</th>\n",
              "      <td>4</td>\n",
              "      <td>7</td>\n",
              "      <td>Mon May 11 03:21:41 UTC 2009</td>\n",
              "      <td>kindle2</td>\n",
              "      <td>yamarama</td>\n",
              "      <td>@mikefish  Fair enough. But i have the Kindle2...</td>\n",
              "    </tr>\n",
              "    <tr>\n",
              "      <th>...</th>\n",
              "      <td>...</td>\n",
              "      <td>...</td>\n",
              "      <td>...</td>\n",
              "      <td>...</td>\n",
              "      <td>...</td>\n",
              "      <td>...</td>\n",
              "    </tr>\n",
              "    <tr>\n",
              "      <th>493</th>\n",
              "      <td>2</td>\n",
              "      <td>14072</td>\n",
              "      <td>Sun Jun 14 04:31:43 UTC 2009</td>\n",
              "      <td>latex</td>\n",
              "      <td>proggit</td>\n",
              "      <td>Ask Programming: LaTeX or InDesign?: submitted...</td>\n",
              "    </tr>\n",
              "    <tr>\n",
              "      <th>494</th>\n",
              "      <td>0</td>\n",
              "      <td>14073</td>\n",
              "      <td>Sun Jun 14 04:32:17 UTC 2009</td>\n",
              "      <td>latex</td>\n",
              "      <td>sam33r</td>\n",
              "      <td>On that note, I hate Word. I hate Pages. I hat...</td>\n",
              "    </tr>\n",
              "    <tr>\n",
              "      <th>495</th>\n",
              "      <td>4</td>\n",
              "      <td>14074</td>\n",
              "      <td>Sun Jun 14 04:36:34 UTC 2009</td>\n",
              "      <td>latex</td>\n",
              "      <td>iamtheonlyjosie</td>\n",
              "      <td>Ahhh... back in a *real* text editing environm...</td>\n",
              "    </tr>\n",
              "    <tr>\n",
              "      <th>496</th>\n",
              "      <td>0</td>\n",
              "      <td>14075</td>\n",
              "      <td>Sun Jun 14 21:36:07 UTC 2009</td>\n",
              "      <td>iran</td>\n",
              "      <td>plutopup7</td>\n",
              "      <td>Trouble in Iran, I see. Hmm. Iran. Iran so far...</td>\n",
              "    </tr>\n",
              "    <tr>\n",
              "      <th>497</th>\n",
              "      <td>0</td>\n",
              "      <td>14076</td>\n",
              "      <td>Sun Jun 14 21:36:17 UTC 2009</td>\n",
              "      <td>iran</td>\n",
              "      <td>captain_pete</td>\n",
              "      <td>Reading the tweets coming out of Iran... The w...</td>\n",
              "    </tr>\n",
              "  </tbody>\n",
              "</table>\n",
              "<p>498 rows × 6 columns</p>\n",
              "</div>"
            ],
            "text/plain": [
              "     polarity  ...                                         tweet_text\n",
              "0           4  ...  @stellargirl I loooooooovvvvvveee my Kindle2. ...\n",
              "1           4  ...  Reading my kindle2...  Love it... Lee childs i...\n",
              "2           4  ...  Ok, first assesment of the #kindle2 ...it fuck...\n",
              "3           4  ...  @kenburbary You'll love your Kindle2. I've had...\n",
              "4           4  ...  @mikefish  Fair enough. But i have the Kindle2...\n",
              "..        ...  ...                                                ...\n",
              "493         2  ...  Ask Programming: LaTeX or InDesign?: submitted...\n",
              "494         0  ...  On that note, I hate Word. I hate Pages. I hat...\n",
              "495         4  ...  Ahhh... back in a *real* text editing environm...\n",
              "496         0  ...  Trouble in Iran, I see. Hmm. Iran. Iran so far...\n",
              "497         0  ...  Reading the tweets coming out of Iran... The w...\n",
              "\n",
              "[498 rows x 6 columns]"
            ]
          },
          "metadata": {
            "tags": []
          },
          "execution_count": 16
        }
      ]
    },
    {
      "cell_type": "code",
      "metadata": {
        "id": "gaLW92KhVDqx",
        "colab_type": "code",
        "outputId": "fd1dc8e0-e92e-47c9-8ed5-6b71ccaf425c",
        "colab": {
          "base_uri": "https://localhost:8080/",
          "height": 85
        }
      },
      "source": [
        "test.polarity.value_counts() \n"
      ],
      "execution_count": 17,
      "outputs": [
        {
          "output_type": "execute_result",
          "data": {
            "text/plain": [
              "4    182\n",
              "0    177\n",
              "2    139\n",
              "Name: polarity, dtype: int64"
            ]
          },
          "metadata": {
            "tags": []
          },
          "execution_count": 17
        }
      ]
    },
    {
      "cell_type": "code",
      "metadata": {
        "id": "QiUCwJDygcm6",
        "colab_type": "code",
        "colab": {}
      },
      "source": [
        "test = test[test.polarity != 2] #Drop neutral rows for binary classification (postive or negative)\n"
      ],
      "execution_count": 0,
      "outputs": []
    },
    {
      "cell_type": "code",
      "metadata": {
        "id": "qHsdiHEbglZX",
        "colab_type": "code",
        "outputId": "d740b515-5522-48f0-adf8-56e4d241d8a8",
        "colab": {
          "base_uri": "https://localhost:8080/",
          "height": 68
        }
      },
      "source": [
        "test.polarity.value_counts() #80,000 positive and negative examples \n"
      ],
      "execution_count": 19,
      "outputs": [
        {
          "output_type": "execute_result",
          "data": {
            "text/plain": [
              "4    182\n",
              "0    177\n",
              "Name: polarity, dtype: int64"
            ]
          },
          "metadata": {
            "tags": []
          },
          "execution_count": 19
        }
      ]
    },
    {
      "cell_type": "code",
      "metadata": {
        "id": "dYIQt35ih2Qh",
        "colab_type": "code",
        "outputId": "dfb6675a-5358-432a-975b-f98776acc150",
        "colab": {
          "base_uri": "https://localhost:8080/",
          "height": 221
        }
      },
      "source": [
        "x_test = test['tweet_text']\n",
        "x_test"
      ],
      "execution_count": 20,
      "outputs": [
        {
          "output_type": "execute_result",
          "data": {
            "text/plain": [
              "0      @stellargirl I loooooooovvvvvveee my Kindle2. ...\n",
              "1      Reading my kindle2...  Love it... Lee childs i...\n",
              "2      Ok, first assesment of the #kindle2 ...it fuck...\n",
              "3      @kenburbary You'll love your Kindle2. I've had...\n",
              "4      @mikefish  Fair enough. But i have the Kindle2...\n",
              "                             ...                        \n",
              "492    After using LaTeX a lot, any other typeset mat...\n",
              "494    On that note, I hate Word. I hate Pages. I hat...\n",
              "495    Ahhh... back in a *real* text editing environm...\n",
              "496    Trouble in Iran, I see. Hmm. Iran. Iran so far...\n",
              "497    Reading the tweets coming out of Iran... The w...\n",
              "Name: tweet_text, Length: 359, dtype: object"
            ]
          },
          "metadata": {
            "tags": []
          },
          "execution_count": 20
        }
      ]
    },
    {
      "cell_type": "code",
      "metadata": {
        "id": "a9107SsJh4ey",
        "colab_type": "code",
        "outputId": "e7cd18c1-d2ce-4d04-b8da-ed9e14705ef2",
        "colab": {
          "base_uri": "https://localhost:8080/",
          "height": 221
        }
      },
      "source": [
        "y_test = test['polarity']\n",
        "y_test"
      ],
      "execution_count": 21,
      "outputs": [
        {
          "output_type": "execute_result",
          "data": {
            "text/plain": [
              "0      4\n",
              "1      4\n",
              "2      4\n",
              "3      4\n",
              "4      4\n",
              "      ..\n",
              "492    4\n",
              "494    0\n",
              "495    4\n",
              "496    0\n",
              "497    0\n",
              "Name: polarity, Length: 359, dtype: int64"
            ]
          },
          "metadata": {
            "tags": []
          },
          "execution_count": 21
        }
      ]
    },
    {
      "cell_type": "code",
      "metadata": {
        "id": "d0mrG6kWUgvz",
        "colab_type": "code",
        "colab": {}
      },
      "source": [
        "X_test = []\n",
        "tweets = list(test['tweet_text'])\n",
        "for lines in tweets:\n",
        "    X_test.append(lines)\n",
        "\n",
        "y_test = test['polarity']\n",
        "\n",
        "#1 == positive, 0 == negative\n",
        "y_test = np.array(list(map(lambda x: 0 if x==0 else 1, y_test))) "
      ],
      "execution_count": 0,
      "outputs": []
    },
    {
      "cell_type": "code",
      "metadata": {
        "id": "IgvXCXagzV9f",
        "colab_type": "code",
        "colab": {}
      },
      "source": [
        "# X_train"
      ],
      "execution_count": 0,
      "outputs": []
    },
    {
      "cell_type": "code",
      "metadata": {
        "id": "5SsBCzigh9Wd",
        "colab_type": "code",
        "colab": {}
      },
      "source": [
        "from keras.preprocessing.text import Tokenizer\n",
        "from keras.preprocessing.sequence import pad_sequences\n",
        "\n",
        "def tokenize(list):\n",
        "  \n",
        "  tokenizer = Tokenizer(num_words=5000)\n",
        "  tokenizer.fit_on_texts(list)\n",
        "\n",
        "  tokenized_list = tokenizer.texts_to_sequences(list)\n",
        "  # X_train = tokenizer.texts_to_sequences(X_train)\n",
        "  # X_test = tokenizer.texts_to_sequences(X_test)\n",
        "  vocab_size = len(tokenizer.word_index) + 1\n",
        "\n",
        "  return tokenized_list, tokenizer, vocab_size"
      ],
      "execution_count": 0,
      "outputs": []
    },
    {
      "cell_type": "code",
      "metadata": {
        "id": "A5ca9uS-zivj",
        "colab_type": "code",
        "colab": {}
      },
      "source": [
        "# X_train"
      ],
      "execution_count": 0,
      "outputs": []
    },
    {
      "cell_type": "code",
      "metadata": {
        "id": "RRKV3TWrin8k",
        "colab_type": "code",
        "colab": {}
      },
      "source": [
        "\n",
        "\n",
        "def pad(tokenized_list, maxlen):\n",
        "\n",
        "  padded_list = pad_sequences(tokenized_list, padding='post', maxlen=maxlen)\n",
        "  \n",
        "  return padded_list\n",
        "\n",
        "\n"
      ],
      "execution_count": 0,
      "outputs": []
    },
    {
      "cell_type": "code",
      "metadata": {
        "id": "FM7Wk5lewoEe",
        "colab_type": "code",
        "outputId": "9642968d-0099-4468-8a5a-fd09240b6992",
        "colab": {
          "base_uri": "https://localhost:8080/",
          "height": 34
        }
      },
      "source": [
        "len(X_train)\n"
      ],
      "execution_count": 27,
      "outputs": [
        {
          "output_type": "execute_result",
          "data": {
            "text/plain": [
              "1276833"
            ]
          },
          "metadata": {
            "tags": []
          },
          "execution_count": 27
        }
      ]
    },
    {
      "cell_type": "code",
      "metadata": {
        "id": "n0cTPkvCwsrr",
        "colab_type": "code",
        "outputId": "139c27ef-00fc-4b1b-9dd8-dc29dfef6d65",
        "colab": {
          "base_uri": "https://localhost:8080/",
          "height": 34
        }
      },
      "source": [
        "len(X_test)"
      ],
      "execution_count": 28,
      "outputs": [
        {
          "output_type": "execute_result",
          "data": {
            "text/plain": [
              "359"
            ]
          },
          "metadata": {
            "tags": []
          },
          "execution_count": 28
        }
      ]
    },
    {
      "cell_type": "code",
      "metadata": {
        "id": "LqW3d3hYm5l5",
        "colab_type": "code",
        "colab": {}
      },
      "source": [
        "from numpy import array\n",
        "from numpy import asarray\n",
        "from numpy import zeros\n",
        "\n",
        "def embedding_function(vocab_size, tokenizer):\n",
        "\n",
        "  embeddings_dictionary = dict()\n",
        "  glove_file = open('drive/My Drive/glove.6B.200d.txt', encoding=\"utf8\")\n",
        "\n",
        "  for line in glove_file:\n",
        "    records = line.split()\n",
        "    word = records[0]\n",
        "    vector_dimensions = asarray(records[1:], dtype='float32')\n",
        "    embeddings_dictionary [word] = vector_dimensions\n",
        "  glove_file.close()\n",
        "\n",
        "  embedding_matrix = zeros((vocab_size, 200))\n",
        "  for word, index in tokenizer.word_index.items():\n",
        "      embedding_vector = embeddings_dictionary.get(word)\n",
        "      if embedding_vector is not None:\n",
        "          embedding_matrix[index] = embedding_vector\n",
        "\n",
        "  return embedding_matrix"
      ],
      "execution_count": 0,
      "outputs": []
    },
    {
      "cell_type": "code",
      "metadata": {
        "id": "L644pTOKn69m",
        "colab_type": "code",
        "colab": {}
      },
      "source": [
        "import keras\n",
        "from keras.models import Sequential\n",
        "from keras.layers import Dense, Dropout, Activation\n",
        "from keras.layers import Conv1D, GlobalMaxPooling1D\n",
        "from keras.layers.embeddings import Embedding\n",
        "from keras.layers import Flatten\n",
        "\n",
        "def get_model(embedding_matrix, maxlen):\n",
        "\n",
        "  model = Sequential()\n",
        "\n",
        "  embedding_layer = Embedding(vocab_size, 200, weights=[embedding_matrix], input_length=maxlen , trainable=False)\n",
        "  model.add(embedding_layer)\n",
        "\n",
        "  model.add(Conv1D(128, 5, activation='relu'))\n",
        "  model.add(GlobalMaxPooling1D())\n",
        "  model.add(Dense(1, activation='sigmoid'))\n",
        "  model.compile(optimizer='adam', loss='binary_crossentropy', metrics=['acc'])\n",
        "\n",
        "  return model "
      ],
      "execution_count": 0,
      "outputs": []
    },
    {
      "cell_type": "code",
      "metadata": {
        "id": "ecFcNqo2ozJ0",
        "colab_type": "code",
        "colab": {}
      },
      "source": [
        "# model = get_model()\n",
        "# model.summary\n",
        "\n"
      ],
      "execution_count": 0,
      "outputs": []
    },
    {
      "cell_type": "code",
      "metadata": {
        "id": "mz4wgVJ09EHS",
        "colab_type": "code",
        "colab": {}
      },
      "source": [
        "# y_test\n"
      ],
      "execution_count": 0,
      "outputs": []
    },
    {
      "cell_type": "code",
      "metadata": {
        "id": "JpsqKYup9L1m",
        "colab_type": "code",
        "colab": {}
      },
      "source": [
        "# X_test\n"
      ],
      "execution_count": 0,
      "outputs": []
    },
    {
      "cell_type": "code",
      "metadata": {
        "id": "Ul-_Pdm2YrO0",
        "colab_type": "code",
        "colab": {}
      },
      "source": [
        "X_train, tokenizer, vocab_size = tokenize(X_train)\n",
        "X_test, tokenizer, vocab_size = tokenize(X_test)\n",
        "\n",
        "# vocab_size, tokenizer = get_vocab_size(tokenizer)\n",
        "\n",
        "X_train = pad(X_train, 50)\n",
        "X_test = pad(X_test, 50)\n",
        "\n",
        "embedding_matrix = embedding_function(vocab_size, tokenizer)"
      ],
      "execution_count": 0,
      "outputs": []
    },
    {
      "cell_type": "code",
      "metadata": {
        "id": "XtvWKW0mye64",
        "colab_type": "code",
        "outputId": "be5a1ec9-4e93-4264-a54e-eeb47c3e5c59",
        "colab": {
          "base_uri": "https://localhost:8080/",
          "height": 1000
        }
      },
      "source": [
        "#Implement K-Fold cross validation\n",
        "\n",
        "early_stopping = keras.callbacks.EarlyStopping(patience=3, verbose=2, mode='auto', min_delta=0.00005)\n",
        "\n",
        "folds = StratifiedKFold(n_splits=3, shuffle=True, random_state=1)\n",
        "cvscores = []\n",
        "i = 0\n",
        "\n",
        "\n",
        "for train, test in folds.split(X_train, y_train):\n",
        "  print(\"Fold: \", i)\n",
        "\n",
        "  model = get_model(embedding_matrix, 50)\n",
        "\n",
        "  history = model.fit(X_train[train], y_train[train], batch_size=32, epochs=15, verbose=1)\n",
        "\n",
        "  scores = model.evaluate(X_train[test], y_train[test], verbose=1)\n",
        "  print(\"%s: %.2f%%\" % (model.metrics_names[1], scores[1]*100))\n",
        "  cvscores.append(scores[1] * 100)\n",
        "  i += 1\n",
        "\n",
        "\n",
        "\n"
      ],
      "execution_count": 32,
      "outputs": [
        {
          "output_type": "stream",
          "text": [
            "Fold:  0\n",
            "WARNING:tensorflow:From /usr/local/lib/python3.6/dist-packages/keras/backend/tensorflow_backend.py:66: The name tf.get_default_graph is deprecated. Please use tf.compat.v1.get_default_graph instead.\n",
            "\n",
            "WARNING:tensorflow:From /usr/local/lib/python3.6/dist-packages/keras/backend/tensorflow_backend.py:541: The name tf.placeholder is deprecated. Please use tf.compat.v1.placeholder instead.\n",
            "\n",
            "WARNING:tensorflow:From /usr/local/lib/python3.6/dist-packages/keras/backend/tensorflow_backend.py:4432: The name tf.random_uniform is deprecated. Please use tf.random.uniform instead.\n",
            "\n",
            "WARNING:tensorflow:From /usr/local/lib/python3.6/dist-packages/keras/backend/tensorflow_backend.py:190: The name tf.get_default_session is deprecated. Please use tf.compat.v1.get_default_session instead.\n",
            "\n",
            "WARNING:tensorflow:From /usr/local/lib/python3.6/dist-packages/keras/backend/tensorflow_backend.py:197: The name tf.ConfigProto is deprecated. Please use tf.compat.v1.ConfigProto instead.\n",
            "\n",
            "WARNING:tensorflow:From /usr/local/lib/python3.6/dist-packages/keras/backend/tensorflow_backend.py:203: The name tf.Session is deprecated. Please use tf.compat.v1.Session instead.\n",
            "\n",
            "WARNING:tensorflow:From /usr/local/lib/python3.6/dist-packages/keras/backend/tensorflow_backend.py:207: The name tf.global_variables is deprecated. Please use tf.compat.v1.global_variables instead.\n",
            "\n",
            "WARNING:tensorflow:From /usr/local/lib/python3.6/dist-packages/keras/backend/tensorflow_backend.py:216: The name tf.is_variable_initialized is deprecated. Please use tf.compat.v1.is_variable_initialized instead.\n",
            "\n",
            "WARNING:tensorflow:From /usr/local/lib/python3.6/dist-packages/keras/backend/tensorflow_backend.py:223: The name tf.variables_initializer is deprecated. Please use tf.compat.v1.variables_initializer instead.\n",
            "\n",
            "WARNING:tensorflow:From /usr/local/lib/python3.6/dist-packages/keras/optimizers.py:793: The name tf.train.Optimizer is deprecated. Please use tf.compat.v1.train.Optimizer instead.\n",
            "\n",
            "WARNING:tensorflow:From /usr/local/lib/python3.6/dist-packages/keras/backend/tensorflow_backend.py:3657: The name tf.log is deprecated. Please use tf.math.log instead.\n",
            "\n",
            "WARNING:tensorflow:From /usr/local/lib/python3.6/dist-packages/tensorflow_core/python/ops/nn_impl.py:183: where (from tensorflow.python.ops.array_ops) is deprecated and will be removed in a future version.\n",
            "Instructions for updating:\n",
            "Use tf.where in 2.0, which has the same broadcast rule as np.where\n",
            "WARNING:tensorflow:From /usr/local/lib/python3.6/dist-packages/keras/backend/tensorflow_backend.py:1033: The name tf.assign_add is deprecated. Please use tf.compat.v1.assign_add instead.\n",
            "\n",
            "WARNING:tensorflow:From /usr/local/lib/python3.6/dist-packages/keras/backend/tensorflow_backend.py:1020: The name tf.assign is deprecated. Please use tf.compat.v1.assign instead.\n",
            "\n",
            "Epoch 1/15\n",
            "851222/851222 [==============================] - 157s 184us/step - loss: 0.5180 - acc: 0.7425\n",
            "Epoch 2/15\n",
            "851222/851222 [==============================] - 152s 178us/step - loss: 0.4758 - acc: 0.7730\n",
            "Epoch 3/15\n",
            "851222/851222 [==============================] - 152s 178us/step - loss: 0.4604 - acc: 0.7828\n",
            "Epoch 4/15\n",
            "851222/851222 [==============================] - 151s 178us/step - loss: 0.4492 - acc: 0.7895\n",
            "Epoch 5/15\n",
            "851222/851222 [==============================] - 152s 178us/step - loss: 0.4401 - acc: 0.7952\n",
            "Epoch 6/15\n",
            "851222/851222 [==============================] - 153s 180us/step - loss: 0.4330 - acc: 0.7991\n",
            "Epoch 7/15\n",
            "851222/851222 [==============================] - 153s 180us/step - loss: 0.4267 - acc: 0.8026\n",
            "Epoch 8/15\n",
            "851222/851222 [==============================] - 153s 179us/step - loss: 0.4213 - acc: 0.8061\n",
            "Epoch 9/15\n",
            "851222/851222 [==============================] - 152s 179us/step - loss: 0.4161 - acc: 0.8090\n",
            "Epoch 10/15\n",
            "851222/851222 [==============================] - 152s 179us/step - loss: 0.4116 - acc: 0.8111\n",
            "Epoch 11/15\n",
            "851222/851222 [==============================] - 153s 180us/step - loss: 0.4077 - acc: 0.8135\n",
            "Epoch 12/15\n",
            "851222/851222 [==============================] - 152s 179us/step - loss: 0.4042 - acc: 0.8156\n",
            "Epoch 13/15\n",
            "851222/851222 [==============================] - 153s 179us/step - loss: 0.4008 - acc: 0.8171\n",
            "Epoch 14/15\n",
            "851222/851222 [==============================] - 152s 178us/step - loss: 0.3977 - acc: 0.8192\n",
            "Epoch 15/15\n",
            "851222/851222 [==============================] - 152s 179us/step - loss: 0.3948 - acc: 0.8205\n",
            "425611/425611 [==============================] - 28s 65us/step\n",
            "acc: 76.07%\n",
            "Fold:  1\n",
            "Epoch 1/15\n",
            "851222/851222 [==============================] - 155s 182us/step - loss: 0.5195 - acc: 0.7414\n",
            "Epoch 2/15\n",
            "851222/851222 [==============================] - 155s 182us/step - loss: 0.4774 - acc: 0.7716\n",
            "Epoch 3/15\n",
            "851222/851222 [==============================] - 154s 181us/step - loss: 0.4616 - acc: 0.7814\n",
            "Epoch 4/15\n",
            "851222/851222 [==============================] - 155s 182us/step - loss: 0.4502 - acc: 0.7885\n",
            "Epoch 5/15\n",
            "851222/851222 [==============================] - 155s 182us/step - loss: 0.4414 - acc: 0.7940\n",
            "Epoch 6/15\n",
            "851222/851222 [==============================] - 154s 181us/step - loss: 0.4341 - acc: 0.7985\n",
            "Epoch 7/15\n",
            "851222/851222 [==============================] - 153s 179us/step - loss: 0.4276 - acc: 0.8025\n",
            "Epoch 8/15\n",
            "851222/851222 [==============================] - 155s 182us/step - loss: 0.4224 - acc: 0.8051\n",
            "Epoch 9/15\n",
            "851222/851222 [==============================] - 155s 182us/step - loss: 0.4171 - acc: 0.8087\n",
            "Epoch 10/15\n",
            "851222/851222 [==============================] - 156s 183us/step - loss: 0.4129 - acc: 0.8105\n",
            "Epoch 11/15\n",
            "851222/851222 [==============================] - 156s 183us/step - loss: 0.4093 - acc: 0.8127\n",
            "Epoch 12/15\n",
            "851222/851222 [==============================] - 155s 182us/step - loss: 0.4057 - acc: 0.8146\n",
            "Epoch 13/15\n",
            "851222/851222 [==============================] - 153s 180us/step - loss: 0.4020 - acc: 0.8169\n",
            "Epoch 14/15\n",
            "851222/851222 [==============================] - 154s 181us/step - loss: 0.3989 - acc: 0.8184\n",
            "Epoch 15/15\n",
            "851222/851222 [==============================] - 153s 180us/step - loss: 0.3960 - acc: 0.8201\n",
            "425611/425611 [==============================] - 28s 65us/step\n",
            "acc: 76.86%\n",
            "Fold:  2\n",
            "Epoch 1/15\n",
            "851222/851222 [==============================] - 153s 180us/step - loss: 0.5189 - acc: 0.7415\n",
            "Epoch 2/15\n",
            "851222/851222 [==============================] - 152s 179us/step - loss: 0.4766 - acc: 0.7722\n",
            "Epoch 3/15\n",
            "851222/851222 [==============================] - 153s 180us/step - loss: 0.4612 - acc: 0.7823\n",
            "Epoch 4/15\n",
            "851222/851222 [==============================] - 152s 179us/step - loss: 0.4500 - acc: 0.7889\n",
            "Epoch 5/15\n",
            "851222/851222 [==============================] - 154s 180us/step - loss: 0.4414 - acc: 0.7942\n",
            "Epoch 6/15\n",
            "851222/851222 [==============================] - 152s 178us/step - loss: 0.4338 - acc: 0.7986\n",
            "Epoch 7/15\n",
            "851222/851222 [==============================] - 152s 179us/step - loss: 0.4276 - acc: 0.8019\n",
            "Epoch 8/15\n",
            "851222/851222 [==============================] - 150s 176us/step - loss: 0.4219 - acc: 0.8053\n",
            "Epoch 9/15\n",
            "851222/851222 [==============================] - 151s 177us/step - loss: 0.4167 - acc: 0.8085\n",
            "Epoch 10/15\n",
            "851222/851222 [==============================] - 151s 177us/step - loss: 0.4127 - acc: 0.8105\n",
            "Epoch 11/15\n",
            "851222/851222 [==============================] - 152s 178us/step - loss: 0.4083 - acc: 0.8130\n",
            "Epoch 12/15\n",
            "851222/851222 [==============================] - 152s 178us/step - loss: 0.4048 - acc: 0.8149\n",
            "Epoch 13/15\n",
            "851222/851222 [==============================] - 154s 180us/step - loss: 0.4013 - acc: 0.8170\n",
            "Epoch 14/15\n",
            "851222/851222 [==============================] - 152s 178us/step - loss: 0.3982 - acc: 0.8187\n",
            "Epoch 15/15\n",
            "851222/851222 [==============================] - 152s 179us/step - loss: 0.3953 - acc: 0.8200\n",
            "425611/425611 [==============================] - 28s 66us/step\n",
            "acc: 76.99%\n"
          ],
          "name": "stdout"
        }
      ]
    },
    {
      "cell_type": "code",
      "metadata": {
        "id": "GjiggA87pWNH",
        "colab_type": "code",
        "colab": {}
      },
      "source": [
        "# history = model.fit(X_train, y_train, batch_size=64, epochs=10, verbose=1, validation_split=0.2, callbacks=[early_stopping])\n",
        "\n"
      ],
      "execution_count": 0,
      "outputs": []
    },
    {
      "cell_type": "code",
      "metadata": {
        "id": "ykPql7hwgF4O",
        "colab_type": "code",
        "outputId": "f4efb413-3355-47dd-f2b1-acd1b919358e",
        "colab": {
          "base_uri": "https://localhost:8080/",
          "height": 34
        }
      },
      "source": [
        "score = model.evaluate(X_test, y_test, verbose=1)"
      ],
      "execution_count": 33,
      "outputs": [
        {
          "output_type": "stream",
          "text": [
            "359/359 [==============================] - 0s 203us/step\n"
          ],
          "name": "stdout"
        }
      ]
    },
    {
      "cell_type": "code",
      "metadata": {
        "id": "MjaDucZqaYX2",
        "colab_type": "code",
        "colab": {
          "base_uri": "https://localhost:8080/",
          "height": 34
        },
        "outputId": "f127828b-2159-4d7a-9807-9dff0f369c97"
      },
      "source": [
        "cvscores"
      ],
      "execution_count": 34,
      "outputs": [
        {
          "output_type": "execute_result",
          "data": {
            "text/plain": [
              "[76.07486648604956, 76.86291002822728, 76.99331079317508]"
            ]
          },
          "metadata": {
            "tags": []
          },
          "execution_count": 34
        }
      ]
    },
    {
      "cell_type": "code",
      "metadata": {
        "id": "VNT--A7tt_FT",
        "colab_type": "code",
        "outputId": "f659c314-fed7-4529-d222-56129b49d019",
        "colab": {
          "base_uri": "https://localhost:8080/",
          "height": 51
        }
      },
      "source": [
        "#####RESULTS#####\n",
        "\n",
        "print(\"Test Score:\", score[0])\n",
        "print(\"Test Accuracy:\", score[1]) #Train on 80440 samples, validate on 20111 samples: Test Accuracy: 0.7966573819476582, Test Score: 0.5130204541769532, 6 epochs\n",
        "\n",
        "\n",
        "#K-fold = 5, epochs 10, datapoints 80440: Test Score = 1.6172082663246516 , Test ACC = 0.49582172710251343"
      ],
      "execution_count": 35,
      "outputs": [
        {
          "output_type": "stream",
          "text": [
            "Test Score: 1.0916534951968446\n",
            "Test Accuracy: 0.5208913650685366\n"
          ],
          "name": "stdout"
        }
      ]
    },
    {
      "cell_type": "code",
      "metadata": {
        "id": "VXVjZZvgpgBd",
        "colab_type": "code",
        "outputId": "bb796070-aa4e-44ed-91ef-169ca74e4509",
        "colab": {
          "base_uri": "https://localhost:8080/",
          "height": 51
        }
      },
      "source": [
        "print(\"Test Score:\", score[0]) #6 epochs = 0.47578218537784883 #On FULL DATA SET FOR TRAINING\n",
        "print(\"Test Accuracy:\", score[1]) #6 epochs = 0.7883008359866555\n",
        "#Dropping rows with neutral label improved acc(better than neutral points being labeled as positive (.777))\n",
        "#(and better than neutral points being labeled as negative(.668))"
      ],
      "execution_count": 36,
      "outputs": [
        {
          "output_type": "stream",
          "text": [
            "Test Score: 1.0916534951968446\n",
            "Test Accuracy: 0.5208913650685366\n"
          ],
          "name": "stdout"
        }
      ]
    },
    {
      "cell_type": "code",
      "metadata": {
        "id": "Ujsc4ifCynDx",
        "colab_type": "code",
        "colab": {
          "base_uri": "https://localhost:8080/",
          "height": 527
        },
        "outputId": "24013d13-a704-4c2e-8882-15ea357b57ff"
      },
      "source": [
        "history.history"
      ],
      "execution_count": 41,
      "outputs": [
        {
          "output_type": "execute_result",
          "data": {
            "text/plain": [
              "{'acc': [0.741518663756621,\n",
              "  0.7722474278149803,\n",
              "  0.7823399771153932,\n",
              "  0.788861190147671,\n",
              "  0.7941524067746406,\n",
              "  0.7985637119342771,\n",
              "  0.8018871692698714,\n",
              "  0.8053386778072898,\n",
              "  0.8084765196389652,\n",
              "  0.8105135910493836,\n",
              "  0.8130276238155536,\n",
              "  0.8148884779766482,\n",
              "  0.8169690163085992,\n",
              "  0.8186783236334126,\n",
              "  0.8200199242965092],\n",
              " 'loss': [0.5189395088616251,\n",
              "  0.4765759818194194,\n",
              "  0.46123312435613,\n",
              "  0.45000497203841433,\n",
              "  0.44140261882966936,\n",
              "  0.4337806444184829,\n",
              "  0.4275795019844755,\n",
              "  0.4219105582895387,\n",
              "  0.4166904763063167,\n",
              "  0.4127212033903902,\n",
              "  0.4082759998406842,\n",
              "  0.4047786268605178,\n",
              "  0.4013391027201175,\n",
              "  0.3982004742521756,\n",
              "  0.39525765152774855]}"
            ]
          },
          "metadata": {
            "tags": []
          },
          "execution_count": 41
        }
      ]
    },
    {
      "cell_type": "code",
      "metadata": {
        "id": "FuVUTtH-s2Qj",
        "colab_type": "code",
        "outputId": "24a03b98-4707-44cb-9900-b53f59ae8c75",
        "colab": {
          "base_uri": "https://localhost:8080/",
          "height": 573
        }
      },
      "source": [
        "import matplotlib.pyplot as plt\n",
        "%matplotlib inline\n",
        "\n",
        "plt.plot(history.history['acc'])\n",
        "#plt.plot(history.history['val_acc'])\n",
        "\n",
        "plt.title('CNN_1 Model Accuracy')\n",
        "plt.ylabel('Accuracy')\n",
        "plt.xlabel('Epoch')\n",
        "plt.legend(['Train'], loc = 'upper left')\n",
        "plt.show()\n",
        "\n",
        "plt.plot(history.history['loss'])\n",
        "#plt.plot(history.history['val_loss'])\n",
        "\n",
        "plt.title('CNN_1 Model Loss')\n",
        "plt.ylabel('Loss')\n",
        "plt.xlabel('Epoch')\n",
        "plt.legend(['Train'], loc = 'upper left')\n",
        "plt.show()"
      ],
      "execution_count": 45,
      "outputs": [
        {
          "output_type": "display_data",
          "data": {
            "image/png": "[encoded data removed]",
            "text/plain": [
              "<Figure size 432x288 with 1 Axes>"
            ]
          },
          "metadata": {
            "tags": []
          }
        },
        {
          "output_type": "display_data",
          "data": {
            "image/png": "[encoded data removed]",
            "text/plain": [
              "<Figure size 432x288 with 1 Axes>"
            ]
          },
          "metadata": {
            "tags": []
          }
        }
      ]
    },
    {
      "cell_type": "code",
      "metadata": {
        "id": "2cteQPjOs6H1",
        "colab_type": "code",
        "colab": {
          "base_uri": "https://localhost:8080/",
          "height": 295
        },
        "outputId": "66945cb1-509a-4b3c-f926-a3f561322d8f"
      },
      "source": [
        "plt.plot(cvscores)\n",
        "#plt.plot(history.history['val_acc'])\n",
        "\n",
        "plt.title('CNN_1 K-Fold Accuracy')\n",
        "plt.ylabel('Accuracy')\n",
        "plt.xlabel('K Fold Iteration')\n",
        "plt.legend(['Validation '], loc = 'upper left')\n",
        "plt.show()"
      ],
      "execution_count": 46,
      "outputs": [
        {
          "output_type": "display_data",
          "data": {
            "image/png": "[encoded data removed]",
            "text/plain": [
              "<Figure size 432x288 with 1 Axes>"
            ]
          },
          "metadata": {
            "tags": []
          }
        }
      ]
    },
    {
      "cell_type": "code",
      "metadata": {
        "id": "mYxCb5Txzfmx",
        "colab_type": "code",
        "colab": {}
      },
      "source": [
        ""
      ],
      "execution_count": 0,
      "outputs": []
    }
  ]
}