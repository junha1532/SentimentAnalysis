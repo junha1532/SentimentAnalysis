{
  "nbformat": 4,
  "nbformat_minor": 0,
  "metadata": {
    "colab": {
      "name": "CNN_1_Sentiment_FINAL_2.ipynb",
      "provenance": [],
      "collapsed_sections": []
    },
    "kernelspec": {
      "name": "python3",
      "display_name": "Python 3"
    },
    "accelerator": "GPU"
  },
  "cells": [
    {
      "cell_type": "code",
      "metadata": {
        "id": "aLgFoH0Mg64c",
        "colab_type": "code",
        "outputId": "cb418d8f-df6b-4b49-97e8-1f4f7daaa942",
        "colab": {
          "base_uri": "https://localhost:8080/",
          "height": 122
        }
      },
      "source": [
        "from google.colab import drive\n",
        "drive.mount('/content/drive')\n"
      ],
      "execution_count": 2,
      "outputs": [
        {
          "output_type": "stream",
          "text": [
            "Go to this URL in a browser: https://accounts.google.com/o/oauth2/auth?client_id=947318989803-6bn6qk8qdgf4n4g3pfee6491hc0brc4i.apps.googleusercontent.com&redirect_uri=urn%3aietf%3awg%3aoauth%3a2.0%3aoob&response_type=code&scope=email%20https%3a%2f%2fwww.googleapis.com%2fauth%2fdocs.test%20https%3a%2f%2fwww.googleapis.com%2fauth%2fdrive%20https%3a%2f%2fwww.googleapis.com%2fauth%2fdrive.photos.readonly%20https%3a%2f%2fwww.googleapis.com%2fauth%2fpeopleapi.readonly\n",
            "\n",
            "Enter your authorization code:\n",
            "··········\n",
            "Mounted at /content/drive\n"
          ],
          "name": "stdout"
        }
      ]
    },
    {
      "cell_type": "code",
      "metadata": {
        "id": "RCzo4uQ8hRsv",
        "colab_type": "code",
        "outputId": "6f4a5c98-06d1-441c-bba2-c7af098b3531",
        "colab": {
          "base_uri": "https://localhost:8080/",
          "height": 258
        }
      },
      "source": [
        "import numpy as np\n",
        "import pandas as pd\n",
        "import random as rd\n",
        "data = pd.read_csv(\"drive/My Drive/clean_tweet.csv\",index_col=0)\n",
        "data.head()"
      ],
      "execution_count": 3,
      "outputs": [
        {
          "output_type": "stream",
          "text": [
            "/usr/local/lib/python3.6/dist-packages/numpy/lib/arraysetops.py:568: FutureWarning: elementwise comparison failed; returning scalar instead, but in the future will perform elementwise comparison\n",
            "  mask |= (ar1 == a)\n"
          ],
          "name": "stderr"
        },
        {
          "output_type": "execute_result",
          "data": {
            "text/html": [
              "<div>\n",
              "<style scoped>\n",
              "    .dataframe tbody tr th:only-of-type {\n",
              "        vertical-align: middle;\n",
              "    }\n",
              "\n",
              "    .dataframe tbody tr th {\n",
              "        vertical-align: top;\n",
              "    }\n",
              "\n",
              "    .dataframe thead th {\n",
              "        text-align: right;\n",
              "    }\n",
              "</style>\n",
              "<table border=\"1\" class=\"dataframe\">\n",
              "  <thead>\n",
              "    <tr style=\"text-align: right;\">\n",
              "      <th></th>\n",
              "      <th>tweet_text</th>\n",
              "      <th>target</th>\n",
              "    </tr>\n",
              "  </thead>\n",
              "  <tbody>\n",
              "    <tr>\n",
              "      <th>0</th>\n",
              "      <td>awww that bummer you shoulda got david carr of...</td>\n",
              "      <td>0</td>\n",
              "    </tr>\n",
              "    <tr>\n",
              "      <th>1</th>\n",
              "      <td>is upset that he can not update his facebook b...</td>\n",
              "      <td>0</td>\n",
              "    </tr>\n",
              "    <tr>\n",
              "      <th>2</th>\n",
              "      <td>dived many times for the ball managed to save ...</td>\n",
              "      <td>0</td>\n",
              "    </tr>\n",
              "    <tr>\n",
              "      <th>3</th>\n",
              "      <td>my whole body feels itchy and like its on fire</td>\n",
              "      <td>0</td>\n",
              "    </tr>\n",
              "    <tr>\n",
              "      <th>4</th>\n",
              "      <td>no it not behaving at all mad why am here beca...</td>\n",
              "      <td>0</td>\n",
              "    </tr>\n",
              "  </tbody>\n",
              "</table>\n",
              "</div>"
            ],
            "text/plain": [
              "                                          tweet_text  target\n",
              "0  awww that bummer you shoulda got david carr of...       0\n",
              "1  is upset that he can not update his facebook b...       0\n",
              "2  dived many times for the ball managed to save ...       0\n",
              "3     my whole body feels itchy and like its on fire       0\n",
              "4  no it not behaving at all mad why am here beca...       0"
            ]
          },
          "metadata": {
            "tags": []
          },
          "execution_count": 3
        }
      ]
    },
    {
      "cell_type": "code",
      "metadata": {
        "id": "KEukAEzkhWwl",
        "colab_type": "code",
        "outputId": "a3871334-7e74-4759-a9c1-497880ab9d44",
        "colab": {
          "base_uri": "https://localhost:8080/",
          "height": 669
        }
      },
      "source": [
        "data[data.isnull().any(axis=1)].head(20)\n"
      ],
      "execution_count": 4,
      "outputs": [
        {
          "output_type": "execute_result",
          "data": {
            "text/html": [
              "<div>\n",
              "<style scoped>\n",
              "    .dataframe tbody tr th:only-of-type {\n",
              "        vertical-align: middle;\n",
              "    }\n",
              "\n",
              "    .dataframe tbody tr th {\n",
              "        vertical-align: top;\n",
              "    }\n",
              "\n",
              "    .dataframe thead th {\n",
              "        text-align: right;\n",
              "    }\n",
              "</style>\n",
              "<table border=\"1\" class=\"dataframe\">\n",
              "  <thead>\n",
              "    <tr style=\"text-align: right;\">\n",
              "      <th></th>\n",
              "      <th>tweet_text</th>\n",
              "      <th>target</th>\n",
              "    </tr>\n",
              "  </thead>\n",
              "  <tbody>\n",
              "    <tr>\n",
              "      <th>208</th>\n",
              "      <td>NaN</td>\n",
              "      <td>0</td>\n",
              "    </tr>\n",
              "    <tr>\n",
              "      <th>249</th>\n",
              "      <td>NaN</td>\n",
              "      <td>0</td>\n",
              "    </tr>\n",
              "    <tr>\n",
              "      <th>282</th>\n",
              "      <td>NaN</td>\n",
              "      <td>0</td>\n",
              "    </tr>\n",
              "    <tr>\n",
              "      <th>398</th>\n",
              "      <td>NaN</td>\n",
              "      <td>0</td>\n",
              "    </tr>\n",
              "    <tr>\n",
              "      <th>430</th>\n",
              "      <td>NaN</td>\n",
              "      <td>0</td>\n",
              "    </tr>\n",
              "    <tr>\n",
              "      <th>1011</th>\n",
              "      <td>NaN</td>\n",
              "      <td>0</td>\n",
              "    </tr>\n",
              "    <tr>\n",
              "      <th>1014</th>\n",
              "      <td>NaN</td>\n",
              "      <td>0</td>\n",
              "    </tr>\n",
              "    <tr>\n",
              "      <th>1231</th>\n",
              "      <td>NaN</td>\n",
              "      <td>0</td>\n",
              "    </tr>\n",
              "    <tr>\n",
              "      <th>1421</th>\n",
              "      <td>NaN</td>\n",
              "      <td>0</td>\n",
              "    </tr>\n",
              "    <tr>\n",
              "      <th>1486</th>\n",
              "      <td>NaN</td>\n",
              "      <td>0</td>\n",
              "    </tr>\n",
              "    <tr>\n",
              "      <th>1641</th>\n",
              "      <td>NaN</td>\n",
              "      <td>0</td>\n",
              "    </tr>\n",
              "    <tr>\n",
              "      <th>2898</th>\n",
              "      <td>NaN</td>\n",
              "      <td>0</td>\n",
              "    </tr>\n",
              "    <tr>\n",
              "      <th>4377</th>\n",
              "      <td>NaN</td>\n",
              "      <td>0</td>\n",
              "    </tr>\n",
              "    <tr>\n",
              "      <th>4508</th>\n",
              "      <td>NaN</td>\n",
              "      <td>0</td>\n",
              "    </tr>\n",
              "    <tr>\n",
              "      <th>6058</th>\n",
              "      <td>NaN</td>\n",
              "      <td>0</td>\n",
              "    </tr>\n",
              "    <tr>\n",
              "      <th>6419</th>\n",
              "      <td>NaN</td>\n",
              "      <td>0</td>\n",
              "    </tr>\n",
              "    <tr>\n",
              "      <th>7840</th>\n",
              "      <td>NaN</td>\n",
              "      <td>0</td>\n",
              "    </tr>\n",
              "    <tr>\n",
              "      <th>8838</th>\n",
              "      <td>NaN</td>\n",
              "      <td>0</td>\n",
              "    </tr>\n",
              "    <tr>\n",
              "      <th>9072</th>\n",
              "      <td>NaN</td>\n",
              "      <td>0</td>\n",
              "    </tr>\n",
              "    <tr>\n",
              "      <th>9556</th>\n",
              "      <td>NaN</td>\n",
              "      <td>0</td>\n",
              "    </tr>\n",
              "  </tbody>\n",
              "</table>\n",
              "</div>"
            ],
            "text/plain": [
              "     tweet_text  target\n",
              "208         NaN       0\n",
              "249         NaN       0\n",
              "282         NaN       0\n",
              "398         NaN       0\n",
              "430         NaN       0\n",
              "1011        NaN       0\n",
              "1014        NaN       0\n",
              "1231        NaN       0\n",
              "1421        NaN       0\n",
              "1486        NaN       0\n",
              "1641        NaN       0\n",
              "2898        NaN       0\n",
              "4377        NaN       0\n",
              "4508        NaN       0\n",
              "6058        NaN       0\n",
              "6419        NaN       0\n",
              "7840        NaN       0\n",
              "8838        NaN       0\n",
              "9072        NaN       0\n",
              "9556        NaN       0"
            ]
          },
          "metadata": {
            "tags": []
          },
          "execution_count": 4
        }
      ]
    },
    {
      "cell_type": "code",
      "metadata": {
        "id": "8xUMUL9chZKU",
        "colab_type": "code",
        "outputId": "f0ce4e16-47ec-4ea9-8395-7a2b15b42c47",
        "colab": {
          "base_uri": "https://localhost:8080/",
          "height": 136
        }
      },
      "source": [
        "data.dropna(inplace=True) #NAN values are coming from just @username, delete them \n",
        "data.reset_index(drop=True,inplace=True)\n",
        "data.info()"
      ],
      "execution_count": 5,
      "outputs": [
        {
          "output_type": "stream",
          "text": [
            "<class 'pandas.core.frame.DataFrame'>\n",
            "RangeIndex: 1596041 entries, 0 to 1596040\n",
            "Data columns (total 2 columns):\n",
            "tweet_text    1596041 non-null object\n",
            "target        1596041 non-null int64\n",
            "dtypes: int64(1), object(1)\n",
            "memory usage: 24.4+ MB\n"
          ],
          "name": "stdout"
        }
      ]
    },
    {
      "cell_type": "code",
      "metadata": {
        "id": "hfyMrOi4hbKS",
        "colab_type": "code",
        "outputId": "4d3abf0f-b403-45e6-f984-e178a915d30e",
        "colab": {
          "base_uri": "https://localhost:8080/",
          "height": 49
        }
      },
      "source": [
        "data[data.isnull().any(axis=1)].head() #No more null data\n"
      ],
      "execution_count": 6,
      "outputs": [
        {
          "output_type": "execute_result",
          "data": {
            "text/html": [
              "<div>\n",
              "<style scoped>\n",
              "    .dataframe tbody tr th:only-of-type {\n",
              "        vertical-align: middle;\n",
              "    }\n",
              "\n",
              "    .dataframe tbody tr th {\n",
              "        vertical-align: top;\n",
              "    }\n",
              "\n",
              "    .dataframe thead th {\n",
              "        text-align: right;\n",
              "    }\n",
              "</style>\n",
              "<table border=\"1\" class=\"dataframe\">\n",
              "  <thead>\n",
              "    <tr style=\"text-align: right;\">\n",
              "      <th></th>\n",
              "      <th>tweet_text</th>\n",
              "      <th>target</th>\n",
              "    </tr>\n",
              "  </thead>\n",
              "  <tbody>\n",
              "  </tbody>\n",
              "</table>\n",
              "</div>"
            ],
            "text/plain": [
              "Empty DataFrame\n",
              "Columns: [tweet_text, target]\n",
              "Index: []"
            ]
          },
          "metadata": {
            "tags": []
          },
          "execution_count": 6
        }
      ]
    },
    {
      "cell_type": "code",
      "metadata": {
        "id": "Zu1iSNzNhdWH",
        "colab_type": "code",
        "outputId": "dbb4f494-b19d-4603-f4e0-0a562d48c443",
        "colab": {
          "base_uri": "https://localhost:8080/",
          "height": 419
        }
      },
      "source": [
        "data"
      ],
      "execution_count": 83,
      "outputs": [
        {
          "output_type": "execute_result",
          "data": {
            "text/html": [
              "<div>\n",
              "<style scoped>\n",
              "    .dataframe tbody tr th:only-of-type {\n",
              "        vertical-align: middle;\n",
              "    }\n",
              "\n",
              "    .dataframe tbody tr th {\n",
              "        vertical-align: top;\n",
              "    }\n",
              "\n",
              "    .dataframe thead th {\n",
              "        text-align: right;\n",
              "    }\n",
              "</style>\n",
              "<table border=\"1\" class=\"dataframe\">\n",
              "  <thead>\n",
              "    <tr style=\"text-align: right;\">\n",
              "      <th></th>\n",
              "      <th>tweet_text</th>\n",
              "      <th>target</th>\n",
              "    </tr>\n",
              "  </thead>\n",
              "  <tbody>\n",
              "    <tr>\n",
              "      <th>0</th>\n",
              "      <td>awww that bummer you shoulda got david carr of...</td>\n",
              "      <td>0</td>\n",
              "    </tr>\n",
              "    <tr>\n",
              "      <th>1</th>\n",
              "      <td>is upset that he can not update his facebook b...</td>\n",
              "      <td>0</td>\n",
              "    </tr>\n",
              "    <tr>\n",
              "      <th>2</th>\n",
              "      <td>dived many times for the ball managed to save ...</td>\n",
              "      <td>0</td>\n",
              "    </tr>\n",
              "    <tr>\n",
              "      <th>3</th>\n",
              "      <td>my whole body feels itchy and like its on fire</td>\n",
              "      <td>0</td>\n",
              "    </tr>\n",
              "    <tr>\n",
              "      <th>4</th>\n",
              "      <td>no it not behaving at all mad why am here beca...</td>\n",
              "      <td>0</td>\n",
              "    </tr>\n",
              "    <tr>\n",
              "      <th>...</th>\n",
              "      <td>...</td>\n",
              "      <td>...</td>\n",
              "    </tr>\n",
              "    <tr>\n",
              "      <th>1596036</th>\n",
              "      <td>just woke up having no school is the best feel...</td>\n",
              "      <td>4</td>\n",
              "    </tr>\n",
              "    <tr>\n",
              "      <th>1596037</th>\n",
              "      <td>thewdb com very cool to hear old walt interviews</td>\n",
              "      <td>4</td>\n",
              "    </tr>\n",
              "    <tr>\n",
              "      <th>1596038</th>\n",
              "      <td>are you ready for your mojo makeover ask me fo...</td>\n",
              "      <td>4</td>\n",
              "    </tr>\n",
              "    <tr>\n",
              "      <th>1596039</th>\n",
              "      <td>happy th birthday to my boo of alll time tupac...</td>\n",
              "      <td>4</td>\n",
              "    </tr>\n",
              "    <tr>\n",
              "      <th>1596040</th>\n",
              "      <td>happy charitytuesday</td>\n",
              "      <td>4</td>\n",
              "    </tr>\n",
              "  </tbody>\n",
              "</table>\n",
              "<p>1596041 rows × 2 columns</p>\n",
              "</div>"
            ],
            "text/plain": [
              "                                                tweet_text  target\n",
              "0        awww that bummer you shoulda got david carr of...       0\n",
              "1        is upset that he can not update his facebook b...       0\n",
              "2        dived many times for the ball managed to save ...       0\n",
              "3           my whole body feels itchy and like its on fire       0\n",
              "4        no it not behaving at all mad why am here beca...       0\n",
              "...                                                    ...     ...\n",
              "1596036  just woke up having no school is the best feel...       4\n",
              "1596037   thewdb com very cool to hear old walt interviews       4\n",
              "1596038  are you ready for your mojo makeover ask me fo...       4\n",
              "1596039  happy th birthday to my boo of alll time tupac...       4\n",
              "1596040                               happy charitytuesday       4\n",
              "\n",
              "[1596041 rows x 2 columns]"
            ]
          },
          "metadata": {
            "tags": []
          },
          "execution_count": 83
        }
      ]
    },
    {
      "cell_type": "code",
      "metadata": {
        "id": "4wg9qT1cotca",
        "colab_type": "code",
        "outputId": "84996078-c758-40d1-d1bf-0ce3f8f71733",
        "colab": {
          "base_uri": "https://localhost:8080/",
          "height": 419
        }
      },
      "source": [
        "sample_data = data.sample(frac=1, random_state=2000)\n",
        "sample_data\n"
      ],
      "execution_count": 150,
      "outputs": [
        {
          "output_type": "execute_result",
          "data": {
            "text/html": [
              "<div>\n",
              "<style scoped>\n",
              "    .dataframe tbody tr th:only-of-type {\n",
              "        vertical-align: middle;\n",
              "    }\n",
              "\n",
              "    .dataframe tbody tr th {\n",
              "        vertical-align: top;\n",
              "    }\n",
              "\n",
              "    .dataframe thead th {\n",
              "        text-align: right;\n",
              "    }\n",
              "</style>\n",
              "<table border=\"1\" class=\"dataframe\">\n",
              "  <thead>\n",
              "    <tr style=\"text-align: right;\">\n",
              "      <th></th>\n",
              "      <th>tweet_text</th>\n",
              "      <th>target</th>\n",
              "    </tr>\n",
              "  </thead>\n",
              "  <tbody>\n",
              "    <tr>\n",
              "      <th>1178330</th>\n",
              "      <td>finally it updates</td>\n",
              "      <td>4</td>\n",
              "    </tr>\n",
              "    <tr>\n",
              "      <th>835935</th>\n",
              "      <td>th place</td>\n",
              "      <td>4</td>\n",
              "    </tr>\n",
              "    <tr>\n",
              "      <th>799921</th>\n",
              "      <td>anybody in atlanta hiring if you are looking f...</td>\n",
              "      <td>4</td>\n",
              "    </tr>\n",
              "    <tr>\n",
              "      <th>1127201</th>\n",
              "      <td>omgoosh six flags ad sorry wanna go on thee bo...</td>\n",
              "      <td>4</td>\n",
              "    </tr>\n",
              "    <tr>\n",
              "      <th>709521</th>\n",
              "      <td>arggh that so so so bad wish you to come</td>\n",
              "      <td>0</td>\n",
              "    </tr>\n",
              "    <tr>\n",
              "      <th>...</th>\n",
              "      <td>...</td>\n",
              "      <td>...</td>\n",
              "    </tr>\n",
              "    <tr>\n",
              "      <th>689718</th>\n",
              "      <td>my parents are on party im alone and must clea...</td>\n",
              "      <td>0</td>\n",
              "    </tr>\n",
              "    <tr>\n",
              "      <th>856013</th>\n",
              "      <td>have great day ride your scooter around town a...</td>\n",
              "      <td>4</td>\n",
              "    </tr>\n",
              "    <tr>\n",
              "      <th>324814</th>\n",
              "      <td>need to write but when sit down the words just...</td>\n",
              "      <td>0</td>\n",
              "    </tr>\n",
              "    <tr>\n",
              "      <th>430920</th>\n",
              "      <td>want to go for walk but nobody is awake to com...</td>\n",
              "      <td>0</td>\n",
              "    </tr>\n",
              "    <tr>\n",
              "      <th>879542</th>\n",
              "      <td>simple tell her there was problem in lightroom...</td>\n",
              "      <td>4</td>\n",
              "    </tr>\n",
              "  </tbody>\n",
              "</table>\n",
              "<p>1596041 rows × 2 columns</p>\n",
              "</div>"
            ],
            "text/plain": [
              "                                                tweet_text  target\n",
              "1178330                                 finally it updates       4\n",
              "835935                                            th place       4\n",
              "799921   anybody in atlanta hiring if you are looking f...       4\n",
              "1127201  omgoosh six flags ad sorry wanna go on thee bo...       4\n",
              "709521            arggh that so so so bad wish you to come       0\n",
              "...                                                    ...     ...\n",
              "689718   my parents are on party im alone and must clea...       0\n",
              "856013   have great day ride your scooter around town a...       4\n",
              "324814   need to write but when sit down the words just...       0\n",
              "430920   want to go for walk but nobody is awake to com...       0\n",
              "879542   simple tell her there was problem in lightroom...       4\n",
              "\n",
              "[1596041 rows x 2 columns]"
            ]
          },
          "metadata": {
            "tags": []
          },
          "execution_count": 150
        }
      ]
    },
    {
      "cell_type": "code",
      "metadata": {
        "id": "8jGBIIXXp1x1",
        "colab_type": "code",
        "colab": {}
      },
      "source": [
        "# x_data = sample_data['tweet_text'].sample(frac=.795, random_state=2000)\n",
        "# y_data = sample_data['target'].sample(frac=.795, random_state=2000)\n",
        "# x_data"
      ],
      "execution_count": 0,
      "outputs": []
    },
    {
      "cell_type": "code",
      "metadata": {
        "id": "DCuKxWh9peq3",
        "colab_type": "code",
        "colab": {}
      },
      "source": [
        "# remaining_set = sample_data.loc[~sample_data['tweet_text'].index.isin(x_data.index), :]\n",
        "# remaining_set\n"
      ],
      "execution_count": 0,
      "outputs": []
    },
    {
      "cell_type": "code",
      "metadata": {
        "id": "TF1XEspWhd99",
        "colab_type": "code",
        "colab": {}
      },
      "source": [
        "# x_train = data['tweet_text'].sample(frac=.90, random_state=2000)\n",
        "# y_train = data['target'].sample(frac=.90, random_state=2000)\n",
        "# remaining_set = data.loc[~data['tweet_text'].index.isin(x_train.index), :]\n",
        "# remaining_set #no overlap\n",
        "\n",
        "# x_validation = remaining_set['tweet_text'].sample(frac=1, random_state=2000)\n",
        "# x_validation\n",
        "# y_validation = remaining_set['target'].sample(frac=1, random_state=2000)\n",
        "# y_validation\n",
        "\n",
        "\n",
        "X = []\n",
        "tweets = list(sample_data['tweet_text'])\n",
        "for lines in tweets:\n",
        "    X.append(lines)"
      ],
      "execution_count": 0,
      "outputs": []
    },
    {
      "cell_type": "code",
      "metadata": {
        "id": "z1i-8g5Cr6Md",
        "colab_type": "code",
        "outputId": "48c474cd-e68d-437b-9235-61edbc0acfeb",
        "colab": {
          "base_uri": "https://localhost:8080/",
          "height": 34
        }
      },
      "source": [
        "len(X)"
      ],
      "execution_count": 153,
      "outputs": [
        {
          "output_type": "execute_result",
          "data": {
            "text/plain": [
              "1596041"
            ]
          },
          "metadata": {
            "tags": []
          },
          "execution_count": 153
        }
      ]
    },
    {
      "cell_type": "code",
      "metadata": {
        "id": "63gsVkazhjEy",
        "colab_type": "code",
        "colab": {}
      },
      "source": [
        "y = sample_data['target']\n",
        "\n",
        "#1 == positive, 0 == negative\n",
        "y = np.array(list(map(lambda x: 0 if x==0 else 1, y))) "
      ],
      "execution_count": 0,
      "outputs": []
    },
    {
      "cell_type": "code",
      "metadata": {
        "id": "06XOB49ChnO8",
        "colab_type": "code",
        "colab": {}
      },
      "source": [
        "from numpy import array\n",
        "from keras.preprocessing.text import one_hot\n",
        "from keras.preprocessing.sequence import pad_sequences\n",
        "from keras.preprocessing.text import Tokenizer\n",
        "from sklearn.model_selection import train_test_split, StratifiedKFold\n",
        "\n",
        "# X_train, X_test, y_train, y_test = train_test_split(X, y, test_size=0.20, random_state=42)\n",
        "X_train = X \n",
        "y_train = y\n"
      ],
      "execution_count": 0,
      "outputs": []
    },
    {
      "cell_type": "code",
      "metadata": {
        "id": "nq3CgSWYEFJq",
        "colab_type": "code",
        "outputId": "6b354dba-b30d-49f4-f98a-dd152d8d83bd",
        "colab": {
          "base_uri": "https://localhost:8080/",
          "height": 34
        }
      },
      "source": [
        "len(y_train)"
      ],
      "execution_count": 156,
      "outputs": [
        {
          "output_type": "execute_result",
          "data": {
            "text/plain": [
              "1596041"
            ]
          },
          "metadata": {
            "tags": []
          },
          "execution_count": 156
        }
      ]
    },
    {
      "cell_type": "code",
      "metadata": {
        "id": "utYLjJQdhryF",
        "colab_type": "code",
        "outputId": "98135af5-aca9-42a7-a6a1-891dd45f566c",
        "colab": {
          "base_uri": "https://localhost:8080/",
          "height": 34
        }
      },
      "source": [
        "len(X_train)"
      ],
      "execution_count": 157,
      "outputs": [
        {
          "output_type": "execute_result",
          "data": {
            "text/plain": [
              "1596041"
            ]
          },
          "metadata": {
            "tags": []
          },
          "execution_count": 157
        }
      ]
    },
    {
      "cell_type": "code",
      "metadata": {
        "id": "vGiPG4Xthzp9",
        "colab_type": "code",
        "outputId": "6f5fd9ba-ad60-4112-ecc1-794f0aad25b8",
        "colab": {
          "base_uri": "https://localhost:8080/",
          "height": 419
        }
      },
      "source": [
        "columns = ['polarity','tweet_id','date','query_string','username','tweet_text']\n",
        "\n",
        "\n",
        "test = pd.read_csv(\"drive/My Drive/testdata.csv\", sep=\",\", header = None, names=columns)\n",
        "test"
      ],
      "execution_count": 158,
      "outputs": [
        {
          "output_type": "execute_result",
          "data": {
            "text/html": [
              "<div>\n",
              "<style scoped>\n",
              "    .dataframe tbody tr th:only-of-type {\n",
              "        vertical-align: middle;\n",
              "    }\n",
              "\n",
              "    .dataframe tbody tr th {\n",
              "        vertical-align: top;\n",
              "    }\n",
              "\n",
              "    .dataframe thead th {\n",
              "        text-align: right;\n",
              "    }\n",
              "</style>\n",
              "<table border=\"1\" class=\"dataframe\">\n",
              "  <thead>\n",
              "    <tr style=\"text-align: right;\">\n",
              "      <th></th>\n",
              "      <th>polarity</th>\n",
              "      <th>tweet_id</th>\n",
              "      <th>date</th>\n",
              "      <th>query_string</th>\n",
              "      <th>username</th>\n",
              "      <th>tweet_text</th>\n",
              "    </tr>\n",
              "  </thead>\n",
              "  <tbody>\n",
              "    <tr>\n",
              "      <th>0</th>\n",
              "      <td>4</td>\n",
              "      <td>3</td>\n",
              "      <td>Mon May 11 03:17:40 UTC 2009</td>\n",
              "      <td>kindle2</td>\n",
              "      <td>tpryan</td>\n",
              "      <td>@stellargirl I loooooooovvvvvveee my Kindle2. ...</td>\n",
              "    </tr>\n",
              "    <tr>\n",
              "      <th>1</th>\n",
              "      <td>4</td>\n",
              "      <td>4</td>\n",
              "      <td>Mon May 11 03:18:03 UTC 2009</td>\n",
              "      <td>kindle2</td>\n",
              "      <td>vcu451</td>\n",
              "      <td>Reading my kindle2...  Love it... Lee childs i...</td>\n",
              "    </tr>\n",
              "    <tr>\n",
              "      <th>2</th>\n",
              "      <td>4</td>\n",
              "      <td>5</td>\n",
              "      <td>Mon May 11 03:18:54 UTC 2009</td>\n",
              "      <td>kindle2</td>\n",
              "      <td>chadfu</td>\n",
              "      <td>Ok, first assesment of the #kindle2 ...it fuck...</td>\n",
              "    </tr>\n",
              "    <tr>\n",
              "      <th>3</th>\n",
              "      <td>4</td>\n",
              "      <td>6</td>\n",
              "      <td>Mon May 11 03:19:04 UTC 2009</td>\n",
              "      <td>kindle2</td>\n",
              "      <td>SIX15</td>\n",
              "      <td>@kenburbary You'll love your Kindle2. I've had...</td>\n",
              "    </tr>\n",
              "    <tr>\n",
              "      <th>4</th>\n",
              "      <td>4</td>\n",
              "      <td>7</td>\n",
              "      <td>Mon May 11 03:21:41 UTC 2009</td>\n",
              "      <td>kindle2</td>\n",
              "      <td>yamarama</td>\n",
              "      <td>@mikefish  Fair enough. But i have the Kindle2...</td>\n",
              "    </tr>\n",
              "    <tr>\n",
              "      <th>...</th>\n",
              "      <td>...</td>\n",
              "      <td>...</td>\n",
              "      <td>...</td>\n",
              "      <td>...</td>\n",
              "      <td>...</td>\n",
              "      <td>...</td>\n",
              "    </tr>\n",
              "    <tr>\n",
              "      <th>493</th>\n",
              "      <td>2</td>\n",
              "      <td>14072</td>\n",
              "      <td>Sun Jun 14 04:31:43 UTC 2009</td>\n",
              "      <td>latex</td>\n",
              "      <td>proggit</td>\n",
              "      <td>Ask Programming: LaTeX or InDesign?: submitted...</td>\n",
              "    </tr>\n",
              "    <tr>\n",
              "      <th>494</th>\n",
              "      <td>0</td>\n",
              "      <td>14073</td>\n",
              "      <td>Sun Jun 14 04:32:17 UTC 2009</td>\n",
              "      <td>latex</td>\n",
              "      <td>sam33r</td>\n",
              "      <td>On that note, I hate Word. I hate Pages. I hat...</td>\n",
              "    </tr>\n",
              "    <tr>\n",
              "      <th>495</th>\n",
              "      <td>4</td>\n",
              "      <td>14074</td>\n",
              "      <td>Sun Jun 14 04:36:34 UTC 2009</td>\n",
              "      <td>latex</td>\n",
              "      <td>iamtheonlyjosie</td>\n",
              "      <td>Ahhh... back in a *real* text editing environm...</td>\n",
              "    </tr>\n",
              "    <tr>\n",
              "      <th>496</th>\n",
              "      <td>0</td>\n",
              "      <td>14075</td>\n",
              "      <td>Sun Jun 14 21:36:07 UTC 2009</td>\n",
              "      <td>iran</td>\n",
              "      <td>plutopup7</td>\n",
              "      <td>Trouble in Iran, I see. Hmm. Iran. Iran so far...</td>\n",
              "    </tr>\n",
              "    <tr>\n",
              "      <th>497</th>\n",
              "      <td>0</td>\n",
              "      <td>14076</td>\n",
              "      <td>Sun Jun 14 21:36:17 UTC 2009</td>\n",
              "      <td>iran</td>\n",
              "      <td>captain_pete</td>\n",
              "      <td>Reading the tweets coming out of Iran... The w...</td>\n",
              "    </tr>\n",
              "  </tbody>\n",
              "</table>\n",
              "<p>498 rows × 6 columns</p>\n",
              "</div>"
            ],
            "text/plain": [
              "     polarity  ...                                         tweet_text\n",
              "0           4  ...  @stellargirl I loooooooovvvvvveee my Kindle2. ...\n",
              "1           4  ...  Reading my kindle2...  Love it... Lee childs i...\n",
              "2           4  ...  Ok, first assesment of the #kindle2 ...it fuck...\n",
              "3           4  ...  @kenburbary You'll love your Kindle2. I've had...\n",
              "4           4  ...  @mikefish  Fair enough. But i have the Kindle2...\n",
              "..        ...  ...                                                ...\n",
              "493         2  ...  Ask Programming: LaTeX or InDesign?: submitted...\n",
              "494         0  ...  On that note, I hate Word. I hate Pages. I hat...\n",
              "495         4  ...  Ahhh... back in a *real* text editing environm...\n",
              "496         0  ...  Trouble in Iran, I see. Hmm. Iran. Iran so far...\n",
              "497         0  ...  Reading the tweets coming out of Iran... The w...\n",
              "\n",
              "[498 rows x 6 columns]"
            ]
          },
          "metadata": {
            "tags": []
          },
          "execution_count": 158
        }
      ]
    },
    {
      "cell_type": "code",
      "metadata": {
        "id": "gaLW92KhVDqx",
        "colab_type": "code",
        "outputId": "013a60ff-f1a4-49a2-9470-f6ee67e88cc8",
        "colab": {
          "base_uri": "https://localhost:8080/",
          "height": 85
        }
      },
      "source": [
        "test.polarity.value_counts() #80,000 positive and negative examples \n"
      ],
      "execution_count": 159,
      "outputs": [
        {
          "output_type": "execute_result",
          "data": {
            "text/plain": [
              "4    182\n",
              "0    177\n",
              "2    139\n",
              "Name: polarity, dtype: int64"
            ]
          },
          "metadata": {
            "tags": []
          },
          "execution_count": 159
        }
      ]
    },
    {
      "cell_type": "code",
      "metadata": {
        "id": "QiUCwJDygcm6",
        "colab_type": "code",
        "colab": {}
      },
      "source": [
        "test = test[test.polarity != 2] #Drop neutral rows for binary classification (postive or negative)\n"
      ],
      "execution_count": 0,
      "outputs": []
    },
    {
      "cell_type": "code",
      "metadata": {
        "id": "qHsdiHEbglZX",
        "colab_type": "code",
        "outputId": "c77cbc2d-28fc-40e6-a7bf-3d534dc29916",
        "colab": {
          "base_uri": "https://localhost:8080/",
          "height": 68
        }
      },
      "source": [
        "test.polarity.value_counts() #80,000 positive and negative examples \n"
      ],
      "execution_count": 161,
      "outputs": [
        {
          "output_type": "execute_result",
          "data": {
            "text/plain": [
              "4    182\n",
              "0    177\n",
              "Name: polarity, dtype: int64"
            ]
          },
          "metadata": {
            "tags": []
          },
          "execution_count": 161
        }
      ]
    },
    {
      "cell_type": "code",
      "metadata": {
        "id": "dYIQt35ih2Qh",
        "colab_type": "code",
        "outputId": "01cc67ff-9b31-4643-e7cd-cb79fdbba7e2",
        "colab": {
          "base_uri": "https://localhost:8080/",
          "height": 221
        }
      },
      "source": [
        "x_test = test['tweet_text']\n",
        "x_test"
      ],
      "execution_count": 162,
      "outputs": [
        {
          "output_type": "execute_result",
          "data": {
            "text/plain": [
              "0      @stellargirl I loooooooovvvvvveee my Kindle2. ...\n",
              "1      Reading my kindle2...  Love it... Lee childs i...\n",
              "2      Ok, first assesment of the #kindle2 ...it fuck...\n",
              "3      @kenburbary You'll love your Kindle2. I've had...\n",
              "4      @mikefish  Fair enough. But i have the Kindle2...\n",
              "                             ...                        \n",
              "492    After using LaTeX a lot, any other typeset mat...\n",
              "494    On that note, I hate Word. I hate Pages. I hat...\n",
              "495    Ahhh... back in a *real* text editing environm...\n",
              "496    Trouble in Iran, I see. Hmm. Iran. Iran so far...\n",
              "497    Reading the tweets coming out of Iran... The w...\n",
              "Name: tweet_text, Length: 359, dtype: object"
            ]
          },
          "metadata": {
            "tags": []
          },
          "execution_count": 162
        }
      ]
    },
    {
      "cell_type": "code",
      "metadata": {
        "id": "a9107SsJh4ey",
        "colab_type": "code",
        "outputId": "505af056-5090-4d7e-9e43-3acbb9ccec67",
        "colab": {
          "base_uri": "https://localhost:8080/",
          "height": 221
        }
      },
      "source": [
        "y_test = test['polarity']\n",
        "y_test"
      ],
      "execution_count": 163,
      "outputs": [
        {
          "output_type": "execute_result",
          "data": {
            "text/plain": [
              "0      4\n",
              "1      4\n",
              "2      4\n",
              "3      4\n",
              "4      4\n",
              "      ..\n",
              "492    4\n",
              "494    0\n",
              "495    4\n",
              "496    0\n",
              "497    0\n",
              "Name: polarity, Length: 359, dtype: int64"
            ]
          },
          "metadata": {
            "tags": []
          },
          "execution_count": 163
        }
      ]
    },
    {
      "cell_type": "code",
      "metadata": {
        "id": "d0mrG6kWUgvz",
        "colab_type": "code",
        "colab": {}
      },
      "source": [
        "X_test = []\n",
        "tweets = list(test['tweet_text'])\n",
        "for lines in tweets:\n",
        "    X_test.append(lines)\n",
        "\n",
        "y_test = test['polarity']\n",
        "\n",
        "#1 == positive, 0 == negative\n",
        "y_test = np.array(list(map(lambda x: 0 if x==0 else 1, y_test))) "
      ],
      "execution_count": 0,
      "outputs": []
    },
    {
      "cell_type": "code",
      "metadata": {
        "id": "5SsBCzigh9Wd",
        "colab_type": "code",
        "colab": {}
      },
      "source": [
        "from keras.preprocessing.text import Tokenizer\n",
        "from keras.preprocessing.sequence import pad_sequences\n",
        "\n",
        "tokenizer = Tokenizer(num_words=10000)\n",
        "tokenizer.fit_on_texts(X_train)\n",
        "\n",
        "X_train = tokenizer.texts_to_sequences(X_train)\n",
        "X_test = tokenizer.texts_to_sequences(x_test)"
      ],
      "execution_count": 0,
      "outputs": []
    },
    {
      "cell_type": "code",
      "metadata": {
        "id": "RRKV3TWrin8k",
        "colab_type": "code",
        "colab": {}
      },
      "source": [
        "vocab_size = len(tokenizer.word_index) + 1\n",
        "\n",
        "maxlen = 50\n",
        "\n",
        "X_train = pad_sequences(X_train, padding='post', maxlen=maxlen)\n",
        "X_test = pad_sequences(X_test, padding='post', maxlen=maxlen)\n"
      ],
      "execution_count": 0,
      "outputs": []
    },
    {
      "cell_type": "code",
      "metadata": {
        "id": "FM7Wk5lewoEe",
        "colab_type": "code",
        "outputId": "fdaa86e5-0f64-4777-c0c4-c1cfdabf128b",
        "colab": {
          "base_uri": "https://localhost:8080/",
          "height": 34
        }
      },
      "source": [
        "len(X_train)\n"
      ],
      "execution_count": 167,
      "outputs": [
        {
          "output_type": "execute_result",
          "data": {
            "text/plain": [
              "1596041"
            ]
          },
          "metadata": {
            "tags": []
          },
          "execution_count": 167
        }
      ]
    },
    {
      "cell_type": "code",
      "metadata": {
        "id": "n0cTPkvCwsrr",
        "colab_type": "code",
        "outputId": "bb192f52-a133-414d-afcf-13826737a7e4",
        "colab": {
          "base_uri": "https://localhost:8080/",
          "height": 34
        }
      },
      "source": [
        "len(X_test)"
      ],
      "execution_count": 168,
      "outputs": [
        {
          "output_type": "execute_result",
          "data": {
            "text/plain": [
              "359"
            ]
          },
          "metadata": {
            "tags": []
          },
          "execution_count": 168
        }
      ]
    },
    {
      "cell_type": "code",
      "metadata": {
        "id": "LqW3d3hYm5l5",
        "colab_type": "code",
        "colab": {}
      },
      "source": [
        "from numpy import array\n",
        "from numpy import asarray\n",
        "from numpy import zeros\n",
        "\n",
        "embeddings_dictionary = dict()\n",
        "glove_file = open('drive/My Drive/glove.6B.200d.txt', encoding=\"utf8\")\n",
        "\n",
        "for line in glove_file:\n",
        "    records = line.split()\n",
        "    word = records[0]\n",
        "    vector_dimensions = asarray(records[1:], dtype='float32')\n",
        "    embeddings_dictionary [word] = vector_dimensions\n",
        "glove_file.close()"
      ],
      "execution_count": 0,
      "outputs": []
    },
    {
      "cell_type": "code",
      "metadata": {
        "id": "ucfyltrUn6e5",
        "colab_type": "code",
        "colab": {}
      },
      "source": [
        "embedding_matrix = zeros((vocab_size, 200))\n",
        "for word, index in tokenizer.word_index.items():\n",
        "    embedding_vector = embeddings_dictionary.get(word)\n",
        "    if embedding_vector is not None:\n",
        "        embedding_matrix[index] = embedding_vector"
      ],
      "execution_count": 0,
      "outputs": []
    },
    {
      "cell_type": "code",
      "metadata": {
        "id": "L644pTOKn69m",
        "colab_type": "code",
        "colab": {}
      },
      "source": [
        "import keras\n",
        "from keras.models import Sequential\n",
        "from keras.layers import Dense, Dropout, Activation\n",
        "from keras.layers import Conv1D, GlobalMaxPooling1D\n",
        "from keras.layers.embeddings import Embedding\n",
        "from keras.layers import Flatten\n",
        "\n",
        "def get_model():\n",
        "\n",
        "  model = Sequential()\n",
        "\n",
        "  embedding_layer = Embedding(vocab_size, 200, weights=[embedding_matrix], input_length=maxlen , trainable=False)\n",
        "  model.add(embedding_layer)\n",
        "\n",
        "  model.add(Conv1D(128, 5, activation='relu'))\n",
        "  model.add(GlobalMaxPooling1D())\n",
        "  model.add(Dense(1, activation='sigmoid'))\n",
        "  model.compile(optimizer='adam', loss='binary_crossentropy', metrics=['acc'])\n",
        "\n",
        "  return model "
      ],
      "execution_count": 0,
      "outputs": []
    },
    {
      "cell_type": "code",
      "metadata": {
        "id": "khgmUP9AnBV8",
        "colab_type": "code",
        "colab": {}
      },
      "source": [
        "model = get_model()"
      ],
      "execution_count": 0,
      "outputs": []
    },
    {
      "cell_type": "code",
      "metadata": {
        "id": "GjiggA87pWNH",
        "colab_type": "code",
        "outputId": "a97553b2-6ec0-4b9d-cd02-eb89fdec66ad",
        "colab": {
          "base_uri": "https://localhost:8080/",
          "height": 238
        }
      },
      "source": [
        "# early_stopping = keras.callbacks.EarlyStopping(patience=3, verbose=2, mode='auto', min_delta=0.00005)\n",
        "\n",
        "history = model.fit(X_train, y_train, batch_size=64, epochs=6, verbose=1, validation_split=0.2)\n",
        "\n"
      ],
      "execution_count": 173,
      "outputs": [
        {
          "output_type": "stream",
          "text": [
            "Train on 1276832 samples, validate on 319209 samples\n",
            "Epoch 1/6\n",
            "1276832/1276832 [==============================] - 98s 77us/step - loss: 0.4595 - acc: 0.7830 - val_loss: 0.4382 - val_acc: 0.7955\n",
            "Epoch 2/6\n",
            "1276832/1276832 [==============================] - 96s 75us/step - loss: 0.4276 - acc: 0.8030 - val_loss: 0.4356 - val_acc: 0.7976\n",
            "Epoch 3/6\n",
            "1276832/1276832 [==============================] - 96s 75us/step - loss: 0.4143 - acc: 0.8111 - val_loss: 0.4367 - val_acc: 0.8005\n",
            "Epoch 4/6\n",
            "1276832/1276832 [==============================] - 96s 75us/step - loss: 0.4048 - acc: 0.8159 - val_loss: 0.4301 - val_acc: 0.8040\n",
            "Epoch 5/6\n",
            "1276832/1276832 [==============================] - 96s 75us/step - loss: 0.3972 - acc: 0.8202 - val_loss: 0.4310 - val_acc: 0.8035\n",
            "Epoch 6/6\n",
            "1276832/1276832 [==============================] - 96s 75us/step - loss: 0.3916 - acc: 0.8235 - val_loss: 0.4307 - val_acc: 0.8036\n"
          ],
          "name": "stdout"
        }
      ]
    },
    {
      "cell_type": "code",
      "metadata": {
        "id": "ykPql7hwgF4O",
        "colab_type": "code",
        "outputId": "5171c178-3aff-4777-91c8-fa6b529c0b7f",
        "colab": {
          "base_uri": "https://localhost:8080/",
          "height": 34
        }
      },
      "source": [
        "score = model.evaluate(X_test, y_test, verbose=1)"
      ],
      "execution_count": 174,
      "outputs": [
        {
          "output_type": "stream",
          "text": [
            "359/359 [==============================] - 0s 80us/step\n"
          ],
          "name": "stdout"
        }
      ]
    },
    {
      "cell_type": "code",
      "metadata": {
        "id": "VNT--A7tt_FT",
        "colab_type": "code",
        "outputId": "bcea00b9-5f62-4e04-a75f-fa2d48bb156f",
        "colab": {
          "base_uri": "https://localhost:8080/",
          "height": 51
        }
      },
      "source": [
        "print(\"Test Score:\", score[0])\n",
        "print(\"Test Accuracy:\", score[1]) #Train on 80440 samples, validate on 20111 samples: Test Accuracy: 0.7966573819476582, Test Score: 0.5130204541769532, 6 epochs\n",
        "\n",
        "#Dropping rows with neutral label improved acc(better than neutral points being labeled as positive (.777))\n",
        "#(and better than neutral points being labeled as negative(.668))"
      ],
      "execution_count": 175,
      "outputs": [
        {
          "output_type": "stream",
          "text": [
            "Test Score: 0.42896397449179946\n",
            "Test Accuracy: 0.8022284125883267\n"
          ],
          "name": "stdout"
        }
      ]
    },
    {
      "cell_type": "code",
      "metadata": {
        "id": "TQUGs6aDJEGD",
        "colab_type": "code",
        "colab": {
          "base_uri": "https://localhost:8080/",
          "height": 573
        },
        "outputId": "d85aca99-fddb-4fa8-f6a7-e374592ab35e"
      },
      "source": [
        "#Graphs\n",
        "\n",
        "import matplotlib.pyplot as plt\n",
        "%matplotlib inline\n",
        "\n",
        "plt.plot(history.history['acc'])\n",
        "plt.plot(history.history['val_acc'])\n",
        "\n",
        "plt.title('CNN 1 Model Accuracy (frac =1)')\n",
        "plt.ylabel('Accuracy')\n",
        "plt.xlabel('Epoch')\n",
        "plt.legend(['train','validation'], loc = 'upper left')\n",
        "plt.show()\n",
        "\n",
        "plt.plot(history.history['loss'])\n",
        "plt.plot(history.history['val_loss'])\n",
        "\n",
        "plt.title('CNN 1 Model Loss (frac =1)')\n",
        "plt.ylabel('Loss')\n",
        "plt.xlabel('Epoch')\n",
        "plt.legend(['train','validation'], loc = 'upper left')\n",
        "plt.show()"
      ],
      "execution_count": 176,
      "outputs": [
        {
          "output_type": "display_data",
          "data": {
            "image/png": "[encoded data removed]",
            "text/plain": [
              "<Figure size 432x288 with 1 Axes>"
            ]
          },
          "metadata": {
            "tags": []
          }
        },
        {
          "output_type": "display_data",
          "data": {
            "image/png": "[encoded data removed]",
            "text/plain": [
              "<Figure size 432x288 with 1 Axes>"
            ]
          },
          "metadata": {
            "tags": []
          }
        }
      ]
    },
    {
      "cell_type": "code",
      "metadata": {
        "id": "cqoyfQyDFOvw",
        "colab_type": "code",
        "colab": {
          "base_uri": "https://localhost:8080/",
          "height": 782
        },
        "outputId": "7b91deb2-72e8-4cbf-f3bc-b0716bd01ac7"
      },
      "source": [
        "#K-Fold Experiments \n",
        "\n",
        "folds = StratifiedKFold(n_splits=3, shuffle=True, random_state=1)\n",
        "cvscores = []\n",
        "historyscores = []\n",
        "i = 0\n",
        "\n",
        "for train, test in folds.split(X_train, y_train):\n",
        "  print(\"Fold: \", i)\n",
        "\n",
        "  model2 = get_model()\n",
        "\n",
        "  history2 = model2.fit(X_train[train], y_train[train], batch_size=32, epochs=6, verbose=1)\n",
        "  historyscores.append(history2.history['acc'])\n",
        "  scores = model2.evaluate(X_train[test], y_train[test], verbose=1)\n",
        "  print(\"%s: %.2f%%\" % (model2.metrics_names[1], scores[1]*100))\n",
        "  cvscores.append(scores[1] * 100)\n",
        "  i += 1"
      ],
      "execution_count": 177,
      "outputs": [
        {
          "output_type": "stream",
          "text": [
            "Fold:  0\n",
            "Epoch 1/6\n",
            "1064027/1064027 [==============================] - 143s 134us/step - loss: 0.4646 - acc: 0.7798\n",
            "Epoch 2/6\n",
            "1064027/1064027 [==============================] - 141s 133us/step - loss: 0.4327 - acc: 0.8001\n",
            "Epoch 3/6\n",
            "1064027/1064027 [==============================] - 142s 133us/step - loss: 0.4188 - acc: 0.8084\n",
            "Epoch 4/6\n",
            "1064027/1064027 [==============================] - 141s 132us/step - loss: 0.4081 - acc: 0.8142\n",
            "Epoch 5/6\n",
            "1064027/1064027 [==============================] - 141s 132us/step - loss: 0.4002 - acc: 0.8190\n",
            "Epoch 6/6\n",
            "1064027/1064027 [==============================] - 140s 132us/step - loss: 0.3933 - acc: 0.8230\n",
            "532014/532014 [==============================] - 25s 46us/step\n",
            "acc: 80.03%\n",
            "Fold:  1\n",
            "Epoch 1/6\n",
            "1064027/1064027 [==============================] - 147s 138us/step - loss: 0.4641 - acc: 0.7804\n",
            "Epoch 2/6\n",
            "1064027/1064027 [==============================] - 146s 137us/step - loss: 0.4333 - acc: 0.7999\n",
            "Epoch 3/6\n",
            "1064027/1064027 [==============================] - 145s 137us/step - loss: 0.4190 - acc: 0.8083\n",
            "Epoch 4/6\n",
            "1064027/1064027 [==============================] - 143s 135us/step - loss: 0.4090 - acc: 0.8141\n",
            "Epoch 5/6\n",
            "1064027/1064027 [==============================] - 145s 136us/step - loss: 0.4005 - acc: 0.8183\n",
            "Epoch 6/6\n",
            "1064027/1064027 [==============================] - 143s 134us/step - loss: 0.3942 - acc: 0.8226\n",
            "532014/532014 [==============================] - 24s 45us/step\n",
            "acc: 80.01%\n",
            "Fold:  2\n",
            "Epoch 1/6\n",
            "1064028/1064028 [==============================] - 140s 131us/step - loss: 0.4646 - acc: 0.7801\n",
            "Epoch 2/6\n",
            "1064028/1064028 [==============================] - 136s 128us/step - loss: 0.4329 - acc: 0.8005\n",
            "Epoch 3/6\n",
            "1064028/1064028 [==============================] - 136s 128us/step - loss: 0.4188 - acc: 0.8085\n",
            "Epoch 4/6\n",
            "1064028/1064028 [==============================] - 137s 129us/step - loss: 0.4081 - acc: 0.8146\n",
            "Epoch 5/6\n",
            "1064028/1064028 [==============================] - 136s 128us/step - loss: 0.4001 - acc: 0.8190\n",
            "Epoch 6/6\n",
            "1064028/1064028 [==============================] - 138s 130us/step - loss: 0.3934 - acc: 0.8226\n",
            "532013/532013 [==============================] - 24s 46us/step\n",
            "acc: 80.00%\n"
          ],
          "name": "stdout"
        }
      ]
    },
    {
      "cell_type": "code",
      "metadata": {
        "id": "T8vjPkrvtmgx",
        "colab_type": "code",
        "outputId": "f8395ba1-f55d-441f-fb76-449ede1d8916",
        "colab": {
          "base_uri": "https://localhost:8080/",
          "height": 34
        }
      },
      "source": [
        "score2 = model2.evaluate(X_test, y_test, verbose=1)"
      ],
      "execution_count": 178,
      "outputs": [
        {
          "output_type": "stream",
          "text": [
            "359/359 [==============================] - 0s 77us/step\n"
          ],
          "name": "stdout"
        }
      ]
    },
    {
      "cell_type": "code",
      "metadata": {
        "id": "wYjHj1nwHP1g",
        "colab_type": "code",
        "colab": {
          "base_uri": "https://localhost:8080/",
          "height": 51
        },
        "outputId": "e6394a0d-149c-4a39-cc53-0ee3045cceed"
      },
      "source": [
        "print(score2[0])\n",
        "print(score2[1])"
      ],
      "execution_count": 179,
      "outputs": [
        {
          "output_type": "stream",
          "text": [
            "0.4699744675152813\n",
            "0.805013927908661\n"
          ],
          "name": "stdout"
        }
      ]
    },
    {
      "cell_type": "code",
      "metadata": {
        "id": "hATP9ig0Hs_z",
        "colab_type": "code",
        "colab": {}
      },
      "source": [
        "# history2.history"
      ],
      "execution_count": 0,
      "outputs": []
    },
    {
      "cell_type": "code",
      "metadata": {
        "id": "TIFlqEGLw0et",
        "colab_type": "code",
        "colab": {
          "base_uri": "https://localhost:8080/",
          "height": 323
        },
        "outputId": "b81e16e1-4e0a-4d42-9432-2d029e2036c1"
      },
      "source": [
        "allscores = []\n",
        "for i in historyscores:\n",
        "    for j in i:\n",
        "        allscores.append(j)\n",
        "allscores"
      ],
      "execution_count": 181,
      "outputs": [
        {
          "output_type": "execute_result",
          "data": {
            "text/plain": [
              "[0.7798260758414443,\n",
              " 0.8000887195533373,\n",
              " 0.80842591400423,\n",
              " 0.8141823468772642,\n",
              " 0.8189623007694118,\n",
              " 0.8230214082914991,\n",
              " 0.7803523782764513,\n",
              " 0.7998932357917248,\n",
              " 0.8082511064098377,\n",
              " 0.8141005820338785,\n",
              " 0.8183467148863306,\n",
              " 0.8225825096539682,\n",
              " 0.7800884939122625,\n",
              " 0.800546602156862,\n",
              " 0.8084975207419354,\n",
              " 0.8145988639396707,\n",
              " 0.818970929336222,\n",
              " 0.8225638798985696]"
            ]
          },
          "metadata": {
            "tags": []
          },
          "execution_count": 181
        }
      ]
    },
    {
      "cell_type": "code",
      "metadata": {
        "id": "FuVUTtH-s2Qj",
        "colab_type": "code",
        "outputId": "9aa8fc13-d97f-4ca2-984c-8951fe04a458",
        "colab": {
          "base_uri": "https://localhost:8080/",
          "height": 573
        }
      },
      "source": [
        "import matplotlib.pyplot as plt\n",
        "%matplotlib inline\n",
        "\n",
        "plt.plot(allscores)\n",
        "# plt.plot(history.history['val_acc'])\n",
        "\n",
        "plt.title('CNN 1 K-Fold Accuracy (frac=1)')\n",
        "plt.ylabel('Accuracy')\n",
        "plt.xlabel('Epoch')\n",
        "plt.legend(['train'], loc = 'upper left')\n",
        "plt.show()\n",
        "\n",
        "plt.plot(history2.history['loss'])\n",
        "# plt.plot(history.history['val_loss'])\n",
        "\n",
        "plt.title('CNN 1 K-Fold Loss (frac=1)')\n",
        "plt.ylabel('Loss')\n",
        "plt.xlabel('Epoch')\n",
        "plt.legend(['train'], loc = 'upper left')\n",
        "plt.show()"
      ],
      "execution_count": 182,
      "outputs": [
        {
          "output_type": "display_data",
          "data": {
            "image/png": "[encoded data removed]",
            "text/plain": [
              "<Figure size 432x288 with 1 Axes>"
            ]
          },
          "metadata": {
            "tags": []
          }
        },
        {
          "output_type": "display_data",
          "data": {
            "image/png": "[encoded data removed]",
            "text/plain": [
              "<Figure size 432x288 with 1 Axes>"
            ]
          },
          "metadata": {
            "tags": []
          }
        }
      ]
    },
    {
      "cell_type": "code",
      "metadata": {
        "id": "2cteQPjOs6H1",
        "colab_type": "code",
        "colab": {
          "base_uri": "https://localhost:8080/",
          "height": 295
        },
        "outputId": "a295613c-3b51-483e-e1ff-58aba3a70947"
      },
      "source": [
        "plt.plot(cvscores)\n",
        "\n",
        "plt.title('CNN 1 K-Fold Validation Accuracy (frac=1)')\n",
        "plt.ylabel('Validation Accuracy')\n",
        "plt.xlabel('K Fold Iteration')\n",
        "plt.legend(['Validation '], loc = 'upper left')\n",
        "plt.show()"
      ],
      "execution_count": 183,
      "outputs": [
        {
          "output_type": "display_data",
          "data": {
            "image/png": "[encoded data removed]",
            "text/plain": [
              "<Figure size 432x288 with 1 Axes>"
            ]
          },
          "metadata": {
            "tags": []
          }
        }
      ]
    },
    {
      "cell_type": "code",
      "metadata": {
        "id": "mWgNlFv_zXRg",
        "colab_type": "code",
        "colab": {}
      },
      "source": [
        ""
      ],
      "execution_count": 0,
      "outputs": []
    }
  ]
}